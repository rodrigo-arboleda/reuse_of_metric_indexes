{
 "cells": [
  {
   "cell_type": "code",
   "execution_count": 16,
   "id": "f1f0563e",
   "metadata": {},
   "outputs": [],
   "source": [
    "import json\n",
    "import pandas as pd\n",
    "import plotly.graph_objects as go\n",
    "from plotly.subplots import make_subplots\n",
    "import numpy as np # Usado para lidar com dados ausentes (NaN)\n",
    "import collections # Para usar defaultdict"
   ]
  },
  {
   "cell_type": "code",
   "execution_count": 17,
   "id": "7c8eaccc",
   "metadata": {},
   "outputs": [
    {
     "name": "stdout",
     "output_type": "stream",
     "text": [
      "{'tree-0': {'data-0': {'radius-0': {'avg_time': 3.88789, 'disk_access': 218.26, 'avg_dist_calc': 358.38, 'avg_obj_result': 1.006, 'radius': 0, 'num_consults': 500}, 'radius-11151': {'avg_time': 9.12274, 'disk_access': 238.024, 'avg_dist_calc': 3143.81, 'avg_obj_result': 1.242, 'radius': 11151, 'num_consults': 500}, 'radius-22302': {'avg_time': 14.1467, 'disk_access': 257.28, 'avg_dist_calc': 5771.01, 'avg_obj_result': 13.696, 'radius': 22302, 'num_consults': 500}, 'radius-33453': {'avg_time': 17.5907, 'disk_access': 274.984, 'avg_dist_calc': 8140.77, 'avg_obj_result': 62.012, 'radius': 33453, 'num_consults': 500}, 'radius-44604': {'avg_time': 22.9583, 'disk_access': 290.954, 'avg_dist_calc': 10248.8, 'avg_obj_result': 165.388, 'radius': 44604, 'num_consults': 500}, 'radius-55755': {'avg_time': 25.6551, 'disk_access': 305.546, 'avg_dist_calc': 12101.3, 'avg_obj_result': 367.748, 'radius': 55755, 'num_consults': 500}, 'radius-66906': {'avg_time': 29.7855, 'disk_access': 318.328, 'avg_dist_calc': 13715.5, 'avg_obj_result': 717.356, 'radius': 66906, 'num_consults': 500}, 'radius-78057': {'avg_time': 33.1373, 'disk_access': 329.144, 'avg_dist_calc': 15079.4, 'avg_obj_result': 1264.11, 'radius': 78057, 'num_consults': 500}, 'radius-89208': {'avg_time': 35.73, 'disk_access': 338.308, 'avg_dist_calc': 16209.4, 'avg_obj_result': 2057.9, 'radius': 89208, 'num_consults': 500}, 'radius-89210': {'avg_time': 36.1493, 'disk_access': 338.31, 'avg_dist_calc': 16209.6, 'avg_obj_result': 2058.09, 'radius': 89210, 'num_consults': 500}}, 'data-1': {'radius-0': {'avg_time': 30.2185, 'disk_access': 218.738, 'avg_dist_calc': 6582.32, 'avg_obj_result': 1.006, 'radius': 0, 'num_consults': 500}, 'radius-5552': {'avg_time': 35.39, 'disk_access': 238.38, 'avg_dist_calc': 8032.1, 'avg_obj_result': 1.278, 'radius': 5552, 'num_consults': 500}, 'radius-11104': {'avg_time': 42.9648, 'disk_access': 257.586, 'avg_dist_calc': 9519.57, 'avg_obj_result': 13.954, 'radius': 11104, 'num_consults': 500}, 'radius-16656': {'avg_time': 50.7985, 'disk_access': 275.182, 'avg_dist_calc': 10976.3, 'avg_obj_result': 62.676, 'radius': 16656, 'num_consults': 500}, 'radius-22208': {'avg_time': 58.77, 'disk_access': 291.064, 'avg_dist_calc': 12371.3, 'avg_obj_result': 166.694, 'radius': 22208, 'num_consults': 500}, 'radius-27760': {'avg_time': 96.7856, 'disk_access': 305.572, 'avg_dist_calc': 13677.1, 'avg_obj_result': 370.086, 'radius': 27760, 'num_consults': 500}, 'radius-33312': {'avg_time': 90.9859, 'disk_access': 318.282, 'avg_dist_calc': 14876.6, 'avg_obj_result': 720.214, 'radius': 33312, 'num_consults': 500}, 'radius-38864': {'avg_time': 86.2557, 'disk_access': 329.046, 'avg_dist_calc': 15934.8, 'avg_obj_result': 1266.22, 'radius': 38864, 'num_consults': 500}, 'radius-44416': {'avg_time': 84.1479, 'disk_access': 338.192, 'avg_dist_calc': 16841, 'avg_obj_result': 2056.84, 'radius': 44416, 'num_consults': 500}, 'radius-44423': {'avg_time': 84.5154, 'disk_access': 338.198, 'avg_dist_calc': 16842, 'avg_obj_result': 2058.09, 'radius': 44423, 'num_consults': 500}}, 'data-2': {'radius-0': {'avg_time': 43.7062, 'disk_access': 219.484, 'avg_dist_calc': 6634.87, 'avg_obj_result': 1.006, 'radius': 0, 'num_consults': 500}, 'radius-2760': {'avg_time': 54.3938, 'disk_access': 238.93, 'avg_dist_calc': 8076.77, 'avg_obj_result': 1.296, 'radius': 2760, 'num_consults': 500}, 'radius-5520': {'avg_time': 62.6213, 'disk_access': 257.998, 'avg_dist_calc': 9556.22, 'avg_obj_result': 14.122, 'radius': 5520, 'num_consults': 500}, 'radius-8280': {'avg_time': 72.276, 'disk_access': 275.496, 'avg_dist_calc': 11003, 'avg_obj_result': 62.994, 'radius': 8280, 'num_consults': 500}, 'radius-11040': {'avg_time': 83.4767, 'disk_access': 291.234, 'avg_dist_calc': 12387.9, 'avg_obj_result': 167.574, 'radius': 11040, 'num_consults': 500}, 'radius-13800': {'avg_time': 85.978, 'disk_access': 305.624, 'avg_dist_calc': 13684.2, 'avg_obj_result': 371.872, 'radius': 13800, 'num_consults': 500}, 'radius-16560': {'avg_time': 95.075, 'disk_access': 318.308, 'avg_dist_calc': 14875.5, 'avg_obj_result': 722.654, 'radius': 16560, 'num_consults': 500}, 'radius-19320': {'avg_time': 108.784, 'disk_access': 328.98, 'avg_dist_calc': 15927.5, 'avg_obj_result': 1269.09, 'radius': 19320, 'num_consults': 500}, 'radius-22080': {'avg_time': 106.85, 'disk_access': 338.074, 'avg_dist_calc': 16830, 'avg_obj_result': 2057.82, 'radius': 22080, 'num_consults': 500}, 'radius-22081': {'avg_time': 107.847, 'disk_access': 338.076, 'avg_dist_calc': 16830.3, 'avg_obj_result': 2058.16, 'radius': 22081, 'num_consults': 500}}, 'data-3': {'radius-0': {'avg_time': 55.7044, 'disk_access': 221.25, 'avg_dist_calc': 6761.54, 'avg_obj_result': 1.006, 'radius': 0, 'num_consults': 500}, 'radius-1361': {'avg_time': 67.1548, 'disk_access': 240.336, 'avg_dist_calc': 8185.97, 'avg_obj_result': 1.3, 'radius': 1361, 'num_consults': 500}, 'radius-2722': {'avg_time': 78.3237, 'disk_access': 259.07, 'avg_dist_calc': 9645.66, 'avg_obj_result': 14.25, 'radius': 2722, 'num_consults': 500}, 'radius-4083': {'avg_time': 88.9978, 'disk_access': 276.258, 'avg_dist_calc': 11068.8, 'avg_obj_result': 63.088, 'radius': 4083, 'num_consults': 500}, 'radius-5444': {'avg_time': 98.4284, 'disk_access': 291.682, 'avg_dist_calc': 12428.9, 'avg_obj_result': 168.476, 'radius': 5444, 'num_consults': 500}, 'radius-6805': {'avg_time': 108.882, 'disk_access': 305.874, 'avg_dist_calc': 13701.8, 'avg_obj_result': 374.476, 'radius': 6805, 'num_consults': 500}, 'radius-8166': {'avg_time': 118.818, 'disk_access': 318.33, 'avg_dist_calc': 14872.7, 'avg_obj_result': 728.082, 'radius': 8166, 'num_consults': 500}, 'radius-9527': {'avg_time': 128.134, 'disk_access': 328.83, 'avg_dist_calc': 15910.2, 'avg_obj_result': 1274.68, 'radius': 9527, 'num_consults': 500}, 'radius-10888': {'avg_time': 137.703, 'disk_access': 337.934, 'avg_dist_calc': 16803.1, 'avg_obj_result': 2056.66, 'radius': 10888, 'num_consults': 500}, 'radius-10890': {'avg_time': 145.641, 'disk_access': 337.95, 'avg_dist_calc': 16804.2, 'avg_obj_result': 2058.03, 'radius': 10890, 'num_consults': 500}}, 'data-4': {'radius-0': {'avg_time': 71.8644, 'disk_access': 225.546, 'avg_dist_calc': 7085.28, 'avg_obj_result': 1.006, 'radius': 0, 'num_consults': 500}, 'radius-656': {'avg_time': 86.843, 'disk_access': 243.872, 'avg_dist_calc': 8462.73, 'avg_obj_result': 1.364, 'radius': 656, 'num_consults': 500}, 'radius-1312': {'avg_time': 99.6045, 'disk_access': 261.704, 'avg_dist_calc': 9865.7, 'avg_obj_result': 14.374, 'radius': 1312, 'num_consults': 500}, 'radius-1968': {'avg_time': 113.905, 'disk_access': 278.15, 'avg_dist_calc': 11229.6, 'avg_obj_result': 63.68, 'radius': 1968, 'num_consults': 500}, 'radius-2624': {'avg_time': 128.145, 'disk_access': 293.038, 'avg_dist_calc': 12527.4, 'avg_obj_result': 172.96, 'radius': 2624, 'num_consults': 500}, 'radius-3280': {'avg_time': 139.335, 'disk_access': 306.578, 'avg_dist_calc': 13742.4, 'avg_obj_result': 385.232, 'radius': 3280, 'num_consults': 500}, 'radius-3936': {'avg_time': 151.399, 'disk_access': 318.524, 'avg_dist_calc': 14865.1, 'avg_obj_result': 745.556, 'radius': 3936, 'num_consults': 500}, 'radius-4592': {'avg_time': 162.335, 'disk_access': 328.624, 'avg_dist_calc': 15866.3, 'avg_obj_result': 1291.7, 'radius': 4592, 'num_consults': 500}, 'radius-5248': {'avg_time': 178.899, 'disk_access': 337.49, 'avg_dist_calc': 16734.9, 'avg_obj_result': 2057.15, 'radius': 5248, 'num_consults': 500}, 'radius-5249': {'avg_time': 176.009, 'disk_access': 337.496, 'avg_dist_calc': 16736.1, 'avg_obj_result': 2058.4, 'radius': 5249, 'num_consults': 500}}, 'data-5': {'radius-0': {'avg_time': 98.7914, 'disk_access': 236.56, 'avg_dist_calc': 7917.21, 'avg_obj_result': 1.006, 'radius': 0, 'num_consults': 500}, 'radius-297': {'avg_time': 114.151, 'disk_access': 253.062, 'avg_dist_calc': 9171.15, 'avg_obj_result': 1.562, 'radius': 297, 'num_consults': 500}, 'radius-594': {'avg_time': 128.08, 'disk_access': 268.624, 'avg_dist_calc': 10428.1, 'avg_obj_result': 15.482, 'radius': 594, 'num_consults': 500}, 'radius-891': {'avg_time': 144.143, 'disk_access': 283.248, 'avg_dist_calc': 11648.1, 'avg_obj_result': 69.146, 'radius': 891, 'num_consults': 500}, 'radius-1188': {'avg_time': 157.395, 'disk_access': 296.346, 'avg_dist_calc': 12798.5, 'avg_obj_result': 190.646, 'radius': 1188, 'num_consults': 500}, 'radius-1485': {'avg_time': 171.171, 'disk_access': 308.572, 'avg_dist_calc': 13874.2, 'avg_obj_result': 420.064, 'radius': 1485, 'num_consults': 500}, 'radius-1782': {'avg_time': 183.73, 'disk_access': 319.306, 'avg_dist_calc': 14876.7, 'avg_obj_result': 790.344, 'radius': 1782, 'num_consults': 500}, 'radius-2079': {'avg_time': 195.551, 'disk_access': 328.626, 'avg_dist_calc': 15780.6, 'avg_obj_result': 1324.48, 'radius': 2079, 'num_consults': 500}, 'radius-2376': {'avg_time': 205.39, 'disk_access': 336.836, 'avg_dist_calc': 16584.4, 'avg_obj_result': 2041.57, 'radius': 2376, 'num_consults': 500}, 'radius-2382': {'avg_time': 207.141, 'disk_access': 336.99, 'avg_dist_calc': 16599.9, 'avg_obj_result': 2058.21, 'radius': 2382, 'num_consults': 500}}, 'data-6': {'radius-0': {'avg_time': 138.947, 'disk_access': 258.954, 'avg_dist_calc': 9679.61, 'avg_obj_result': 1.006, 'radius': 0, 'num_consults': 500}, 'radius-115': {'avg_time': 152.733, 'disk_access': 270.774, 'avg_dist_calc': 10620.7, 'avg_obj_result': 4.032, 'radius': 115, 'num_consults': 500}, 'radius-230': {'avg_time': 167.17, 'disk_access': 281.836, 'avg_dist_calc': 11551, 'avg_obj_result': 31.672, 'radius': 230, 'num_consults': 500}, 'radius-345': {'avg_time': 180.594, 'disk_access': 292.796, 'avg_dist_calc': 12455.4, 'avg_obj_result': 124.716, 'radius': 345, 'num_consults': 500}, 'radius-460': {'avg_time': 190.893, 'disk_access': 302.11, 'avg_dist_calc': 13292, 'avg_obj_result': 301.246, 'radius': 460, 'num_consults': 500}, 'radius-575': {'avg_time': 204.041, 'disk_access': 311.016, 'avg_dist_calc': 14086.8, 'avg_obj_result': 578.854, 'radius': 575, 'num_consults': 500}, 'radius-690': {'avg_time': 214.654, 'disk_access': 319.488, 'avg_dist_calc': 14828.1, 'avg_obj_result': 960.33, 'radius': 690, 'num_consults': 500}, 'radius-805': {'avg_time': 224.774, 'disk_access': 326.568, 'avg_dist_calc': 15520.2, 'avg_obj_result': 1450.65, 'radius': 805, 'num_consults': 500}, 'radius-920': {'avg_time': 231.192, 'disk_access': 333.302, 'avg_dist_calc': 16167.5, 'avg_obj_result': 2039.61, 'radius': 920, 'num_consults': 500}, 'radius-923': {'avg_time': 231.617, 'disk_access': 333.444, 'avg_dist_calc': 16183, 'avg_obj_result': 2057.41, 'radius': 923, 'num_consults': 500}}, 'data-7': {'radius-0': {'avg_time': 209.033, 'disk_access': 300.236, 'avg_dist_calc': 13038.3, 'avg_obj_result': 1.03, 'radius': 0, 'num_consults': 500}, 'radius-25': {'avg_time': 217.014, 'disk_access': 304.216, 'avg_dist_calc': 13374.2, 'avg_obj_result': 90.5, 'radius': 25, 'num_consults': 500}, 'radius-50': {'avg_time': 225.47, 'disk_access': 307.996, 'avg_dist_calc': 13703, 'avg_obj_result': 208.202, 'radius': 50, 'num_consults': 500}, 'radius-75': {'avg_time': 234.417, 'disk_access': 311.608, 'avg_dist_calc': 14033.4, 'avg_obj_result': 370.582, 'radius': 75, 'num_consults': 500}, 'radius-100': {'avg_time': 233.407, 'disk_access': 315.494, 'avg_dist_calc': 14353.7, 'avg_obj_result': 572.334, 'radius': 100, 'num_consults': 500}, 'radius-125': {'avg_time': 241.874, 'disk_access': 319.226, 'avg_dist_calc': 14668.5, 'avg_obj_result': 791.622, 'radius': 125, 'num_consults': 500}, 'radius-150': {'avg_time': 247.529, 'disk_access': 323.26, 'avg_dist_calc': 14969.5, 'avg_obj_result': 1025.86, 'radius': 150, 'num_consults': 500}, 'radius-175': {'avg_time': 253.74, 'disk_access': 326.99, 'avg_dist_calc': 15275.5, 'avg_obj_result': 1710.79, 'radius': 175, 'num_consults': 500}, 'radius-200': {'avg_time': 253.757, 'disk_access': 329.872, 'avg_dist_calc': 15548.7, 'avg_obj_result': 2044.44, 'radius': 200, 'num_consults': 500}, 'radius-201': {'avg_time': 263.295, 'disk_access': 329.988, 'avg_dist_calc': 15558.8, 'avg_obj_result': 2055.24, 'radius': 201, 'num_consults': 500}}}, 'tree-1': {'data-1': {'radius-0': {'avg_time': 3.58429, 'disk_access': 223.28, 'avg_dist_calc': 345.002, 'avg_obj_result': 1.006, 'radius': 0, 'num_consults': 500}, 'radius-5552': {'avg_time': 7.0268, 'disk_access': 242.518, 'avg_dist_calc': 3183.18, 'avg_obj_result': 1.278, 'radius': 5552, 'num_consults': 500}, 'radius-11104': {'avg_time': 9.63859, 'disk_access': 260.636, 'avg_dist_calc': 5850.12, 'avg_obj_result': 13.954, 'radius': 11104, 'num_consults': 500}, 'radius-16656': {'avg_time': 12.8022, 'disk_access': 277.386, 'avg_dist_calc': 8254.67, 'avg_obj_result': 62.676, 'radius': 16656, 'num_consults': 500}, 'radius-22208': {'avg_time': 14.1421, 'disk_access': 292.308, 'avg_dist_calc': 10385.4, 'avg_obj_result': 166.694, 'radius': 22208, 'num_consults': 500}, 'radius-27760': {'avg_time': 16.6786, 'disk_access': 305.19, 'avg_dist_calc': 12248.1, 'avg_obj_result': 370.086, 'radius': 27760, 'num_consults': 500}, 'radius-33312': {'avg_time': 19.4234, 'disk_access': 316.096, 'avg_dist_calc': 13851.8, 'avg_obj_result': 720.214, 'radius': 33312, 'num_consults': 500}, 'radius-38864': {'avg_time': 21.0083, 'disk_access': 324.93, 'avg_dist_calc': 15204.7, 'avg_obj_result': 1266.22, 'radius': 38864, 'num_consults': 500}, 'radius-44416': {'avg_time': 24.5288, 'disk_access': 332.172, 'avg_dist_calc': 16339.1, 'avg_obj_result': 2056.84, 'radius': 44416, 'num_consults': 500}, 'radius-44423': {'avg_time': 24.8656, 'disk_access': 332.188, 'avg_dist_calc': 16340.3, 'avg_obj_result': 2058.09, 'radius': 44423, 'num_consults': 500}}, 'data-2': {'radius-0': {'avg_time': 31.1779, 'disk_access': 223.99, 'avg_dist_calc': 6750.24, 'avg_obj_result': 1.006, 'radius': 0, 'num_consults': 500}, 'radius-2760': {'avg_time': 35.641, 'disk_access': 243.096, 'avg_dist_calc': 8224.29, 'avg_obj_result': 1.296, 'radius': 2760, 'num_consults': 500}, 'radius-5520': {'avg_time': 43.1007, 'disk_access': 261.036, 'avg_dist_calc': 9732.78, 'avg_obj_result': 14.122, 'radius': 5520, 'num_consults': 500}, 'radius-8280': {'avg_time': 47.5483, 'disk_access': 277.66, 'avg_dist_calc': 11206, 'avg_obj_result': 62.994, 'radius': 8280, 'num_consults': 500}, 'radius-11040': {'avg_time': 54.1755, 'disk_access': 292.402, 'avg_dist_calc': 12606.5, 'avg_obj_result': 167.574, 'radius': 11040, 'num_consults': 500}, 'radius-13800': {'avg_time': 59.0683, 'disk_access': 305.266, 'avg_dist_calc': 13910.1, 'avg_obj_result': 371.872, 'radius': 13800, 'num_consults': 500}, 'radius-16560': {'avg_time': 65.6865, 'disk_access': 316.034, 'avg_dist_calc': 15092.7, 'avg_obj_result': 722.654, 'radius': 16560, 'num_consults': 500}, 'radius-19320': {'avg_time': 68.7253, 'disk_access': 324.838, 'avg_dist_calc': 16129.5, 'avg_obj_result': 1269.09, 'radius': 19320, 'num_consults': 500}, 'radius-22080': {'avg_time': 76.5622, 'disk_access': 332.076, 'avg_dist_calc': 17026.6, 'avg_obj_result': 2057.82, 'radius': 22080, 'num_consults': 500}, 'radius-22081': {'avg_time': 74.1238, 'disk_access': 332.076, 'avg_dist_calc': 17026.9, 'avg_obj_result': 2058.16, 'radius': 22081, 'num_consults': 500}}, 'data-3': {'radius-0': {'avg_time': 42.8832, 'disk_access': 225.736, 'avg_dist_calc': 6889.04, 'avg_obj_result': 1.006, 'radius': 0, 'num_consults': 500}, 'radius-1361': {'avg_time': 52.909, 'disk_access': 244.544, 'avg_dist_calc': 8345.79, 'avg_obj_result': 1.3, 'radius': 1361, 'num_consults': 500}, 'radius-2722': {'avg_time': 59.6359, 'disk_access': 262.11, 'avg_dist_calc': 9831.69, 'avg_obj_result': 14.25, 'radius': 2722, 'num_consults': 500}, 'radius-4083': {'avg_time': 68.7591, 'disk_access': 278.276, 'avg_dist_calc': 11279.4, 'avg_obj_result': 63.088, 'radius': 4083, 'num_consults': 500}, 'radius-5444': {'avg_time': 77.1807, 'disk_access': 292.814, 'avg_dist_calc': 12652.6, 'avg_obj_result': 168.476, 'radius': 5444, 'num_consults': 500}, 'radius-6805': {'avg_time': 84.9391, 'disk_access': 305.41, 'avg_dist_calc': 13931.3, 'avg_obj_result': 374.476, 'radius': 6805, 'num_consults': 500}, 'radius-8166': {'avg_time': 93.2472, 'disk_access': 316.08, 'avg_dist_calc': 15094.4, 'avg_obj_result': 728.082, 'radius': 8166, 'num_consults': 500}, 'radius-9527': {'avg_time': 99.5849, 'disk_access': 324.758, 'avg_dist_calc': 16113.7, 'avg_obj_result': 1274.68, 'radius': 9527, 'num_consults': 500}, 'radius-10888': {'avg_time': 106.374, 'disk_access': 331.84, 'avg_dist_calc': 16999.7, 'avg_obj_result': 2056.66, 'radius': 10888, 'num_consults': 500}, 'radius-10890': {'avg_time': 107.071, 'disk_access': 331.852, 'avg_dist_calc': 17000.8, 'avg_obj_result': 2058.03, 'radius': 10890, 'num_consults': 500}}, 'data-4': {'radius-0': {'avg_time': 58.4717, 'disk_access': 230.126, 'avg_dist_calc': 7234.74, 'avg_obj_result': 1.006, 'radius': 0, 'num_consults': 500}, 'radius-656': {'avg_time': 71.4817, 'disk_access': 247.864, 'avg_dist_calc': 8644.25, 'avg_obj_result': 1.364, 'radius': 656, 'num_consults': 500}, 'radius-1312': {'avg_time': 81.225, 'disk_access': 264.796, 'avg_dist_calc': 10068.6, 'avg_obj_result': 14.374, 'radius': 1312, 'num_consults': 500}, 'radius-1968': {'avg_time': 92.9385, 'disk_access': 280.012, 'avg_dist_calc': 11453.8, 'avg_obj_result': 63.68, 'radius': 1968, 'num_consults': 500}, 'radius-2624': {'avg_time': 103.292, 'disk_access': 294.002, 'avg_dist_calc': 12763, 'avg_obj_result': 172.96, 'radius': 2624, 'num_consults': 500}, 'radius-3280': {'avg_time': 112.708, 'disk_access': 305.948, 'avg_dist_calc': 13984.1, 'avg_obj_result': 385.232, 'radius': 3280, 'num_consults': 500}, 'radius-3936': {'avg_time': 121.935, 'disk_access': 316.008, 'avg_dist_calc': 15092.7, 'avg_obj_result': 745.556, 'radius': 3936, 'num_consults': 500}, 'radius-4592': {'avg_time': 130.941, 'disk_access': 324.438, 'avg_dist_calc': 16075.1, 'avg_obj_result': 1291.7, 'radius': 4592, 'num_consults': 500}, 'radius-5248': {'avg_time': 138.994, 'disk_access': 331.404, 'avg_dist_calc': 16931.2, 'avg_obj_result': 2057.15, 'radius': 5248, 'num_consults': 500}, 'radius-5249': {'avg_time': 138.151, 'disk_access': 331.416, 'avg_dist_calc': 16932.4, 'avg_obj_result': 2058.4, 'radius': 5249, 'num_consults': 500}}, 'data-5': {'radius-0': {'avg_time': 81.7756, 'disk_access': 240.82, 'avg_dist_calc': 8100.29, 'avg_obj_result': 1.006, 'radius': 0, 'num_consults': 500}, 'radius-297': {'avg_time': 94.0775, 'disk_access': 256.356, 'avg_dist_calc': 9379.86, 'avg_obj_result': 1.562, 'radius': 297, 'num_consults': 500}, 'radius-594': {'avg_time': 106.847, 'disk_access': 271.274, 'avg_dist_calc': 10653.2, 'avg_obj_result': 15.482, 'radius': 594, 'num_consults': 500}, 'radius-891': {'avg_time': 119.181, 'disk_access': 284.62, 'avg_dist_calc': 11884.1, 'avg_obj_result': 69.146, 'radius': 891, 'num_consults': 500}, 'radius-1188': {'avg_time': 132.257, 'disk_access': 296.888, 'avg_dist_calc': 13042, 'avg_obj_result': 190.646, 'radius': 1188, 'num_consults': 500}, 'radius-1485': {'avg_time': 143.737, 'disk_access': 307.074, 'avg_dist_calc': 14115.8, 'avg_obj_result': 420.064, 'radius': 1485, 'num_consults': 500}, 'radius-1782': {'avg_time': 153.954, 'disk_access': 316.254, 'avg_dist_calc': 15099.5, 'avg_obj_result': 790.344, 'radius': 1782, 'num_consults': 500}, 'radius-2079': {'avg_time': 163.889, 'disk_access': 323.934, 'avg_dist_calc': 15985.2, 'avg_obj_result': 1324.48, 'radius': 2079, 'num_consults': 500}, 'radius-2376': {'avg_time': 172.532, 'disk_access': 330.536, 'avg_dist_calc': 16767.3, 'avg_obj_result': 2041.57, 'radius': 2376, 'num_consults': 500}, 'radius-2382': {'avg_time': 173.073, 'disk_access': 330.656, 'avg_dist_calc': 16781.8, 'avg_obj_result': 2058.21, 'radius': 2382, 'num_consults': 500}}, 'data-6': {'radius-0': {'avg_time': 120.119, 'disk_access': 262.924, 'avg_dist_calc': 9935.88, 'avg_obj_result': 1.006, 'radius': 0, 'num_consults': 500}, 'radius-115': {'avg_time': 130.845, 'disk_access': 273.604, 'avg_dist_calc': 10898.8, 'avg_obj_result': 4.032, 'radius': 115, 'num_consults': 500}, 'radius-230': {'avg_time': 144.53, 'disk_access': 283.978, 'avg_dist_calc': 11829.9, 'avg_obj_result': 31.672, 'radius': 230, 'num_consults': 500}, 'radius-345': {'avg_time': 162.963, 'disk_access': 293.186, 'avg_dist_calc': 12738.5, 'avg_obj_result': 124.716, 'radius': 345, 'num_consults': 500}, 'radius-460': {'avg_time': 168.426, 'disk_access': 301.49, 'avg_dist_calc': 13576.2, 'avg_obj_result': 301.246, 'radius': 460, 'num_consults': 500}, 'radius-575': {'avg_time': 177.889, 'disk_access': 309.566, 'avg_dist_calc': 14365.2, 'avg_obj_result': 578.854, 'radius': 575, 'num_consults': 500}, 'radius-690': {'avg_time': 188.027, 'disk_access': 316.266, 'avg_dist_calc': 15092.6, 'avg_obj_result': 960.33, 'radius': 690, 'num_consults': 500}, 'radius-805': {'avg_time': 197.213, 'disk_access': 322.602, 'avg_dist_calc': 15774.3, 'avg_obj_result': 1450.65, 'radius': 805, 'num_consults': 500}, 'radius-920': {'avg_time': 206.368, 'disk_access': 328.03, 'avg_dist_calc': 16401.1, 'avg_obj_result': 2039.61, 'radius': 920, 'num_consults': 500}, 'radius-923': {'avg_time': 206.462, 'disk_access': 328.144, 'avg_dist_calc': 16416.5, 'avg_obj_result': 2057.41, 'radius': 923, 'num_consults': 500}}, 'data-7': {'radius-0': {'avg_time': 190.681, 'disk_access': 300.736, 'avg_dist_calc': 13315.6, 'avg_obj_result': 1.03, 'radius': 0, 'num_consults': 500}, 'radius-25': {'avg_time': 197.464, 'disk_access': 303.876, 'avg_dist_calc': 13659.6, 'avg_obj_result': 90.5, 'radius': 25, 'num_consults': 500}, 'radius-50': {'avg_time': 200.891, 'disk_access': 307.072, 'avg_dist_calc': 13989.9, 'avg_obj_result': 208.202, 'radius': 50, 'num_consults': 500}, 'radius-75': {'avg_time': 216.476, 'disk_access': 310.306, 'avg_dist_calc': 14310.5, 'avg_obj_result': 370.582, 'radius': 75, 'num_consults': 500}, 'radius-100': {'avg_time': 235.068, 'disk_access': 313.64, 'avg_dist_calc': 14624.4, 'avg_obj_result': 572.334, 'radius': 100, 'num_consults': 500}, 'radius-125': {'avg_time': 231.875, 'disk_access': 316.524, 'avg_dist_calc': 14929.7, 'avg_obj_result': 791.622, 'radius': 125, 'num_consults': 500}, 'radius-150': {'avg_time': 237.71, 'disk_access': 319.182, 'avg_dist_calc': 15225.6, 'avg_obj_result': 1025.86, 'radius': 150, 'num_consults': 500}, 'radius-175': {'avg_time': 243.348, 'disk_access': 321.702, 'avg_dist_calc': 15525.3, 'avg_obj_result': 1710.79, 'radius': 175, 'num_consults': 500}, 'radius-200': {'avg_time': 240.042, 'disk_access': 324.122, 'avg_dist_calc': 15794, 'avg_obj_result': 2044.44, 'radius': 200, 'num_consults': 500}, 'radius-201': {'avg_time': 236.116, 'disk_access': 324.2, 'avg_dist_calc': 15804.1, 'avg_obj_result': 2055.24, 'radius': 201, 'num_consults': 500}}}, 'tree-2': {'data-2': {'radius-0': {'avg_time': 3.44986, 'disk_access': 221.358, 'avg_dist_calc': 342.47, 'avg_obj_result': 1.006, 'radius': 0, 'num_consults': 500}, 'radius-2760': {'avg_time': 5.87593, 'disk_access': 241.654, 'avg_dist_calc': 3108.33, 'avg_obj_result': 1.296, 'radius': 2760, 'num_consults': 500}, 'radius-5520': {'avg_time': 7.73571, 'disk_access': 259.662, 'avg_dist_calc': 5722.41, 'avg_obj_result': 14.122, 'radius': 5520, 'num_consults': 500}, 'radius-8280': {'avg_time': 9.64717, 'disk_access': 276.026, 'avg_dist_calc': 8093.14, 'avg_obj_result': 62.994, 'radius': 8280, 'num_consults': 500}, 'radius-11040': {'avg_time': 11.3148, 'disk_access': 290.536, 'avg_dist_calc': 10216.7, 'avg_obj_result': 167.574, 'radius': 11040, 'num_consults': 500}, 'radius-13800': {'avg_time': 13.9426, 'disk_access': 303.036, 'avg_dist_calc': 12091.3, 'avg_obj_result': 371.872, 'radius': 13800, 'num_consults': 500}, 'radius-16560': {'avg_time': 15.3223, 'disk_access': 313.806, 'avg_dist_calc': 13706.7, 'avg_obj_result': 722.654, 'radius': 16560, 'num_consults': 500}, 'radius-19320': {'avg_time': 17.9959, 'disk_access': 322.832, 'avg_dist_calc': 15080, 'avg_obj_result': 1269.09, 'radius': 19320, 'num_consults': 500}, 'radius-22080': {'avg_time': 19.1648, 'disk_access': 330.332, 'avg_dist_calc': 16235.4, 'avg_obj_result': 2057.82, 'radius': 22080, 'num_consults': 500}, 'radius-22081': {'avg_time': 19.3108, 'disk_access': 330.332, 'avg_dist_calc': 16235.8, 'avg_obj_result': 2058.16, 'radius': 22081, 'num_consults': 500}}, 'data-3': {'radius-0': {'avg_time': 29.1336, 'disk_access': 223.204, 'avg_dist_calc': 6645.97, 'avg_obj_result': 1.006, 'radius': 0, 'num_consults': 500}, 'radius-1361': {'avg_time': 36.0832, 'disk_access': 242.93, 'avg_dist_calc': 8078.89, 'avg_obj_result': 1.3, 'radius': 1361, 'num_consults': 500}, 'radius-2722': {'avg_time': 41.2709, 'disk_access': 260.616, 'avg_dist_calc': 9554.02, 'avg_obj_result': 14.25, 'radius': 2722, 'num_consults': 500}, 'radius-4083': {'avg_time': 46.8894, 'disk_access': 276.574, 'avg_dist_calc': 10998, 'avg_obj_result': 63.088, 'radius': 4083, 'num_consults': 500}, 'radius-5444': {'avg_time': 53.3744, 'disk_access': 290.916, 'avg_dist_calc': 12386.2, 'avg_obj_result': 168.476, 'radius': 5444, 'num_consults': 500}, 'radius-6805': {'avg_time': 58.9183, 'disk_access': 303.13, 'avg_dist_calc': 13686.9, 'avg_obj_result': 374.476, 'radius': 6805, 'num_consults': 500}, 'radius-8166': {'avg_time': 64.3729, 'disk_access': 313.8, 'avg_dist_calc': 14865.8, 'avg_obj_result': 728.082, 'radius': 8166, 'num_consults': 500}, 'radius-9527': {'avg_time': 69.1773, 'disk_access': 322.592, 'avg_dist_calc': 15913.7, 'avg_obj_result': 1274.68, 'radius': 9527, 'num_consults': 500}, 'radius-10888': {'avg_time': 78.4232, 'disk_access': 330.112, 'avg_dist_calc': 16826.1, 'avg_obj_result': 2056.66, 'radius': 10888, 'num_consults': 500}, 'radius-10890': {'avg_time': 77.8551, 'disk_access': 330.116, 'avg_dist_calc': 16827.3, 'avg_obj_result': 2058.03, 'radius': 10890, 'num_consults': 500}}, 'data-4': {'radius-0': {'avg_time': 46.7124, 'disk_access': 227.656, 'avg_dist_calc': 6973.56, 'avg_obj_result': 1.006, 'radius': 0, 'num_consults': 500}, 'radius-656': {'avg_time': 55.8373, 'disk_access': 246.484, 'avg_dist_calc': 8363.81, 'avg_obj_result': 1.364, 'radius': 656, 'num_consults': 500}, 'radius-1312': {'avg_time': 63.8973, 'disk_access': 263.178, 'avg_dist_calc': 9784.16, 'avg_obj_result': 14.374, 'radius': 1312, 'num_consults': 500}, 'radius-1968': {'avg_time': 74.352, 'disk_access': 278.224, 'avg_dist_calc': 11169.4, 'avg_obj_result': 63.68, 'radius': 1968, 'num_consults': 500}, 'radius-2624': {'avg_time': 81.9121, 'disk_access': 291.856, 'avg_dist_calc': 12494, 'avg_obj_result': 172.96, 'radius': 2624, 'num_consults': 500}, 'radius-3280': {'avg_time': 92.4436, 'disk_access': 303.692, 'avg_dist_calc': 13736.2, 'avg_obj_result': 385.232, 'radius': 3280, 'num_consults': 500}, 'radius-3936': {'avg_time': 98.9568, 'disk_access': 313.79, 'avg_dist_calc': 14864.3, 'avg_obj_result': 745.556, 'radius': 3936, 'num_consults': 500}, 'radius-4592': {'avg_time': 108.072, 'disk_access': 322.238, 'avg_dist_calc': 15873.8, 'avg_obj_result': 1291.7, 'radius': 4592, 'num_consults': 500}, 'radius-5248': {'avg_time': 115.853, 'disk_access': 329.562, 'avg_dist_calc': 16759.3, 'avg_obj_result': 2057.15, 'radius': 5248, 'num_consults': 500}, 'radius-5249': {'avg_time': 116.898, 'disk_access': 329.576, 'avg_dist_calc': 16760.6, 'avg_obj_result': 2058.4, 'radius': 5249, 'num_consults': 500}}, 'data-5': {'radius-0': {'avg_time': 67.5246, 'disk_access': 238.99, 'avg_dist_calc': 7803.65, 'avg_obj_result': 1.006, 'radius': 0, 'num_consults': 500}, 'radius-297': {'avg_time': 78.9435, 'disk_access': 255.272, 'avg_dist_calc': 9082.41, 'avg_obj_result': 1.562, 'radius': 297, 'num_consults': 500}, 'radius-594': {'avg_time': 89.5174, 'disk_access': 269.784, 'avg_dist_calc': 10358.5, 'avg_obj_result': 15.482, 'radius': 594, 'num_consults': 500}, 'radius-891': {'avg_time': 100.47, 'disk_access': 283.07, 'avg_dist_calc': 11599.2, 'avg_obj_result': 69.146, 'radius': 891, 'num_consults': 500}, 'radius-1188': {'avg_time': 111.339, 'disk_access': 294.584, 'avg_dist_calc': 12775.1, 'avg_obj_result': 190.646, 'radius': 1188, 'num_consults': 500}, 'radius-1485': {'avg_time': 122.326, 'disk_access': 305.062, 'avg_dist_calc': 13876.5, 'avg_obj_result': 420.064, 'radius': 1485, 'num_consults': 500}, 'radius-1782': {'avg_time': 130.995, 'disk_access': 314.24, 'avg_dist_calc': 14884.7, 'avg_obj_result': 790.344, 'radius': 1782, 'num_consults': 500}, 'radius-2079': {'avg_time': 139.862, 'disk_access': 321.976, 'avg_dist_calc': 15796.5, 'avg_obj_result': 1324.48, 'radius': 2079, 'num_consults': 500}, 'radius-2376': {'avg_time': 150.075, 'disk_access': 328.58, 'avg_dist_calc': 16606.4, 'avg_obj_result': 2041.57, 'radius': 2376, 'num_consults': 500}, 'radius-2382': {'avg_time': 150.16, 'disk_access': 328.724, 'avg_dist_calc': 16621.9, 'avg_obj_result': 2058.21, 'radius': 2382, 'num_consults': 500}}, 'data-6': {'radius-0': {'avg_time': 106.727, 'disk_access': 261.472, 'avg_dist_calc': 9678.26, 'avg_obj_result': 1.006, 'radius': 0, 'num_consults': 500}, 'radius-115': {'avg_time': 117.631, 'disk_access': 272.954, 'avg_dist_calc': 10647, 'avg_obj_result': 4.032, 'radius': 115, 'num_consults': 500}, 'radius-230': {'avg_time': 126.781, 'disk_access': 282.896, 'avg_dist_calc': 11592.6, 'avg_obj_result': 31.672, 'radius': 230, 'num_consults': 500}, 'radius-345': {'avg_time': 138.938, 'disk_access': 291.974, 'avg_dist_calc': 12510.8, 'avg_obj_result': 124.716, 'radius': 345, 'num_consults': 500}, 'radius-460': {'avg_time': 147.653, 'disk_access': 300.284, 'avg_dist_calc': 13367.9, 'avg_obj_result': 301.246, 'radius': 460, 'num_consults': 500}, 'radius-575': {'avg_time': 159.486, 'disk_access': 307.69, 'avg_dist_calc': 14175.4, 'avg_obj_result': 578.854, 'radius': 575, 'num_consults': 500}, 'radius-690': {'avg_time': 170.526, 'disk_access': 314.45, 'avg_dist_calc': 14932.1, 'avg_obj_result': 960.33, 'radius': 690, 'num_consults': 500}, 'radius-805': {'avg_time': 179.85, 'disk_access': 320.436, 'avg_dist_calc': 15627.3, 'avg_obj_result': 1450.65, 'radius': 805, 'num_consults': 500}, 'radius-920': {'avg_time': 186.601, 'disk_access': 325.782, 'avg_dist_calc': 16267.4, 'avg_obj_result': 2039.61, 'radius': 920, 'num_consults': 500}, 'radius-923': {'avg_time': 187.571, 'disk_access': 325.89, 'avg_dist_calc': 16283.7, 'avg_obj_result': 2057.41, 'radius': 923, 'num_consults': 500}}, 'data-7': {'radius-0': {'avg_time': 176.232, 'disk_access': 298.698, 'avg_dist_calc': 13214.5, 'avg_obj_result': 1.03, 'radius': 0, 'num_consults': 500}, 'radius-25': {'avg_time': 181.746, 'disk_access': 302.23, 'avg_dist_calc': 13560.2, 'avg_obj_result': 90.5, 'radius': 25, 'num_consults': 500}, 'radius-50': {'avg_time': 186.291, 'disk_access': 305.336, 'avg_dist_calc': 13897.9, 'avg_obj_result': 208.202, 'radius': 50, 'num_consults': 500}, 'radius-75': {'avg_time': 185.798, 'disk_access': 308.3, 'avg_dist_calc': 14229.7, 'avg_obj_result': 370.582, 'radius': 75, 'num_consults': 500}, 'radius-100': {'avg_time': 190.527, 'disk_access': 310.884, 'avg_dist_calc': 14548.7, 'avg_obj_result': 572.334, 'radius': 100, 'num_consults': 500}, 'radius-125': {'avg_time': 197.209, 'disk_access': 313.786, 'avg_dist_calc': 14856.2, 'avg_obj_result': 791.622, 'radius': 125, 'num_consults': 500}, 'radius-150': {'avg_time': 198.895, 'disk_access': 316.318, 'avg_dist_calc': 15158.3, 'avg_obj_result': 1025.86, 'radius': 150, 'num_consults': 500}, 'radius-175': {'avg_time': 204.054, 'disk_access': 318.556, 'avg_dist_calc': 15461.1, 'avg_obj_result': 1710.79, 'radius': 175, 'num_consults': 500}, 'radius-200': {'avg_time': 208.379, 'disk_access': 320.924, 'avg_dist_calc': 15733.5, 'avg_obj_result': 2044.44, 'radius': 200, 'num_consults': 500}, 'radius-201': {'avg_time': 214.701, 'disk_access': 321.01, 'avg_dist_calc': 15744.1, 'avg_obj_result': 2055.24, 'radius': 201, 'num_consults': 500}}}, 'tree-3': {'data-3': {'radius-0': {'avg_time': 3.64279, 'disk_access': 217.326, 'avg_dist_calc': 344.572, 'avg_obj_result': 1.006, 'radius': 0, 'num_consults': 500}, 'radius-1361': {'avg_time': 5.61894, 'disk_access': 237.216, 'avg_dist_calc': 3026.44, 'avg_obj_result': 1.3, 'radius': 1361, 'num_consults': 500}, 'radius-2722': {'avg_time': 7.21217, 'disk_access': 256.038, 'avg_dist_calc': 5581.29, 'avg_obj_result': 14.25, 'radius': 2722, 'num_consults': 500}, 'radius-4083': {'avg_time': 8.62655, 'disk_access': 273.154, 'avg_dist_calc': 7918.93, 'avg_obj_result': 63.088, 'radius': 4083, 'num_consults': 500}, 'radius-5444': {'avg_time': 10.1176, 'disk_access': 288.9, 'avg_dist_calc': 10018.6, 'avg_obj_result': 168.476, 'radius': 5444, 'num_consults': 500}, 'radius-6805': {'avg_time': 11.2139, 'disk_access': 303.2, 'avg_dist_calc': 11884.6, 'avg_obj_result': 374.476, 'radius': 6805, 'num_consults': 500}, 'radius-8166': {'avg_time': 12.9587, 'disk_access': 315.54, 'avg_dist_calc': 13523.6, 'avg_obj_result': 728.082, 'radius': 8166, 'num_consults': 500}, 'radius-9527': {'avg_time': 14.393, 'disk_access': 325.904, 'avg_dist_calc': 14925.9, 'avg_obj_result': 1274.68, 'radius': 9527, 'num_consults': 500}, 'radius-10888': {'avg_time': 16.5747, 'disk_access': 334.572, 'avg_dist_calc': 16104.8, 'avg_obj_result': 2056.66, 'radius': 10888, 'num_consults': 500}, 'radius-10890': {'avg_time': 16.5569, 'disk_access': 334.588, 'avg_dist_calc': 16106.3, 'avg_obj_result': 2058.03, 'radius': 10890, 'num_consults': 500}}, 'data-4': {'radius-0': {'avg_time': 29.6, 'disk_access': 221.826, 'avg_dist_calc': 6711.59, 'avg_obj_result': 1.006, 'radius': 0, 'num_consults': 500}, 'radius-656': {'avg_time': 35.2052, 'disk_access': 240.952, 'avg_dist_calc': 8081.29, 'avg_obj_result': 1.364, 'radius': 656, 'num_consults': 500}, 'radius-1312': {'avg_time': 41.012, 'disk_access': 258.834, 'avg_dist_calc': 9492.29, 'avg_obj_result': 14.374, 'radius': 1312, 'num_consults': 500}, 'radius-1968': {'avg_time': 47.2953, 'disk_access': 275.328, 'avg_dist_calc': 10881.6, 'avg_obj_result': 63.68, 'radius': 1968, 'num_consults': 500}, 'radius-2624': {'avg_time': 53.2519, 'disk_access': 290.252, 'avg_dist_calc': 12216.3, 'avg_obj_result': 172.96, 'radius': 2624, 'num_consults': 500}, 'radius-3280': {'avg_time': 57.6613, 'disk_access': 303.788, 'avg_dist_calc': 13478.3, 'avg_obj_result': 385.232, 'radius': 3280, 'num_consults': 500}, 'radius-3936': {'avg_time': 63.466, 'disk_access': 315.68, 'avg_dist_calc': 14650.7, 'avg_obj_result': 745.556, 'radius': 3936, 'num_consults': 500}, 'radius-4592': {'avg_time': 68.859, 'disk_access': 325.732, 'avg_dist_calc': 15704.1, 'avg_obj_result': 1291.7, 'radius': 4592, 'num_consults': 500}, 'radius-5248': {'avg_time': 74.4503, 'disk_access': 334.204, 'avg_dist_calc': 16629.8, 'avg_obj_result': 2057.15, 'radius': 5248, 'num_consults': 500}, 'radius-5249': {'avg_time': 74.4578, 'disk_access': 334.212, 'avg_dist_calc': 16631.1, 'avg_obj_result': 2058.4, 'radius': 5249, 'num_consults': 500}}, 'data-5': {'radius-0': {'avg_time': 49.4279, 'disk_access': 233.624, 'avg_dist_calc': 7563.38, 'avg_obj_result': 1.006, 'radius': 0, 'num_consults': 500}, 'radius-297': {'avg_time': 57.5369, 'disk_access': 250.442, 'avg_dist_calc': 8820.96, 'avg_obj_result': 1.562, 'radius': 297, 'num_consults': 500}, 'radius-594': {'avg_time': 65.7319, 'disk_access': 266.17, 'avg_dist_calc': 10093.3, 'avg_obj_result': 15.482, 'radius': 594, 'num_consults': 500}, 'radius-891': {'avg_time': 73.5429, 'disk_access': 280.552, 'avg_dist_calc': 11333.2, 'avg_obj_result': 69.146, 'radius': 891, 'num_consults': 500}, 'radius-1188': {'avg_time': 81.3229, 'disk_access': 293.416, 'avg_dist_calc': 12517.5, 'avg_obj_result': 190.646, 'radius': 1188, 'num_consults': 500}, 'radius-1485': {'avg_time': 88.579, 'disk_access': 305.456, 'avg_dist_calc': 13631.7, 'avg_obj_result': 420.064, 'radius': 1485, 'num_consults': 500}, 'radius-1782': {'avg_time': 95.0677, 'disk_access': 315.874, 'avg_dist_calc': 14668.8, 'avg_obj_result': 790.344, 'radius': 1782, 'num_consults': 500}, 'radius-2079': {'avg_time': 102.065, 'disk_access': 325.24, 'avg_dist_calc': 15622, 'avg_obj_result': 1324.48, 'radius': 2079, 'num_consults': 500}, 'radius-2376': {'avg_time': 109.774, 'disk_access': 333.208, 'avg_dist_calc': 16467.5, 'avg_obj_result': 2041.57, 'radius': 2376, 'num_consults': 500}, 'radius-2382': {'avg_time': 111.129, 'disk_access': 333.38, 'avg_dist_calc': 16483.7, 'avg_obj_result': 2058.21, 'radius': 2382, 'num_consults': 500}}, 'data-6': {'radius-0': {'avg_time': 81.2197, 'disk_access': 256.254, 'avg_dist_calc': 9367.05, 'avg_obj_result': 1.006, 'radius': 0, 'num_consults': 500}, 'radius-115': {'avg_time': 89.7996, 'disk_access': 268.446, 'avg_dist_calc': 10331.2, 'avg_obj_result': 4.032, 'radius': 115, 'num_consults': 500}, 'radius-230': {'avg_time': 96.8329, 'disk_access': 279.54, 'avg_dist_calc': 11279.9, 'avg_obj_result': 31.672, 'radius': 230, 'num_consults': 500}, 'radius-345': {'avg_time': 105.758, 'disk_access': 290.08, 'avg_dist_calc': 12198, 'avg_obj_result': 124.716, 'radius': 345, 'num_consults': 500}, 'radius-460': {'avg_time': 114.493, 'disk_access': 299.682, 'avg_dist_calc': 13068.1, 'avg_obj_result': 301.246, 'radius': 460, 'num_consults': 500}, 'radius-575': {'avg_time': 121.055, 'disk_access': 308.104, 'avg_dist_calc': 13890.4, 'avg_obj_result': 578.854, 'radius': 575, 'num_consults': 500}, 'radius-690': {'avg_time': 129.75, 'disk_access': 316.324, 'avg_dist_calc': 14663.9, 'avg_obj_result': 960.33, 'radius': 690, 'num_consults': 500}, 'radius-805': {'avg_time': 147.078, 'disk_access': 323.526, 'avg_dist_calc': 15389.4, 'avg_obj_result': 1450.65, 'radius': 805, 'num_consults': 500}, 'radius-920': {'avg_time': 147.251, 'disk_access': 329.976, 'avg_dist_calc': 16062.1, 'avg_obj_result': 2039.61, 'radius': 920, 'num_consults': 500}, 'radius-923': {'avg_time': 146.353, 'disk_access': 330.118, 'avg_dist_calc': 16078.8, 'avg_obj_result': 2057.41, 'radius': 923, 'num_consults': 500}}, 'data-7': {'radius-0': {'avg_time': 141.204, 'disk_access': 298.324, 'avg_dist_calc': 12882.5, 'avg_obj_result': 1.03, 'radius': 0, 'num_consults': 500}, 'radius-25': {'avg_time': 145.285, 'disk_access': 302.466, 'avg_dist_calc': 13239.3, 'avg_obj_result': 90.5, 'radius': 25, 'num_consults': 500}, 'radius-50': {'avg_time': 148.903, 'disk_access': 306.4, 'avg_dist_calc': 13584.8, 'avg_obj_result': 208.202, 'radius': 50, 'num_consults': 500}, 'radius-75': {'avg_time': 152.273, 'disk_access': 309.85, 'avg_dist_calc': 13926.4, 'avg_obj_result': 370.582, 'radius': 75, 'num_consults': 500}, 'radius-100': {'avg_time': 158.385, 'disk_access': 313.3, 'avg_dist_calc': 14256.5, 'avg_obj_result': 572.334, 'radius': 100, 'num_consults': 500}, 'radius-125': {'avg_time': 164.926, 'disk_access': 316.392, 'avg_dist_calc': 14573.9, 'avg_obj_result': 791.622, 'radius': 125, 'num_consults': 500}, 'radius-150': {'avg_time': 166.458, 'disk_access': 319.97, 'avg_dist_calc': 14880.1, 'avg_obj_result': 1025.86, 'radius': 150, 'num_consults': 500}, 'radius-175': {'avg_time': 170.672, 'disk_access': 322.784, 'avg_dist_calc': 15190.1, 'avg_obj_result': 1710.79, 'radius': 175, 'num_consults': 500}, 'radius-200': {'avg_time': 169.888, 'disk_access': 325.676, 'avg_dist_calc': 15472.1, 'avg_obj_result': 2044.44, 'radius': 200, 'num_consults': 500}, 'radius-201': {'avg_time': 174.222, 'disk_access': 325.76, 'avg_dist_calc': 15483, 'avg_obj_result': 2055.24, 'radius': 201, 'num_consults': 500}}}, 'tree-4': {'data-4': {'radius-0': {'avg_time': 3.42534, 'disk_access': 210.664, 'avg_dist_calc': 344.914, 'avg_obj_result': 1.006, 'radius': 0, 'num_consults': 500}, 'radius-656': {'avg_time': 5.06582, 'disk_access': 229.062, 'avg_dist_calc': 2875.41, 'avg_obj_result': 1.364, 'radius': 656, 'num_consults': 500}, 'radius-1312': {'avg_time': 6.29614, 'disk_access': 246.44, 'avg_dist_calc': 5284.77, 'avg_obj_result': 14.374, 'radius': 1312, 'num_consults': 500}, 'radius-1968': {'avg_time': 7.61627, 'disk_access': 262.442, 'avg_dist_calc': 7503.79, 'avg_obj_result': 63.68, 'radius': 1968, 'num_consults': 500}, 'radius-2624': {'avg_time': 8.19338, 'disk_access': 277.362, 'avg_dist_calc': 9495.35, 'avg_obj_result': 172.96, 'radius': 2624, 'num_consults': 500}, 'radius-3280': {'avg_time': 9.81029, 'disk_access': 291.482, 'avg_dist_calc': 11277.7, 'avg_obj_result': 385.232, 'radius': 3280, 'num_consults': 500}, 'radius-3936': {'avg_time': 11.521, 'disk_access': 304.026, 'avg_dist_calc': 12853.5, 'avg_obj_result': 745.556, 'radius': 3936, 'num_consults': 500}, 'radius-4592': {'avg_time': 12.864, 'disk_access': 315.696, 'avg_dist_calc': 14236.5, 'avg_obj_result': 1291.7, 'radius': 4592, 'num_consults': 500}, 'radius-5248': {'avg_time': 14.4048, 'disk_access': 325.296, 'avg_dist_calc': 15427.8, 'avg_obj_result': 2057.15, 'radius': 5248, 'num_consults': 500}, 'radius-5249': {'avg_time': 14.3557, 'disk_access': 325.316, 'avg_dist_calc': 15429.4, 'avg_obj_result': 2058.4, 'radius': 5249, 'num_consults': 500}}, 'data-5': {'radius-0': {'avg_time': 31.0438, 'disk_access': 222.134, 'avg_dist_calc': 7084.28, 'avg_obj_result': 1.006, 'radius': 0, 'num_consults': 500}, 'radius-297': {'avg_time': 35.7667, 'disk_access': 238.102, 'avg_dist_calc': 8299.32, 'avg_obj_result': 1.562, 'radius': 297, 'num_consults': 500}, 'radius-594': {'avg_time': 40.0878, 'disk_access': 253.402, 'avg_dist_calc': 9526.84, 'avg_obj_result': 15.482, 'radius': 594, 'num_consults': 500}, 'radius-891': {'avg_time': 45.2808, 'disk_access': 267.392, 'avg_dist_calc': 10742.9, 'avg_obj_result': 69.146, 'radius': 891, 'num_consults': 500}, 'radius-1188': {'avg_time': 51.4541, 'disk_access': 280.638, 'avg_dist_calc': 11902.5, 'avg_obj_result': 190.646, 'radius': 1188, 'num_consults': 500}, 'radius-1485': {'avg_time': 55.6075, 'disk_access': 292.884, 'avg_dist_calc': 13008.9, 'avg_obj_result': 420.064, 'radius': 1485, 'num_consults': 500}, 'radius-1782': {'avg_time': 61.3479, 'disk_access': 304.022, 'avg_dist_calc': 14050.5, 'avg_obj_result': 790.344, 'radius': 1782, 'num_consults': 500}, 'radius-2079': {'avg_time': 66.488, 'disk_access': 314.146, 'avg_dist_calc': 15012.7, 'avg_obj_result': 1324.48, 'radius': 2079, 'num_consults': 500}, 'radius-2376': {'avg_time': 71.2346, 'disk_access': 323.298, 'avg_dist_calc': 15891.1, 'avg_obj_result': 2041.57, 'radius': 2376, 'num_consults': 500}, 'radius-2382': {'avg_time': 76.184, 'disk_access': 323.426, 'avg_dist_calc': 15907.9, 'avg_obj_result': 2058.21, 'radius': 2382, 'num_consults': 500}}, 'data-6': {'radius-0': {'avg_time': 66.1418, 'disk_access': 245.234, 'avg_dist_calc': 8904.16, 'avg_obj_result': 1.006, 'radius': 0, 'num_consults': 500}, 'radius-115': {'avg_time': 69.9486, 'disk_access': 256.788, 'avg_dist_calc': 9834.17, 'avg_obj_result': 4.032, 'radius': 115, 'num_consults': 500}, 'radius-230': {'avg_time': 76.4642, 'disk_access': 268.136, 'avg_dist_calc': 10755.2, 'avg_obj_result': 31.672, 'radius': 230, 'num_consults': 500}, 'radius-345': {'avg_time': 81.7871, 'disk_access': 278.306, 'avg_dist_calc': 11669, 'avg_obj_result': 124.716, 'radius': 345, 'num_consults': 500}, 'radius-460': {'avg_time': 88.3066, 'disk_access': 287.964, 'avg_dist_calc': 12522.2, 'avg_obj_result': 301.246, 'radius': 460, 'num_consults': 500}, 'radius-575': {'avg_time': 94.2613, 'disk_access': 296.906, 'avg_dist_calc': 13334.5, 'avg_obj_result': 578.854, 'radius': 575, 'num_consults': 500}, 'radius-690': {'avg_time': 100.38, 'disk_access': 304.91, 'avg_dist_calc': 14103.2, 'avg_obj_result': 960.33, 'radius': 690, 'num_consults': 500}, 'radius-805': {'avg_time': 105.69, 'disk_access': 312.702, 'avg_dist_calc': 14830.4, 'avg_obj_result': 1450.65, 'radius': 805, 'num_consults': 500}, 'radius-920': {'avg_time': 111.833, 'disk_access': 319.512, 'avg_dist_calc': 15512.6, 'avg_obj_result': 2039.61, 'radius': 920, 'num_consults': 500}, 'radius-923': {'avg_time': 112.651, 'disk_access': 319.69, 'avg_dist_calc': 15529.2, 'avg_obj_result': 2057.41, 'radius': 923, 'num_consults': 500}}, 'data-7': {'radius-0': {'avg_time': 117.247, 'disk_access': 287.366, 'avg_dist_calc': 12386.5, 'avg_obj_result': 1.03, 'radius': 0, 'num_consults': 500}, 'radius-25': {'avg_time': 122.291, 'disk_access': 291.13, 'avg_dist_calc': 12735.5, 'avg_obj_result': 90.5, 'radius': 25, 'num_consults': 500}, 'radius-50': {'avg_time': 124.991, 'disk_access': 294.818, 'avg_dist_calc': 13074.7, 'avg_obj_result': 208.202, 'radius': 50, 'num_consults': 500}, 'radius-75': {'avg_time': 129.455, 'disk_access': 298.33, 'avg_dist_calc': 13417, 'avg_obj_result': 370.582, 'radius': 75, 'num_consults': 500}, 'radius-100': {'avg_time': 133.05, 'disk_access': 302.046, 'avg_dist_calc': 13745.2, 'avg_obj_result': 572.334, 'radius': 100, 'num_consults': 500}, 'radius-125': {'avg_time': 135.83, 'disk_access': 305.256, 'avg_dist_calc': 14058, 'avg_obj_result': 791.622, 'radius': 125, 'num_consults': 500}, 'radius-150': {'avg_time': 139.756, 'disk_access': 308.782, 'avg_dist_calc': 14366.7, 'avg_obj_result': 1025.86, 'radius': 150, 'num_consults': 500}, 'radius-175': {'avg_time': 145.299, 'disk_access': 311.748, 'avg_dist_calc': 14694.6, 'avg_obj_result': 1710.79, 'radius': 175, 'num_consults': 500}, 'radius-200': {'avg_time': 149.373, 'disk_access': 314.994, 'avg_dist_calc': 14983.2, 'avg_obj_result': 2044.44, 'radius': 200, 'num_consults': 500}, 'radius-201': {'avg_time': 149.612, 'disk_access': 315.102, 'avg_dist_calc': 14994.5, 'avg_obj_result': 2055.24, 'radius': 201, 'num_consults': 500}}}, 'tree-5': {'data-5': {'radius-0': {'avg_time': 3.12897, 'disk_access': 173.66, 'avg_dist_calc': 342.498, 'avg_obj_result': 1.006, 'radius': 0, 'num_consults': 500}, 'radius-297': {'avg_time': 4.52667, 'disk_access': 191.93, 'avg_dist_calc': 2356.48, 'avg_obj_result': 1.562, 'radius': 297, 'num_consults': 500}, 'radius-594': {'avg_time': 5.21969, 'disk_access': 210.208, 'avg_dist_calc': 4310.11, 'avg_obj_result': 15.482, 'radius': 594, 'num_consults': 500}, 'radius-891': {'avg_time': 6.36959, 'disk_access': 228.202, 'avg_dist_calc': 6177.35, 'avg_obj_result': 69.146, 'radius': 891, 'num_consults': 500}, 'radius-1188': {'avg_time': 7.62003, 'disk_access': 246.136, 'avg_dist_calc': 7922.31, 'avg_obj_result': 190.646, 'radius': 1188, 'num_consults': 500}, 'radius-1485': {'avg_time': 8.55708, 'disk_access': 263.258, 'avg_dist_calc': 9552.66, 'avg_obj_result': 420.064, 'radius': 1485, 'num_consults': 500}, 'radius-1782': {'avg_time': 10.0984, 'disk_access': 280.218, 'avg_dist_calc': 11069.3, 'avg_obj_result': 790.344, 'radius': 1782, 'num_consults': 500}, 'radius-2079': {'avg_time': 11.7178, 'disk_access': 295.986, 'avg_dist_calc': 12482.1, 'avg_obj_result': 1324.48, 'radius': 2079, 'num_consults': 500}, 'radius-2376': {'avg_time': 13.8568, 'disk_access': 309.96, 'avg_dist_calc': 13767.7, 'avg_obj_result': 2041.57, 'radius': 2376, 'num_consults': 500}, 'radius-2382': {'avg_time': 14.2014, 'disk_access': 310.23, 'avg_dist_calc': 13792.3, 'avg_obj_result': 2058.21, 'radius': 2382, 'num_consults': 500}}, 'data-6': {'radius-0': {'avg_time': 30.6752, 'disk_access': 202.68, 'avg_dist_calc': 6684.1, 'avg_obj_result': 1.006, 'radius': 0, 'num_consults': 500}, 'radius-115': {'avg_time': 34.8388, 'disk_access': 216.53, 'avg_dist_calc': 7584.25, 'avg_obj_result': 4.032, 'radius': 115, 'num_consults': 500}, 'radius-230': {'avg_time': 38.8488, 'disk_access': 230.17, 'avg_dist_calc': 8501.44, 'avg_obj_result': 31.672, 'radius': 230, 'num_consults': 500}, 'radius-345': {'avg_time': 42.5708, 'disk_access': 243.296, 'avg_dist_calc': 9439.65, 'avg_obj_result': 124.716, 'radius': 345, 'num_consults': 500}, 'radius-460': {'avg_time': 47.0374, 'disk_access': 255.848, 'avg_dist_calc': 10350.3, 'avg_obj_result': 301.246, 'radius': 460, 'num_consults': 500}, 'radius-575': {'avg_time': 51.6638, 'disk_access': 268.642, 'avg_dist_calc': 11250.4, 'avg_obj_result': 578.854, 'radius': 575, 'num_consults': 500}, 'radius-690': {'avg_time': 56.0304, 'disk_access': 280.558, 'avg_dist_calc': 12135.6, 'avg_obj_result': 960.33, 'radius': 690, 'num_consults': 500}, 'radius-805': {'avg_time': 60.6272, 'disk_access': 292.482, 'avg_dist_calc': 12992.4, 'avg_obj_result': 1450.65, 'radius': 805, 'num_consults': 500}, 'radius-920': {'avg_time': 65.2593, 'disk_access': 303.634, 'avg_dist_calc': 13824.2, 'avg_obj_result': 2039.61, 'radius': 920, 'num_consults': 500}, 'radius-923': {'avg_time': 65.8598, 'disk_access': 303.89, 'avg_dist_calc': 13845.4, 'avg_obj_result': 2057.41, 'radius': 923, 'num_consults': 500}}, 'data-7': {'radius-0': {'avg_time': 72.0318, 'disk_access': 257.938, 'avg_dist_calc': 10550.1, 'avg_obj_result': 1.03, 'radius': 0, 'num_consults': 500}, 'radius-25': {'avg_time': 76.3041, 'disk_access': 262.628, 'avg_dist_calc': 10927.2, 'avg_obj_result': 90.5, 'radius': 25, 'num_consults': 500}, 'radius-50': {'avg_time': 77.6853, 'disk_access': 267.776, 'avg_dist_calc': 11296, 'avg_obj_result': 208.202, 'radius': 50, 'num_consults': 500}, 'radius-75': {'avg_time': 80.7209, 'disk_access': 272.862, 'avg_dist_calc': 11663.8, 'avg_obj_result': 370.582, 'radius': 75, 'num_consults': 500}, 'radius-100': {'avg_time': 83.8937, 'disk_access': 277.472, 'avg_dist_calc': 12023.6, 'avg_obj_result': 572.334, 'radius': 100, 'num_consults': 500}, 'radius-125': {'avg_time': 87.0782, 'disk_access': 282.156, 'avg_dist_calc': 12372.1, 'avg_obj_result': 791.622, 'radius': 125, 'num_consults': 500}, 'radius-150': {'avg_time': 89.396, 'disk_access': 286.774, 'avg_dist_calc': 12720.1, 'avg_obj_result': 1025.86, 'radius': 150, 'num_consults': 500}, 'radius-175': {'avg_time': 93.449, 'disk_access': 290.538, 'avg_dist_calc': 13089.9, 'avg_obj_result': 1710.79, 'radius': 175, 'num_consults': 500}, 'radius-200': {'avg_time': 92.7127, 'disk_access': 294.778, 'avg_dist_calc': 13417.6, 'avg_obj_result': 2044.44, 'radius': 200, 'num_consults': 500}, 'radius-201': {'avg_time': 92.5757, 'disk_access': 294.878, 'avg_dist_calc': 13430.9, 'avg_obj_result': 2055.24, 'radius': 201, 'num_consults': 500}}}, 'tree-6': {'data-6': {'radius-0': {'avg_time': 2.48964, 'disk_access': 156.516, 'avg_dist_calc': 351.978, 'avg_obj_result': 1.006, 'radius': 0, 'num_consults': 500}, 'radius-115': {'avg_time': 3.31356, 'disk_access': 171.136, 'avg_dist_calc': 1853.86, 'avg_obj_result': 4.032, 'radius': 115, 'num_consults': 500}, 'radius-230': {'avg_time': 4.02155, 'disk_access': 185.864, 'avg_dist_calc': 3319.15, 'avg_obj_result': 31.672, 'radius': 230, 'num_consults': 500}, 'radius-345': {'avg_time': 5.2582, 'disk_access': 200.218, 'avg_dist_calc': 4764.22, 'avg_obj_result': 124.716, 'radius': 345, 'num_consults': 500}, 'radius-460': {'avg_time': 5.86161, 'disk_access': 214.27, 'avg_dist_calc': 6102.33, 'avg_obj_result': 301.246, 'radius': 460, 'num_consults': 500}, 'radius-575': {'avg_time': 6.8802, 'disk_access': 228.022, 'avg_dist_calc': 7378.01, 'avg_obj_result': 578.854, 'radius': 575, 'num_consults': 500}, 'radius-690': {'avg_time': 8.23274, 'disk_access': 241.814, 'avg_dist_calc': 8590.31, 'avg_obj_result': 960.33, 'radius': 690, 'num_consults': 500}, 'radius-805': {'avg_time': 9.3102, 'disk_access': 254.64, 'avg_dist_calc': 9745.65, 'avg_obj_result': 1450.65, 'radius': 805, 'num_consults': 500}, 'radius-920': {'avg_time': 11.3778, 'disk_access': 266.87, 'avg_dist_calc': 10836.3, 'avg_obj_result': 2039.61, 'radius': 920, 'num_consults': 500}, 'radius-923': {'avg_time': 11.0268, 'disk_access': 267.168, 'avg_dist_calc': 10864.6, 'avg_obj_result': 2057.41, 'radius': 923, 'num_consults': 500}}, 'data-7': {'radius-0': {'avg_time': 34.4198, 'disk_access': 219.3, 'avg_dist_calc': 7978.4, 'avg_obj_result': 1.03, 'radius': 0, 'num_consults': 500}, 'radius-25': {'avg_time': 36.282, 'disk_access': 224.872, 'avg_dist_calc': 8389.66, 'avg_obj_result': 90.5, 'radius': 25, 'num_consults': 500}, 'radius-50': {'avg_time': 38.9002, 'disk_access': 230.816, 'avg_dist_calc': 8790.02, 'avg_obj_result': 208.202, 'radius': 50, 'num_consults': 500}, 'radius-75': {'avg_time': 40.8643, 'disk_access': 236.024, 'avg_dist_calc': 9190.93, 'avg_obj_result': 370.582, 'radius': 75, 'num_consults': 500}, 'radius-100': {'avg_time': 43.3488, 'disk_access': 241.464, 'avg_dist_calc': 9589.97, 'avg_obj_result': 572.334, 'radius': 100, 'num_consults': 500}, 'radius-125': {'avg_time': 45.6985, 'disk_access': 246.678, 'avg_dist_calc': 9973.6, 'avg_obj_result': 791.622, 'radius': 125, 'num_consults': 500}, 'radius-150': {'avg_time': 47.8598, 'disk_access': 251.932, 'avg_dist_calc': 10359.4, 'avg_obj_result': 1025.86, 'radius': 150, 'num_consults': 500}, 'radius-175': {'avg_time': 51.0034, 'disk_access': 256.858, 'avg_dist_calc': 10789.7, 'avg_obj_result': 1710.79, 'radius': 175, 'num_consults': 500}, 'radius-200': {'avg_time': 53.0278, 'disk_access': 261.972, 'avg_dist_calc': 11153.8, 'avg_obj_result': 2044.44, 'radius': 200, 'num_consults': 500}, 'radius-201': {'avg_time': 52.5715, 'disk_access': 262.192, 'avg_dist_calc': 11167.7, 'avg_obj_result': 2055.24, 'radius': 201, 'num_consults': 500}}}, 'tree-7': {'data-7': {'radius-0': {'avg_time': 1.46173, 'disk_access': 83.392, 'avg_dist_calc': 362.344, 'avg_obj_result': 1.03, 'radius': 0, 'num_consults': 500}, 'radius-25': {'avg_time': 2.01945, 'disk_access': 89.954, 'avg_dist_calc': 974.32, 'avg_obj_result': 90.5, 'radius': 25, 'num_consults': 500}, 'radius-50': {'avg_time': 2.53727, 'disk_access': 97.554, 'avg_dist_calc': 1532, 'avg_obj_result': 208.202, 'radius': 50, 'num_consults': 500}, 'radius-75': {'avg_time': 3.15001, 'disk_access': 105.218, 'avg_dist_calc': 2093.72, 'avg_obj_result': 370.582, 'radius': 75, 'num_consults': 500}, 'radius-100': {'avg_time': 3.74443, 'disk_access': 112.91, 'avg_dist_calc': 2643.72, 'avg_obj_result': 572.334, 'radius': 100, 'num_consults': 500}, 'radius-125': {'avg_time': 4.30457, 'disk_access': 121.506, 'avg_dist_calc': 3182.1, 'avg_obj_result': 791.622, 'radius': 125, 'num_consults': 500}, 'radius-150': {'avg_time': 5.0626, 'disk_access': 130.026, 'avg_dist_calc': 3706.64, 'avg_obj_result': 1025.86, 'radius': 150, 'num_consults': 500}, 'radius-175': {'avg_time': 6.53475, 'disk_access': 138.802, 'avg_dist_calc': 4350.3, 'avg_obj_result': 1710.79, 'radius': 175, 'num_consults': 500}, 'radius-200': {'avg_time': 7.28981, 'disk_access': 146.868, 'avg_dist_calc': 4827.71, 'avg_obj_result': 2044.44, 'radius': 200, 'num_consults': 500}, 'radius-201': {'avg_time': 7.3944, 'disk_access': 147.212, 'avg_dist_calc': 4845.45, 'avg_obj_result': 2055.24, 'radius': 201, 'num_consults': 500}}}}\n"
     ]
    }
   ],
   "source": [
    "with open('results.json', 'r', encoding='utf-8') as arquivo:\n",
    "    all_data  = json.load(arquivo)\n",
    "\n",
    "print(all_data)"
   ]
  },
  {
   "cell_type": "code",
   "execution_count": 18,
   "id": "bf2d37ff",
   "metadata": {},
   "outputs": [
    {
     "name": "stdout",
     "output_type": "stream",
     "text": [
      "DataFrame 'df' not found or invalid. Creating from 'all_data'...\n",
      "DataFrame 'df' created/regenerated successfully.\n",
      "\n",
      "Generating side-by-side plots for Index - Haar Transform: 0 Levels with y=ax^n fit...\n",
      "Fit for 'Haar Lvl 0 (256 bins)': n = 3.5716, a = 4.2091e-15\n",
      "Fit for 'Haar Lvl 1 (128 bins)': n = 3.5580, a = 5.8750e-14\n",
      "Fit for 'Haar Lvl 2 (64 bins)': n = 3.5515, a = 7.5466e-13\n"
     ]
    },
    {
     "data": {
      "application/vnd.plotly.v1+json": {
       "config": {
        "plotlyServerURL": "https://plot.ly"
       },
       "data": [
        {
         "hovertemplate": "<b>Haar Lvl 0 (256 bins)</b><br>Radius: %{x}<br>Avg Objects: %{y:.3f}<extra></extra>",
         "legendgroup": "data_0",
         "marker": {
          "size": 6,
          "symbol": "circle"
         },
         "mode": "lines+markers",
         "name": "Haar Lvl 0 (256 bins)",
         "type": "scatter",
         "x": {
          "bdata": "AAAAAI8rAAAeVwAArYIAADyuAADL2QAAWgUBAOkwAQB4XAEAelwBAA==",
          "dtype": "i4"
         },
         "xaxis": "x",
         "y": {
          "bdata": "f2q8dJMY8D+sHFpkO9/zPzEIrBxaZCtAqMZLN4kBT0Aj2/l+aqxkQIcW2c73+3ZAAiuHFtlqhkA9CtejcMCTQM3MzMzME6BASOF6FC4UoEA=",
          "dtype": "f8"
         },
         "yaxis": "y"
        },
        {
         "hovertemplate": "<b>Fit: Haar Lvl 0 (256 bins)</b><br>Radius (x): %{x}<br>Fit (axⁿ): %{y:.3f}<br>a = 4.21e-15, n = 3.572<extra></extra>",
         "legendgroup": "fit_0",
         "line": {
          "color": "red",
          "dash": "dash"
         },
         "mode": "lines",
         "name": "Fit (a=4.21e-15, n=3.572)",
         "type": "scatter",
         "x": {
          "bdata": "AAAAAI8rAAAeVwAArYIAADyuAADL2QAAWgUBAOkwAQB4XAEAelwBAA==",
          "dtype": "i4"
         },
         "xaxis": "x",
         "y": {
          "bdata": "AAAAAAAAAAA5XB8SozjzP4+86PACkSxAiqBVKshjTkA0gOMKRTplQNt+NYLijHdA4DM8+x+VhkDvMxrb65STQORwB0pejJ9AZbnY2QONn0A=",
          "dtype": "f8"
         },
         "yaxis": "y"
        },
        {
         "hovertemplate": "<b>Haar Lvl 1 (128 bins)</b><br>Radius: %{x}<br>Avg Objects: %{y:.3f}<extra></extra>",
         "legendgroup": "data_1",
         "marker": {
          "size": 6,
          "symbol": "square"
         },
         "mode": "lines+markers",
         "name": "Haar Lvl 1 (128 bins)",
         "type": "scatter",
         "x": {
          "bdata": "AAAAALAVAABgKwAAEEEAAMBWAABwbAAAIIIAANCXAACArQAAh60AAA==",
          "dtype": "i4"
         },
         "xaxis": "x2",
         "y": {
          "bdata": "f2q8dJMY8D+mm8QgsHL0P5zEILBy6CtASgwCK4dWT0CR7Xw/NdZkQEw3iUFgIXdAwcqhRbaBhkB7FK5H4ciTQEjhehSuEaBASOF6FC4UoEA=",
          "dtype": "f8"
         },
         "yaxis": "y2"
        },
        {
         "hovertemplate": "<b>Fit: Haar Lvl 1 (128 bins)</b><br>Radius (x): %{x}<br>Fit (axⁿ): %{y:.3f}<br>a = 5.88e-14, n = 3.558<extra></extra>",
         "legendgroup": "fit_1",
         "line": {
          "color": "red",
          "dash": "dash"
         },
         "mode": "lines",
         "name": "Fit (a=5.88e-14, n=3.558)",
         "type": "scatter",
         "x": {
          "bdata": "AAAAALAVAABgKwAAEEEAAMBWAABwbAAAIIIAANCXAACArQAAh60AAA==",
          "dtype": "i4"
         },
         "xaxis": "x2",
         "y": {
          "bdata": "AAAAAAAAAAAHTITGDcPzP01yDjwBGC1AD9Ik6bXHTkB5AYFYhmplQDpfI3Dxr3dApRLHY06ohkAn2EuE/pqTQFnV5r1xh59A9GpZofiLn0A=",
          "dtype": "f8"
         },
         "yaxis": "y2"
        },
        {
         "hovertemplate": "<b>Haar Lvl 2 (64 bins)</b><br>Radius: %{x}<br>Avg Objects: %{y:.3f}<extra></extra>",
         "legendgroup": "data_2",
         "marker": {
          "size": 6,
          "symbol": "triangle-up"
         },
         "mode": "lines+markers",
         "name": "Haar Lvl 2 (64 bins)",
         "type": "scatter",
         "x": {
          "bdata": "AADICpAVWCAgK+g1sEB4S0BWQVY=",
          "dtype": "i2"
         },
         "xaxis": "x3",
         "y": {
          "bdata": "f2q8dJMY8D8j2/l+arz0P1g5tMh2PixArBxaZDt/T0DufD81XvJkQMuhRbbzPXdArBxaZDuVhkCPwvUoXNSTQHE9CtejE6BAuB6F61EUoEA=",
          "dtype": "f8"
         },
         "yaxis": "y3"
        },
        {
         "hovertemplate": "<b>Fit: Haar Lvl 2 (64 bins)</b><br>Radius (x): %{x}<br>Fit (axⁿ): %{y:.3f}<br>a = 7.55e-13, n = 3.551<extra></extra>",
         "legendgroup": "fit_2",
         "line": {
          "color": "red",
          "dash": "dash"
         },
         "mode": "lines",
         "name": "Fit (a=7.55e-13, n=3.551)",
         "type": "scatter",
         "x": {
          "bdata": "AADICpAVWCAgK+g1sEB4S0BWQVY=",
          "dtype": "i2"
         },
         "xaxis": "x3",
         "y": {
          "bdata": "AAAAAAAAAAAVhrpm5gz0P6PicWCeYi1AwF9wg54BT0CkyB5AdYhlQFgCk9EtyHdAyIz+XpC4hkDMFJxrAKSTQAyKARfjjp9AeYmqxC+Qn0A=",
          "dtype": "f8"
         },
         "yaxis": "y3"
        }
       ],
       "layout": {
        "annotations": [
         {
          "font": {
           "size": 16
          },
          "showarrow": false,
          "text": "Haar Lvl 0 (256 bins)",
          "x": 0.14444444444444446,
          "xanchor": "center",
          "xref": "paper",
          "y": 1,
          "yanchor": "bottom",
          "yref": "paper"
         },
         {
          "font": {
           "size": 16
          },
          "showarrow": false,
          "text": "Haar Lvl 1 (128 bins)",
          "x": 0.5,
          "xanchor": "center",
          "xref": "paper",
          "y": 1,
          "yanchor": "bottom",
          "yref": "paper"
         },
         {
          "font": {
           "size": 16
          },
          "showarrow": false,
          "text": "Haar Lvl 2 (64 bins)",
          "x": 0.8555555555555556,
          "xanchor": "center",
          "xref": "paper",
          "y": 1,
          "yanchor": "bottom",
          "yref": "paper"
         }
        ],
        "legend": {
         "title": {
          "text": "Data / Fit"
         }
        },
        "showlegend": true,
        "template": {
         "data": {
          "bar": [
           {
            "error_x": {
             "color": "#2a3f5f"
            },
            "error_y": {
             "color": "#2a3f5f"
            },
            "marker": {
             "line": {
              "color": "#E5ECF6",
              "width": 0.5
             },
             "pattern": {
              "fillmode": "overlay",
              "size": 10,
              "solidity": 0.2
             }
            },
            "type": "bar"
           }
          ],
          "barpolar": [
           {
            "marker": {
             "line": {
              "color": "#E5ECF6",
              "width": 0.5
             },
             "pattern": {
              "fillmode": "overlay",
              "size": 10,
              "solidity": 0.2
             }
            },
            "type": "barpolar"
           }
          ],
          "carpet": [
           {
            "aaxis": {
             "endlinecolor": "#2a3f5f",
             "gridcolor": "white",
             "linecolor": "white",
             "minorgridcolor": "white",
             "startlinecolor": "#2a3f5f"
            },
            "baxis": {
             "endlinecolor": "#2a3f5f",
             "gridcolor": "white",
             "linecolor": "white",
             "minorgridcolor": "white",
             "startlinecolor": "#2a3f5f"
            },
            "type": "carpet"
           }
          ],
          "choropleth": [
           {
            "colorbar": {
             "outlinewidth": 0,
             "ticks": ""
            },
            "type": "choropleth"
           }
          ],
          "contour": [
           {
            "colorbar": {
             "outlinewidth": 0,
             "ticks": ""
            },
            "colorscale": [
             [
              0,
              "#0d0887"
             ],
             [
              0.1111111111111111,
              "#46039f"
             ],
             [
              0.2222222222222222,
              "#7201a8"
             ],
             [
              0.3333333333333333,
              "#9c179e"
             ],
             [
              0.4444444444444444,
              "#bd3786"
             ],
             [
              0.5555555555555556,
              "#d8576b"
             ],
             [
              0.6666666666666666,
              "#ed7953"
             ],
             [
              0.7777777777777778,
              "#fb9f3a"
             ],
             [
              0.8888888888888888,
              "#fdca26"
             ],
             [
              1,
              "#f0f921"
             ]
            ],
            "type": "contour"
           }
          ],
          "contourcarpet": [
           {
            "colorbar": {
             "outlinewidth": 0,
             "ticks": ""
            },
            "type": "contourcarpet"
           }
          ],
          "heatmap": [
           {
            "colorbar": {
             "outlinewidth": 0,
             "ticks": ""
            },
            "colorscale": [
             [
              0,
              "#0d0887"
             ],
             [
              0.1111111111111111,
              "#46039f"
             ],
             [
              0.2222222222222222,
              "#7201a8"
             ],
             [
              0.3333333333333333,
              "#9c179e"
             ],
             [
              0.4444444444444444,
              "#bd3786"
             ],
             [
              0.5555555555555556,
              "#d8576b"
             ],
             [
              0.6666666666666666,
              "#ed7953"
             ],
             [
              0.7777777777777778,
              "#fb9f3a"
             ],
             [
              0.8888888888888888,
              "#fdca26"
             ],
             [
              1,
              "#f0f921"
             ]
            ],
            "type": "heatmap"
           }
          ],
          "histogram": [
           {
            "marker": {
             "pattern": {
              "fillmode": "overlay",
              "size": 10,
              "solidity": 0.2
             }
            },
            "type": "histogram"
           }
          ],
          "histogram2d": [
           {
            "colorbar": {
             "outlinewidth": 0,
             "ticks": ""
            },
            "colorscale": [
             [
              0,
              "#0d0887"
             ],
             [
              0.1111111111111111,
              "#46039f"
             ],
             [
              0.2222222222222222,
              "#7201a8"
             ],
             [
              0.3333333333333333,
              "#9c179e"
             ],
             [
              0.4444444444444444,
              "#bd3786"
             ],
             [
              0.5555555555555556,
              "#d8576b"
             ],
             [
              0.6666666666666666,
              "#ed7953"
             ],
             [
              0.7777777777777778,
              "#fb9f3a"
             ],
             [
              0.8888888888888888,
              "#fdca26"
             ],
             [
              1,
              "#f0f921"
             ]
            ],
            "type": "histogram2d"
           }
          ],
          "histogram2dcontour": [
           {
            "colorbar": {
             "outlinewidth": 0,
             "ticks": ""
            },
            "colorscale": [
             [
              0,
              "#0d0887"
             ],
             [
              0.1111111111111111,
              "#46039f"
             ],
             [
              0.2222222222222222,
              "#7201a8"
             ],
             [
              0.3333333333333333,
              "#9c179e"
             ],
             [
              0.4444444444444444,
              "#bd3786"
             ],
             [
              0.5555555555555556,
              "#d8576b"
             ],
             [
              0.6666666666666666,
              "#ed7953"
             ],
             [
              0.7777777777777778,
              "#fb9f3a"
             ],
             [
              0.8888888888888888,
              "#fdca26"
             ],
             [
              1,
              "#f0f921"
             ]
            ],
            "type": "histogram2dcontour"
           }
          ],
          "mesh3d": [
           {
            "colorbar": {
             "outlinewidth": 0,
             "ticks": ""
            },
            "type": "mesh3d"
           }
          ],
          "parcoords": [
           {
            "line": {
             "colorbar": {
              "outlinewidth": 0,
              "ticks": ""
             }
            },
            "type": "parcoords"
           }
          ],
          "pie": [
           {
            "automargin": true,
            "type": "pie"
           }
          ],
          "scatter": [
           {
            "fillpattern": {
             "fillmode": "overlay",
             "size": 10,
             "solidity": 0.2
            },
            "type": "scatter"
           }
          ],
          "scatter3d": [
           {
            "line": {
             "colorbar": {
              "outlinewidth": 0,
              "ticks": ""
             }
            },
            "marker": {
             "colorbar": {
              "outlinewidth": 0,
              "ticks": ""
             }
            },
            "type": "scatter3d"
           }
          ],
          "scattercarpet": [
           {
            "marker": {
             "colorbar": {
              "outlinewidth": 0,
              "ticks": ""
             }
            },
            "type": "scattercarpet"
           }
          ],
          "scattergeo": [
           {
            "marker": {
             "colorbar": {
              "outlinewidth": 0,
              "ticks": ""
             }
            },
            "type": "scattergeo"
           }
          ],
          "scattergl": [
           {
            "marker": {
             "colorbar": {
              "outlinewidth": 0,
              "ticks": ""
             }
            },
            "type": "scattergl"
           }
          ],
          "scattermap": [
           {
            "marker": {
             "colorbar": {
              "outlinewidth": 0,
              "ticks": ""
             }
            },
            "type": "scattermap"
           }
          ],
          "scattermapbox": [
           {
            "marker": {
             "colorbar": {
              "outlinewidth": 0,
              "ticks": ""
             }
            },
            "type": "scattermapbox"
           }
          ],
          "scatterpolar": [
           {
            "marker": {
             "colorbar": {
              "outlinewidth": 0,
              "ticks": ""
             }
            },
            "type": "scatterpolar"
           }
          ],
          "scatterpolargl": [
           {
            "marker": {
             "colorbar": {
              "outlinewidth": 0,
              "ticks": ""
             }
            },
            "type": "scatterpolargl"
           }
          ],
          "scatterternary": [
           {
            "marker": {
             "colorbar": {
              "outlinewidth": 0,
              "ticks": ""
             }
            },
            "type": "scatterternary"
           }
          ],
          "surface": [
           {
            "colorbar": {
             "outlinewidth": 0,
             "ticks": ""
            },
            "colorscale": [
             [
              0,
              "#0d0887"
             ],
             [
              0.1111111111111111,
              "#46039f"
             ],
             [
              0.2222222222222222,
              "#7201a8"
             ],
             [
              0.3333333333333333,
              "#9c179e"
             ],
             [
              0.4444444444444444,
              "#bd3786"
             ],
             [
              0.5555555555555556,
              "#d8576b"
             ],
             [
              0.6666666666666666,
              "#ed7953"
             ],
             [
              0.7777777777777778,
              "#fb9f3a"
             ],
             [
              0.8888888888888888,
              "#fdca26"
             ],
             [
              1,
              "#f0f921"
             ]
            ],
            "type": "surface"
           }
          ],
          "table": [
           {
            "cells": {
             "fill": {
              "color": "#EBF0F8"
             },
             "line": {
              "color": "white"
             }
            },
            "header": {
             "fill": {
              "color": "#C8D4E3"
             },
             "line": {
              "color": "white"
             }
            },
            "type": "table"
           }
          ]
         },
         "layout": {
          "annotationdefaults": {
           "arrowcolor": "#2a3f5f",
           "arrowhead": 0,
           "arrowwidth": 1
          },
          "autotypenumbers": "strict",
          "coloraxis": {
           "colorbar": {
            "outlinewidth": 0,
            "ticks": ""
           }
          },
          "colorscale": {
           "diverging": [
            [
             0,
             "#8e0152"
            ],
            [
             0.1,
             "#c51b7d"
            ],
            [
             0.2,
             "#de77ae"
            ],
            [
             0.3,
             "#f1b6da"
            ],
            [
             0.4,
             "#fde0ef"
            ],
            [
             0.5,
             "#f7f7f7"
            ],
            [
             0.6,
             "#e6f5d0"
            ],
            [
             0.7,
             "#b8e186"
            ],
            [
             0.8,
             "#7fbc41"
            ],
            [
             0.9,
             "#4d9221"
            ],
            [
             1,
             "#276419"
            ]
           ],
           "sequential": [
            [
             0,
             "#0d0887"
            ],
            [
             0.1111111111111111,
             "#46039f"
            ],
            [
             0.2222222222222222,
             "#7201a8"
            ],
            [
             0.3333333333333333,
             "#9c179e"
            ],
            [
             0.4444444444444444,
             "#bd3786"
            ],
            [
             0.5555555555555556,
             "#d8576b"
            ],
            [
             0.6666666666666666,
             "#ed7953"
            ],
            [
             0.7777777777777778,
             "#fb9f3a"
            ],
            [
             0.8888888888888888,
             "#fdca26"
            ],
            [
             1,
             "#f0f921"
            ]
           ],
           "sequentialminus": [
            [
             0,
             "#0d0887"
            ],
            [
             0.1111111111111111,
             "#46039f"
            ],
            [
             0.2222222222222222,
             "#7201a8"
            ],
            [
             0.3333333333333333,
             "#9c179e"
            ],
            [
             0.4444444444444444,
             "#bd3786"
            ],
            [
             0.5555555555555556,
             "#d8576b"
            ],
            [
             0.6666666666666666,
             "#ed7953"
            ],
            [
             0.7777777777777778,
             "#fb9f3a"
            ],
            [
             0.8888888888888888,
             "#fdca26"
            ],
            [
             1,
             "#f0f921"
            ]
           ]
          },
          "colorway": [
           "#636efa",
           "#EF553B",
           "#00cc96",
           "#ab63fa",
           "#FFA15A",
           "#19d3f3",
           "#FF6692",
           "#B6E880",
           "#FF97FF",
           "#FECB52"
          ],
          "font": {
           "color": "#2a3f5f"
          },
          "geo": {
           "bgcolor": "white",
           "lakecolor": "white",
           "landcolor": "#E5ECF6",
           "showlakes": true,
           "showland": true,
           "subunitcolor": "white"
          },
          "hoverlabel": {
           "align": "left"
          },
          "hovermode": "closest",
          "mapbox": {
           "style": "light"
          },
          "paper_bgcolor": "white",
          "plot_bgcolor": "#E5ECF6",
          "polar": {
           "angularaxis": {
            "gridcolor": "white",
            "linecolor": "white",
            "ticks": ""
           },
           "bgcolor": "#E5ECF6",
           "radialaxis": {
            "gridcolor": "white",
            "linecolor": "white",
            "ticks": ""
           }
          },
          "scene": {
           "xaxis": {
            "backgroundcolor": "#E5ECF6",
            "gridcolor": "white",
            "gridwidth": 2,
            "linecolor": "white",
            "showbackground": true,
            "ticks": "",
            "zerolinecolor": "white"
           },
           "yaxis": {
            "backgroundcolor": "#E5ECF6",
            "gridcolor": "white",
            "gridwidth": 2,
            "linecolor": "white",
            "showbackground": true,
            "ticks": "",
            "zerolinecolor": "white"
           },
           "zaxis": {
            "backgroundcolor": "#E5ECF6",
            "gridcolor": "white",
            "gridwidth": 2,
            "linecolor": "white",
            "showbackground": true,
            "ticks": "",
            "zerolinecolor": "white"
           }
          },
          "shapedefaults": {
           "line": {
            "color": "#2a3f5f"
           }
          },
          "ternary": {
           "aaxis": {
            "gridcolor": "white",
            "linecolor": "white",
            "ticks": ""
           },
           "baxis": {
            "gridcolor": "white",
            "linecolor": "white",
            "ticks": ""
           },
           "bgcolor": "#E5ECF6",
           "caxis": {
            "gridcolor": "white",
            "linecolor": "white",
            "ticks": ""
           }
          },
          "title": {
           "x": 0.05
          },
          "xaxis": {
           "automargin": true,
           "gridcolor": "white",
           "linecolor": "white",
           "ticks": "",
           "title": {
            "standoff": 15
           },
           "zerolinecolor": "white",
           "zerolinewidth": 2
          },
          "yaxis": {
           "automargin": true,
           "gridcolor": "white",
           "linecolor": "white",
           "ticks": "",
           "title": {
            "standoff": 15
           },
           "zerolinecolor": "white",
           "zerolinewidth": 2
          }
         }
        },
        "title": {
         "text": "Index - Haar Transform: 0 Levels - Average Objects Returned vs. Query Radius (y=axⁿ Fit)"
        },
        "xaxis": {
         "anchor": "y",
         "domain": [
          0,
          0.2888888888888889
         ],
         "rangemode": "tozero",
         "title": {
          "text": "Query Radius"
         }
        },
        "xaxis2": {
         "anchor": "y2",
         "domain": [
          0.35555555555555557,
          0.6444444444444445
         ],
         "rangemode": "tozero",
         "title": {
          "text": "Query Radius"
         }
        },
        "xaxis3": {
         "anchor": "y3",
         "domain": [
          0.7111111111111111,
          1
         ],
         "rangemode": "tozero",
         "title": {
          "text": "Query Radius"
         }
        },
        "yaxis": {
         "anchor": "x",
         "domain": [
          0,
          1
         ],
         "rangemode": "tozero",
         "title": {
          "text": "Average Objects Returned"
         }
        },
        "yaxis2": {
         "anchor": "x2",
         "domain": [
          0,
          1
         ],
         "rangemode": "tozero",
         "title": {
          "text": "Average Objects Returned"
         }
        },
        "yaxis3": {
         "anchor": "x3",
         "domain": [
          0,
          1
         ],
         "rangemode": "tozero",
         "title": {
          "text": "Average Objects Returned"
         }
        }
       }
      }
     },
     "metadata": {},
     "output_type": "display_data"
    },
    {
     "name": "stdout",
     "output_type": "stream",
     "text": [
      "\n",
      "End of side-by-side plot generation with y=ax^n fit.\n"
     ]
    }
   ],
   "source": [
    "# Block to ensure the DataFrame df exists and has the necessary columns\n",
    "try:\n",
    "    if 'df' not in locals() or not isinstance(df, pd.DataFrame): # Check if df exists\n",
    "        print(\"DataFrame 'df' not found or invalid. Creating from 'all_data'...\")\n",
    "        flat_data_list = []\n",
    "        for tree_key, tree_content in all_data.items():\n",
    "            if not isinstance(tree_content, dict): continue\n",
    "            for data_key, data_content in tree_content.items():\n",
    "                if not isinstance(data_content, dict): continue\n",
    "                for radius_key, metrics in data_content.items():\n",
    "                    if not isinstance(metrics, dict): continue\n",
    "                    record = metrics.copy()\n",
    "                    record['tree'] = tree_key\n",
    "                    record['data'] = data_key\n",
    "                    if 'radius' not in record:\n",
    "                        try:\n",
    "                            record['radius'] = int(radius_key.split('-')[-1])\n",
    "                        except (ValueError, IndexError):\n",
    "                            record['radius'] = -1\n",
    "                    flat_data_list.append(record)\n",
    "\n",
    "        if not flat_data_list:\n",
    "             raise ValueError(\"No valid data found in 'all_data' to create DataFrame.\")\n",
    "\n",
    "        df = pd.DataFrame(flat_data_list)\n",
    "        numeric_cols = ['avg_time', 'disk_access', 'avg_dist_calc', 'avg_obj_result', 'radius']\n",
    "        for col in numeric_cols:\n",
    "            if col in df.columns:\n",
    "                df[col] = pd.to_numeric(df[col], errors='coerce')\n",
    "            else:\n",
    "                 print(f\"Warning: Column '{col}' not found in source data.\")\n",
    "\n",
    "        # Ensure 'radius' and 'avg_obj_result' are not null for this plot type\n",
    "        required_cols = ['radius', 'avg_obj_result', 'tree', 'data']\n",
    "        if not all(col in df.columns for col in required_cols):\n",
    "             raise ValueError(f\"DataFrame missing one or more required columns: {required_cols}\")\n",
    "\n",
    "        df.dropna(subset=['radius', 'avg_obj_result'], inplace=True) # Check for avg_obj_result\n",
    "        df = df[df['radius'] >= 0].copy()\n",
    "        print(\"DataFrame 'df' created/regenerated successfully.\")\n",
    "    else:\n",
    "        print(\"DataFrame 'df' already exists. Skipping creation.\")\n",
    "\n",
    "except Exception as e:\n",
    "    print(f\"Error processing data to create DataFrame: {e}\")\n",
    "    df = pd.DataFrame() # Create empty df to prevent later errors\n",
    "# --- End of Loading and Preparation Block ---\n",
    "\n",
    "\n",
    "# --- Mappings (English) ---\n",
    "tree_title_map = {\n",
    "    \"tree-0\": \"Index - Haar Transform: 0 Levels\",\n",
    "    \"tree-1\": \"Index - Haar Transform: 1 Level\",\n",
    "    \"tree-2\": \"Index - Haar Transform: 2 Levels\",\n",
    "    # Add more if needed, but script filters for 0, 1, 2\n",
    "}\n",
    "\n",
    "data_label_map = {\n",
    "    \"data-0\": \"Haar Lvl 0 (256 bins)\",\n",
    "    \"data-1\": \"Haar Lvl 1 (128 bins)\",\n",
    "    \"data-2\": \"Haar Lvl 2 (64 bins)\",\n",
    "    \"data-3\": \"Haar Lvl 3 (32 bins)\",\n",
    "    \"data-4\": \"Haar Lvl 4 (16 bins)\",\n",
    "    \"data-5\": \"Haar Lvl 5 (8 bins)\",\n",
    "    \"data-6\": \"Haar Lvl 6 (4 bins)\",\n",
    "    \"data-7\": \"Haar Lvl 7 (2 bins)\",\n",
    "    # Add more mappings if your data has more data-X keys\n",
    "}\n",
    "\n",
    "# --- Plot Generation: Average Objects Returned vs. Radius with y=ax^n Fit ---\n",
    "target_tree = 'tree-0'\n",
    "target_data_keys = ['data-0', 'data-1', 'data-2'] # Data keys for subplots\n",
    "\n",
    "# Define marker symbols for different data traces\n",
    "marker_symbols = ['circle', 'square', 'triangle-up', 'cross', 'diamond', 'star']\n",
    "\n",
    "# Get the mapped title for the target tree\n",
    "tree_title = tree_title_map.get(target_tree, target_tree)\n",
    "\n",
    "print(f\"\\nGenerating side-by-side plots for {tree_title} with y=ax^n fit...\")\n",
    "\n",
    "# 1. Check if DataFrame is valid and required column exists\n",
    "if df.empty:\n",
    "    print(\"Error: DataFrame 'df' is empty. Cannot generate plots.\")\n",
    "elif 'avg_obj_result' not in df.columns:\n",
    "     print(\"Error: Column 'avg_obj_result' not found in the DataFrame.\")\n",
    "else:\n",
    "    # Filter the DataFrame for the target tree\n",
    "    df_tree_filtered = df[df['tree'] == target_tree].copy()\n",
    "\n",
    "    # 2. Pre-processing: Identify data keys with sufficient data for fitting\n",
    "    plots_to_make = []\n",
    "    valid_data_keys = [] # Original keys\n",
    "    subplot_titles = []  # Mapped labels\n",
    "    fit_params = {}      # Dictionary to store parameters (a, n) for each fit\n",
    "\n",
    "    for data_key in target_data_keys:\n",
    "        df_plot = df_tree_filtered[df_tree_filtered['data'] == data_key].copy()\n",
    "        # Filter points for log-log fit: radius > 0 and avg_obj_result > 0\n",
    "        # Use a small epsilon to avoid log(0) issues\n",
    "        epsilon = 1e-9\n",
    "        df_fit_data = df_plot[(df_plot['radius'] >= epsilon) & (df_plot['avg_obj_result'] > epsilon)].copy()\n",
    "\n",
    "        if len(df_fit_data) >= 2: # Need at least 2 points for regression\n",
    "            df_plot.sort_values(by='radius', inplace=True) # Sort original data for plotting\n",
    "            plots_to_make.append(df_plot)\n",
    "            valid_data_keys.append(data_key)\n",
    "            subplot_titles.append(data_label_map.get(data_key, data_key)) # Add mapped title\n",
    "\n",
    "            # Calculate 'n' and 'a' for this data_key using log-log regression\n",
    "            try:\n",
    "                log_x = np.log(df_fit_data['radius'])\n",
    "                log_y = np.log(df_fit_data['avg_obj_result'])\n",
    "                # Fit a polynomial of degree 1 (linear fit in log-log space)\n",
    "                coefficients = np.polyfit(log_x, log_y, 1)\n",
    "                n = coefficients[0] # Slope in log-log is the exponent n\n",
    "                a = np.exp(coefficients[1]) # Intercept in log-log is log(a)\n",
    "                fit_params[data_key] = {'n': n, 'a': a} # Store parameters\n",
    "                print(f\"Fit for '{data_label_map.get(data_key, data_key)}': n = {n:.4f}, a = {a:.4e}\")\n",
    "            except Exception as e:\n",
    "                print(f\"Error calculating fit for '{data_label_map.get(data_key, data_key)}': {e}\")\n",
    "                fit_params[data_key] = None # Mark fit as failed\n",
    "        elif not df_plot.empty:\n",
    "             # Data exists but not enough points for fitting (e.g., only radius=0)\n",
    "             print(f\"Warning: Insufficient data for curve fitting in '{data_label_map.get(data_key, data_key)}'. Plotting data only.\")\n",
    "             df_plot.sort_values(by='radius', inplace=True)\n",
    "             plots_to_make.append(df_plot)\n",
    "             valid_data_keys.append(data_key)\n",
    "             subplot_titles.append(data_label_map.get(data_key, data_key))\n",
    "             fit_params[data_key] = None # No fit performed\n",
    "\n",
    "    # 3. Check if there are plots to be made\n",
    "    num_plots = len(plots_to_make)\n",
    "    if num_plots == 0:\n",
    "        print(f\"Warning: No valid data found for plotting in {tree_title}.\")\n",
    "    else:\n",
    "        # 4. Create the figure with subplots using mapped titles\n",
    "        fig = make_subplots(rows=1, cols=num_plots,\n",
    "                            subplot_titles=subplot_titles)\n",
    "\n",
    "        # 5. Add traces (data and fitted curve) for each subplot\n",
    "        for i, df_plot in enumerate(plots_to_make):\n",
    "            col_num = i + 1\n",
    "            original_data_key = valid_data_keys[i]\n",
    "            mapped_data_label = subplot_titles[i]\n",
    "            marker_symbol = marker_symbols[i % len(marker_symbols)] # Select marker\n",
    "\n",
    "            # 5.1 Add trace for the original data with unique marker\n",
    "            fig.add_trace(\n",
    "                go.Scatter(\n",
    "                    x=df_plot['radius'],\n",
    "                    y=df_plot['avg_obj_result'],\n",
    "                    mode='lines+markers',\n",
    "                    name=mapped_data_label, # Use mapped label for legend\n",
    "                    marker=dict(size=6, symbol=marker_symbol), # Apply unique marker\n",
    "                    legendgroup=f'data_{i}', # Group legend items if needed\n",
    "                    hovertemplate=( # Custom hover text for data\n",
    "                        f'<b>{mapped_data_label}</b><br>' +\n",
    "                        'Radius: %{x}<br>' +\n",
    "                        'Avg Objects: %{y:.3f}<extra></extra>'\n",
    "                    )\n",
    "                ),\n",
    "                row=1, col=col_num\n",
    "            )\n",
    "\n",
    "            # 5.2 Add trace for the fitted curve (if fit was successful)\n",
    "            params = fit_params.get(original_data_key)\n",
    "            if params:\n",
    "                n = params['n']\n",
    "                a = params['a']\n",
    "\n",
    "                # Calculate y = a * x^n using the radius values from the plot data\n",
    "                x_fit = df_plot['radius'].copy()\n",
    "                # Use the same epsilon for calculation to avoid issues at x=0\n",
    "                mask = (x_fit >= epsilon) | (n >= 0) # Calculate where x>0 or if n>=0\n",
    "                y_fit = np.full(x_fit.shape, np.nan) # Initialize with NaN\n",
    "\n",
    "                # Calculate fit safely, avoiding warnings for 0**negative_n\n",
    "                with np.errstate(divide='ignore', invalid='ignore'):\n",
    "                    y_fit[mask] = a * (x_fit[mask] ** n)\n",
    "                    # Handle x=0 case explicitly if n > 0 (y should be 0)\n",
    "                    if 0 in x_fit.values and n > 0:\n",
    "                         zero_mask = (x_fit == 0)\n",
    "                         y_fit[zero_mask] = 0\n",
    "\n",
    "\n",
    "                # Add the fitted curve trace\n",
    "                fig.add_trace(\n",
    "                    go.Scatter(\n",
    "                        x=x_fit,\n",
    "                        y=y_fit,\n",
    "                        mode='lines',\n",
    "                        name=f'Fit (a={a:.2e}, n={n:.3f})', # Include params in name\n",
    "                        line=dict(dash='dash', color='red'), # Style for fit line\n",
    "                        legendgroup=f'fit_{i}', # Different group from data\n",
    "                        hovertemplate=( # Custom hover text for fit\n",
    "                            f'<b>Fit: {mapped_data_label}</b><br>' +\n",
    "                            'Radius (x): %{x}<br>' +\n",
    "                            'Fit (axⁿ): %{y:.3f}<br>'+\n",
    "                            f'a = {a:.2e}, n = {n:.3f}<extra></extra>'\n",
    "                        )\n",
    "                    ),\n",
    "                    row=1, col=col_num\n",
    "                )\n",
    "\n",
    "        # 6. Update overall figure layout and axes\n",
    "        fig.update_layout(\n",
    "            title_text=f'{tree_title} - Average Objects Returned vs. Query Radius (y=axⁿ Fit)', # Mapped title\n",
    "            showlegend=True,\n",
    "            legend_title_text=\"Data / Fit\" # English legend title\n",
    "        )\n",
    "        fig.update_xaxes(\n",
    "            title_text='Query Radius', # English\n",
    "            rangemode='tozero',\n",
    "            row=1\n",
    "        )\n",
    "        fig.update_yaxes(\n",
    "            title_text='Average Objects Returned', # English\n",
    "            rangemode='tozero',\n",
    "            row=1\n",
    "        )\n",
    "\n",
    "        # 7. Show the combined figure\n",
    "        fig.show()\n",
    "\n",
    "print(\"\\nEnd of side-by-side plot generation with y=ax^n fit.\")"
   ]
  },
  {
   "cell_type": "code",
   "execution_count": 33,
   "id": "575716fa",
   "metadata": {},
   "outputs": [
    {
     "name": "stdout",
     "output_type": "stream",
     "text": [
      "DataFrame 'df' already exists. Skipping creation.\n",
      "\n",
      "Generating Disk Access vs. Radius plots for Index - Haar Transform: 0 Levels...\n"
     ]
    },
    {
     "data": {
      "application/vnd.plotly.v1+json": {
       "config": {
        "plotlyServerURL": "https://plot.ly"
       },
       "data": [
        {
         "hovertemplate": "<b>Haar Lvl 0 (256 bins)</b><br>Radius: %{x}<br>Disk Access: %{y:.2f}<extra></extra>",
         "legendgroup": "group0",
         "marker": {
          "size": 7,
          "symbol": "circle"
         },
         "mode": "lines+markers",
         "name": "Haar Lvl 0 (256 bins)",
         "type": "scatter",
         "x": {
          "bdata": "AAAAAI8rAAAeVwAArYIAADyuAADL2QAAWgUBAOkwAQB4XAEAelwBAA==",
          "dtype": "i4"
         },
         "xaxis": "x",
         "y": {
          "bdata": "uB6F61FIa0BU46WbxMBtQBSuR+F6FHBAObTIdr4vcUAlBoGVQy9yQNv5fmq8GHNAaJHtfD/lc0D8qfHSTZJ0QLByaJHtJHVAKVyPwvUkdUA=",
          "dtype": "f8"
         },
         "yaxis": "y"
        },
        {
         "hovertemplate": "<b>Haar Lvl 1 (128 bins)</b><br>Radius: %{x}<br>Disk Access: %{y:.2f}<extra></extra>",
         "legendgroup": "group1",
         "marker": {
          "size": 7,
          "symbol": "square"
         },
         "mode": "lines+markers",
         "name": "Haar Lvl 1 (128 bins)",
         "type": "scatter",
         "x": {
          "bdata": "AAAAALAVAABgKwAAEEEAAMBWAABwbAAAIIIAANCXAACArQAAh60AAA==",
          "dtype": "i4"
         },
         "xaxis": "x2",
         "y": {
          "bdata": "Vg4tsp1Xa0Bcj8L1KMxtQEw3iUFgGXBA9P3UeOkycUAbL90kBjFyQP7UeOkmGXNAjZduEoPkc0Db+X5qvJB0QFCNl24SI3VAukkMAisjdUA=",
          "dtype": "f8"
         },
         "yaxis": "y2"
        },
        {
         "hovertemplate": "<b>Haar Lvl 2 (64 bins)</b><br>Radius: %{x}<br>Disk Access: %{y:.2f}<extra></extra>",
         "legendgroup": "group2",
         "marker": {
          "size": 7,
          "symbol": "triangle-up"
         },
         "mode": "lines+markers",
         "name": "Haar Lvl 2 (64 bins)",
         "type": "scatter",
         "x": {
          "bdata": "AADICpAVWCAgK+g1sEB4S0BWQVY=",
          "dtype": "i2"
         },
         "xaxis": "x3",
         "y": {
          "bdata": "c2iR7Xxva0D2KFyPwt1tQIcW2c73H3BADi2yne83cUA5tMh2vjNyQESLbOf7GXNAsHJoke3kc0BI4XoUro90QHe+nxovIXVA8KfGSzchdUA=",
          "dtype": "f8"
         },
         "yaxis": "y3"
        }
       ],
       "layout": {
        "annotations": [
         {
          "font": {
           "size": 16
          },
          "showarrow": false,
          "text": "Haar Lvl 0 (256 bins)",
          "x": 0.14444444444444446,
          "xanchor": "center",
          "xref": "paper",
          "y": 1,
          "yanchor": "bottom",
          "yref": "paper"
         },
         {
          "font": {
           "size": 16
          },
          "showarrow": false,
          "text": "Haar Lvl 1 (128 bins)",
          "x": 0.5,
          "xanchor": "center",
          "xref": "paper",
          "y": 1,
          "yanchor": "bottom",
          "yref": "paper"
         },
         {
          "font": {
           "size": 16
          },
          "showarrow": false,
          "text": "Haar Lvl 2 (64 bins)",
          "x": 0.8555555555555556,
          "xanchor": "center",
          "xref": "paper",
          "y": 1,
          "yanchor": "bottom",
          "yref": "paper"
         },
         {
          "align": "right",
          "showarrow": false,
          "text": "Sequential Scan Ref.",
          "x": 89210,
          "xanchor": "right",
          "xref": "x",
          "y": 332,
          "yref": "y",
          "yshift": -10
         },
         {
          "align": "right",
          "showarrow": false,
          "text": "Sequential Scan Ref.",
          "x": 44423,
          "xanchor": "right",
          "xref": "x2",
          "y": 332,
          "yref": "y2",
          "yshift": -10
         },
         {
          "align": "right",
          "showarrow": false,
          "text": "Sequential Scan Ref.",
          "x": 22081,
          "xanchor": "right",
          "xref": "x3",
          "y": 332,
          "yref": "y3",
          "yshift": -10
         }
        ],
        "height": 600,
        "legend": {
         "title": {
          "text": "Data Representation"
         }
        },
        "shapes": [
         {
          "line": {
           "color": "grey",
           "dash": "dot",
           "width": 2
          },
          "type": "line",
          "x0": 0,
          "x1": 89210,
          "xref": "x",
          "y0": 332,
          "y1": 332,
          "yref": "y"
         },
         {
          "line": {
           "color": "grey",
           "dash": "dot",
           "width": 2
          },
          "type": "line",
          "x0": 0,
          "x1": 44423,
          "xref": "x2",
          "y0": 332,
          "y1": 332,
          "yref": "y2"
         },
         {
          "line": {
           "color": "grey",
           "dash": "dot",
           "width": 2
          },
          "type": "line",
          "x0": 0,
          "x1": 22081,
          "xref": "x3",
          "y0": 332,
          "y1": 332,
          "yref": "y3"
         }
        ],
        "showlegend": true,
        "template": {
         "data": {
          "bar": [
           {
            "error_x": {
             "color": "#2a3f5f"
            },
            "error_y": {
             "color": "#2a3f5f"
            },
            "marker": {
             "line": {
              "color": "#E5ECF6",
              "width": 0.5
             },
             "pattern": {
              "fillmode": "overlay",
              "size": 10,
              "solidity": 0.2
             }
            },
            "type": "bar"
           }
          ],
          "barpolar": [
           {
            "marker": {
             "line": {
              "color": "#E5ECF6",
              "width": 0.5
             },
             "pattern": {
              "fillmode": "overlay",
              "size": 10,
              "solidity": 0.2
             }
            },
            "type": "barpolar"
           }
          ],
          "carpet": [
           {
            "aaxis": {
             "endlinecolor": "#2a3f5f",
             "gridcolor": "white",
             "linecolor": "white",
             "minorgridcolor": "white",
             "startlinecolor": "#2a3f5f"
            },
            "baxis": {
             "endlinecolor": "#2a3f5f",
             "gridcolor": "white",
             "linecolor": "white",
             "minorgridcolor": "white",
             "startlinecolor": "#2a3f5f"
            },
            "type": "carpet"
           }
          ],
          "choropleth": [
           {
            "colorbar": {
             "outlinewidth": 0,
             "ticks": ""
            },
            "type": "choropleth"
           }
          ],
          "contour": [
           {
            "colorbar": {
             "outlinewidth": 0,
             "ticks": ""
            },
            "colorscale": [
             [
              0,
              "#0d0887"
             ],
             [
              0.1111111111111111,
              "#46039f"
             ],
             [
              0.2222222222222222,
              "#7201a8"
             ],
             [
              0.3333333333333333,
              "#9c179e"
             ],
             [
              0.4444444444444444,
              "#bd3786"
             ],
             [
              0.5555555555555556,
              "#d8576b"
             ],
             [
              0.6666666666666666,
              "#ed7953"
             ],
             [
              0.7777777777777778,
              "#fb9f3a"
             ],
             [
              0.8888888888888888,
              "#fdca26"
             ],
             [
              1,
              "#f0f921"
             ]
            ],
            "type": "contour"
           }
          ],
          "contourcarpet": [
           {
            "colorbar": {
             "outlinewidth": 0,
             "ticks": ""
            },
            "type": "contourcarpet"
           }
          ],
          "heatmap": [
           {
            "colorbar": {
             "outlinewidth": 0,
             "ticks": ""
            },
            "colorscale": [
             [
              0,
              "#0d0887"
             ],
             [
              0.1111111111111111,
              "#46039f"
             ],
             [
              0.2222222222222222,
              "#7201a8"
             ],
             [
              0.3333333333333333,
              "#9c179e"
             ],
             [
              0.4444444444444444,
              "#bd3786"
             ],
             [
              0.5555555555555556,
              "#d8576b"
             ],
             [
              0.6666666666666666,
              "#ed7953"
             ],
             [
              0.7777777777777778,
              "#fb9f3a"
             ],
             [
              0.8888888888888888,
              "#fdca26"
             ],
             [
              1,
              "#f0f921"
             ]
            ],
            "type": "heatmap"
           }
          ],
          "histogram": [
           {
            "marker": {
             "pattern": {
              "fillmode": "overlay",
              "size": 10,
              "solidity": 0.2
             }
            },
            "type": "histogram"
           }
          ],
          "histogram2d": [
           {
            "colorbar": {
             "outlinewidth": 0,
             "ticks": ""
            },
            "colorscale": [
             [
              0,
              "#0d0887"
             ],
             [
              0.1111111111111111,
              "#46039f"
             ],
             [
              0.2222222222222222,
              "#7201a8"
             ],
             [
              0.3333333333333333,
              "#9c179e"
             ],
             [
              0.4444444444444444,
              "#bd3786"
             ],
             [
              0.5555555555555556,
              "#d8576b"
             ],
             [
              0.6666666666666666,
              "#ed7953"
             ],
             [
              0.7777777777777778,
              "#fb9f3a"
             ],
             [
              0.8888888888888888,
              "#fdca26"
             ],
             [
              1,
              "#f0f921"
             ]
            ],
            "type": "histogram2d"
           }
          ],
          "histogram2dcontour": [
           {
            "colorbar": {
             "outlinewidth": 0,
             "ticks": ""
            },
            "colorscale": [
             [
              0,
              "#0d0887"
             ],
             [
              0.1111111111111111,
              "#46039f"
             ],
             [
              0.2222222222222222,
              "#7201a8"
             ],
             [
              0.3333333333333333,
              "#9c179e"
             ],
             [
              0.4444444444444444,
              "#bd3786"
             ],
             [
              0.5555555555555556,
              "#d8576b"
             ],
             [
              0.6666666666666666,
              "#ed7953"
             ],
             [
              0.7777777777777778,
              "#fb9f3a"
             ],
             [
              0.8888888888888888,
              "#fdca26"
             ],
             [
              1,
              "#f0f921"
             ]
            ],
            "type": "histogram2dcontour"
           }
          ],
          "mesh3d": [
           {
            "colorbar": {
             "outlinewidth": 0,
             "ticks": ""
            },
            "type": "mesh3d"
           }
          ],
          "parcoords": [
           {
            "line": {
             "colorbar": {
              "outlinewidth": 0,
              "ticks": ""
             }
            },
            "type": "parcoords"
           }
          ],
          "pie": [
           {
            "automargin": true,
            "type": "pie"
           }
          ],
          "scatter": [
           {
            "fillpattern": {
             "fillmode": "overlay",
             "size": 10,
             "solidity": 0.2
            },
            "type": "scatter"
           }
          ],
          "scatter3d": [
           {
            "line": {
             "colorbar": {
              "outlinewidth": 0,
              "ticks": ""
             }
            },
            "marker": {
             "colorbar": {
              "outlinewidth": 0,
              "ticks": ""
             }
            },
            "type": "scatter3d"
           }
          ],
          "scattercarpet": [
           {
            "marker": {
             "colorbar": {
              "outlinewidth": 0,
              "ticks": ""
             }
            },
            "type": "scattercarpet"
           }
          ],
          "scattergeo": [
           {
            "marker": {
             "colorbar": {
              "outlinewidth": 0,
              "ticks": ""
             }
            },
            "type": "scattergeo"
           }
          ],
          "scattergl": [
           {
            "marker": {
             "colorbar": {
              "outlinewidth": 0,
              "ticks": ""
             }
            },
            "type": "scattergl"
           }
          ],
          "scattermap": [
           {
            "marker": {
             "colorbar": {
              "outlinewidth": 0,
              "ticks": ""
             }
            },
            "type": "scattermap"
           }
          ],
          "scattermapbox": [
           {
            "marker": {
             "colorbar": {
              "outlinewidth": 0,
              "ticks": ""
             }
            },
            "type": "scattermapbox"
           }
          ],
          "scatterpolar": [
           {
            "marker": {
             "colorbar": {
              "outlinewidth": 0,
              "ticks": ""
             }
            },
            "type": "scatterpolar"
           }
          ],
          "scatterpolargl": [
           {
            "marker": {
             "colorbar": {
              "outlinewidth": 0,
              "ticks": ""
             }
            },
            "type": "scatterpolargl"
           }
          ],
          "scatterternary": [
           {
            "marker": {
             "colorbar": {
              "outlinewidth": 0,
              "ticks": ""
             }
            },
            "type": "scatterternary"
           }
          ],
          "surface": [
           {
            "colorbar": {
             "outlinewidth": 0,
             "ticks": ""
            },
            "colorscale": [
             [
              0,
              "#0d0887"
             ],
             [
              0.1111111111111111,
              "#46039f"
             ],
             [
              0.2222222222222222,
              "#7201a8"
             ],
             [
              0.3333333333333333,
              "#9c179e"
             ],
             [
              0.4444444444444444,
              "#bd3786"
             ],
             [
              0.5555555555555556,
              "#d8576b"
             ],
             [
              0.6666666666666666,
              "#ed7953"
             ],
             [
              0.7777777777777778,
              "#fb9f3a"
             ],
             [
              0.8888888888888888,
              "#fdca26"
             ],
             [
              1,
              "#f0f921"
             ]
            ],
            "type": "surface"
           }
          ],
          "table": [
           {
            "cells": {
             "fill": {
              "color": "#EBF0F8"
             },
             "line": {
              "color": "white"
             }
            },
            "header": {
             "fill": {
              "color": "#C8D4E3"
             },
             "line": {
              "color": "white"
             }
            },
            "type": "table"
           }
          ]
         },
         "layout": {
          "annotationdefaults": {
           "arrowcolor": "#2a3f5f",
           "arrowhead": 0,
           "arrowwidth": 1
          },
          "autotypenumbers": "strict",
          "coloraxis": {
           "colorbar": {
            "outlinewidth": 0,
            "ticks": ""
           }
          },
          "colorscale": {
           "diverging": [
            [
             0,
             "#8e0152"
            ],
            [
             0.1,
             "#c51b7d"
            ],
            [
             0.2,
             "#de77ae"
            ],
            [
             0.3,
             "#f1b6da"
            ],
            [
             0.4,
             "#fde0ef"
            ],
            [
             0.5,
             "#f7f7f7"
            ],
            [
             0.6,
             "#e6f5d0"
            ],
            [
             0.7,
             "#b8e186"
            ],
            [
             0.8,
             "#7fbc41"
            ],
            [
             0.9,
             "#4d9221"
            ],
            [
             1,
             "#276419"
            ]
           ],
           "sequential": [
            [
             0,
             "#0d0887"
            ],
            [
             0.1111111111111111,
             "#46039f"
            ],
            [
             0.2222222222222222,
             "#7201a8"
            ],
            [
             0.3333333333333333,
             "#9c179e"
            ],
            [
             0.4444444444444444,
             "#bd3786"
            ],
            [
             0.5555555555555556,
             "#d8576b"
            ],
            [
             0.6666666666666666,
             "#ed7953"
            ],
            [
             0.7777777777777778,
             "#fb9f3a"
            ],
            [
             0.8888888888888888,
             "#fdca26"
            ],
            [
             1,
             "#f0f921"
            ]
           ],
           "sequentialminus": [
            [
             0,
             "#0d0887"
            ],
            [
             0.1111111111111111,
             "#46039f"
            ],
            [
             0.2222222222222222,
             "#7201a8"
            ],
            [
             0.3333333333333333,
             "#9c179e"
            ],
            [
             0.4444444444444444,
             "#bd3786"
            ],
            [
             0.5555555555555556,
             "#d8576b"
            ],
            [
             0.6666666666666666,
             "#ed7953"
            ],
            [
             0.7777777777777778,
             "#fb9f3a"
            ],
            [
             0.8888888888888888,
             "#fdca26"
            ],
            [
             1,
             "#f0f921"
            ]
           ]
          },
          "colorway": [
           "#636efa",
           "#EF553B",
           "#00cc96",
           "#ab63fa",
           "#FFA15A",
           "#19d3f3",
           "#FF6692",
           "#B6E880",
           "#FF97FF",
           "#FECB52"
          ],
          "font": {
           "color": "#2a3f5f"
          },
          "geo": {
           "bgcolor": "white",
           "lakecolor": "white",
           "landcolor": "#E5ECF6",
           "showlakes": true,
           "showland": true,
           "subunitcolor": "white"
          },
          "hoverlabel": {
           "align": "left"
          },
          "hovermode": "closest",
          "mapbox": {
           "style": "light"
          },
          "paper_bgcolor": "white",
          "plot_bgcolor": "#E5ECF6",
          "polar": {
           "angularaxis": {
            "gridcolor": "white",
            "linecolor": "white",
            "ticks": ""
           },
           "bgcolor": "#E5ECF6",
           "radialaxis": {
            "gridcolor": "white",
            "linecolor": "white",
            "ticks": ""
           }
          },
          "scene": {
           "xaxis": {
            "backgroundcolor": "#E5ECF6",
            "gridcolor": "white",
            "gridwidth": 2,
            "linecolor": "white",
            "showbackground": true,
            "ticks": "",
            "zerolinecolor": "white"
           },
           "yaxis": {
            "backgroundcolor": "#E5ECF6",
            "gridcolor": "white",
            "gridwidth": 2,
            "linecolor": "white",
            "showbackground": true,
            "ticks": "",
            "zerolinecolor": "white"
           },
           "zaxis": {
            "backgroundcolor": "#E5ECF6",
            "gridcolor": "white",
            "gridwidth": 2,
            "linecolor": "white",
            "showbackground": true,
            "ticks": "",
            "zerolinecolor": "white"
           }
          },
          "shapedefaults": {
           "line": {
            "color": "#2a3f5f"
           }
          },
          "ternary": {
           "aaxis": {
            "gridcolor": "white",
            "linecolor": "white",
            "ticks": ""
           },
           "baxis": {
            "gridcolor": "white",
            "linecolor": "white",
            "ticks": ""
           },
           "bgcolor": "#E5ECF6",
           "caxis": {
            "gridcolor": "white",
            "linecolor": "white",
            "ticks": ""
           }
          },
          "title": {
           "x": 0.05
          },
          "xaxis": {
           "automargin": true,
           "gridcolor": "white",
           "linecolor": "white",
           "ticks": "",
           "title": {
            "standoff": 15
           },
           "zerolinecolor": "white",
           "zerolinewidth": 2
          },
          "yaxis": {
           "automargin": true,
           "gridcolor": "white",
           "linecolor": "white",
           "ticks": "",
           "title": {
            "standoff": 15
           },
           "zerolinecolor": "white",
           "zerolinewidth": 2
          }
         }
        },
        "title": {
         "text": "Index - Haar Transform: 0 Levels - Disk Access vs. Query Radius"
        },
        "width": 1200,
        "xaxis": {
         "anchor": "y",
         "domain": [
          0,
          0.2888888888888889
         ],
         "rangemode": "tozero",
         "title": {
          "text": "Query Radius"
         }
        },
        "xaxis2": {
         "anchor": "y2",
         "domain": [
          0.35555555555555557,
          0.6444444444444445
         ],
         "rangemode": "tozero",
         "title": {
          "text": "Query Radius"
         }
        },
        "xaxis3": {
         "anchor": "y3",
         "domain": [
          0.7111111111111111,
          1
         ],
         "rangemode": "tozero",
         "title": {
          "text": "Query Radius"
         }
        },
        "yaxis": {
         "anchor": "x",
         "domain": [
          0,
          1
         ],
         "range": [
          200,
          null
         ],
         "rangemode": "tozero",
         "title": {
          "text": "Disk Access"
         }
        },
        "yaxis2": {
         "anchor": "x2",
         "domain": [
          0,
          1
         ],
         "range": [
          200,
          null
         ],
         "rangemode": "tozero",
         "title": {
          "text": "Disk Access"
         }
        },
        "yaxis3": {
         "anchor": "x3",
         "domain": [
          0,
          1
         ],
         "range": [
          200,
          null
         ],
         "rangemode": "tozero",
         "title": {
          "text": "Disk Access"
         }
        }
       }
      }
     },
     "metadata": {},
     "output_type": "display_data"
    },
    {
     "name": "stdout",
     "output_type": "stream",
     "text": [
      "\n",
      "End of Disk Access plot generation.\n"
     ]
    }
   ],
   "source": [
    "# Block to ensure the DataFrame df exists and has the necessary columns\n",
    "try:\n",
    "    if 'df' not in locals() or not isinstance(df, pd.DataFrame): # Check if df exists\n",
    "        print(\"DataFrame 'df' not found or invalid. Creating from 'all_data'...\")\n",
    "        flat_data_list = []\n",
    "        for tree_key, tree_content in all_data.items():\n",
    "            if not isinstance(tree_content, dict): continue\n",
    "            for data_key, data_content in tree_content.items():\n",
    "                if not isinstance(data_content, dict): continue\n",
    "                for radius_key, metrics in data_content.items():\n",
    "                    if not isinstance(metrics, dict): continue\n",
    "                    record = metrics.copy()\n",
    "                    record['tree'] = tree_key\n",
    "                    record['data'] = data_key\n",
    "                    if 'radius' not in record:\n",
    "                        try:\n",
    "                            record['radius'] = int(radius_key.split('-')[-1])\n",
    "                        except (ValueError, IndexError):\n",
    "                            record['radius'] = -1\n",
    "                    flat_data_list.append(record)\n",
    "\n",
    "        if not flat_data_list:\n",
    "             raise ValueError(\"No valid data found in 'all_data' to create DataFrame.\")\n",
    "\n",
    "        df = pd.DataFrame(flat_data_list)\n",
    "        numeric_cols = ['avg_time', 'disk_access', 'avg_dist_calc', 'avg_obj_result', 'radius']\n",
    "        for col in numeric_cols:\n",
    "            if col in df.columns:\n",
    "                df[col] = pd.to_numeric(df[col], errors='coerce')\n",
    "            else:\n",
    "                 print(f\"Warning: Column '{col}' not found in source data.\")\n",
    "\n",
    "        # Ensure 'radius' and 'disk_access' are not null for this plot type\n",
    "        required_cols = ['radius', 'disk_access', 'tree', 'data']\n",
    "        if not all(col in df.columns for col in required_cols):\n",
    "             raise ValueError(f\"DataFrame missing one or more required columns: {required_cols}\")\n",
    "\n",
    "        df.dropna(subset=['radius', 'disk_access'], inplace=True) # Check for disk_access\n",
    "        df = df[df['radius'] >= 0].copy()\n",
    "        print(\"DataFrame 'df' created/regenerated successfully.\")\n",
    "    else:\n",
    "        print(\"DataFrame 'df' already exists. Skipping creation.\")\n",
    "\n",
    "except Exception as e:\n",
    "    print(f\"Error processing data to create DataFrame: {e}\")\n",
    "    df = pd.DataFrame() # Create empty df to prevent later errors\n",
    "\n",
    "# --- End of Loading and Preparation Block ---\n",
    "\n",
    "\n",
    "# --- Mappings (English) ---\n",
    "tree_title_map = {\n",
    "    \"tree-0\": \"Index - Haar Transform: 0 Levels\",\n",
    "    \"tree-1\": \"Index - Haar Transform: 1 Level\",\n",
    "    \"tree-2\": \"Index - Haar Transform: 2 Levels\",\n",
    "    # Add more if needed, but script filters for 0, 1, 2\n",
    "}\n",
    "\n",
    "data_label_map = {\n",
    "    \"data-0\": \"Haar Lvl 0 (256 bins)\",\n",
    "    \"data-1\": \"Haar Lvl 1 (128 bins)\",\n",
    "    \"data-2\": \"Haar Lvl 2 (64 bins)\",\n",
    "    \"data-3\": \"Haar Lvl 3 (32 bins)\",\n",
    "    \"data-4\": \"Haar Lvl 4 (16 bins)\",\n",
    "    \"data-5\": \"Haar Lvl 5 (8 bins)\",\n",
    "    \"data-6\": \"Haar Lvl 6 (4 bins)\",\n",
    "    \"data-7\": \"Haar Lvl 7 (2 bins)\",\n",
    "    # Add more mappings if your data has more data-X keys\n",
    "}\n",
    "\n",
    "# --- Plot Generation: Disk Access vs. Radius ---\n",
    "target_tree = 'tree-0'\n",
    "target_data_keys = ['data-0', 'data-1', 'data-2'] # Data keys for subplots\n",
    "horizontal_line_y = 332 # Reference value for disk access\n",
    "horizontal_line_label = \"Sequential Scan Ref.\" # English label\n",
    "\n",
    "# Define marker symbols for different traces\n",
    "marker_symbols = ['circle', 'square', 'triangle-up', 'cross', 'diamond', 'star'] # Add more if needed\n",
    "\n",
    "# Get the mapped title for the target tree\n",
    "tree_title = tree_title_map.get(target_tree, target_tree)\n",
    "\n",
    "print(f\"\\nGenerating Disk Access vs. Radius plots for {tree_title}...\")\n",
    "\n",
    "# 1. Check if DataFrame is valid and column 'disk_access' exists\n",
    "if df.empty:\n",
    "     print(f\"Error: DataFrame 'df' is empty. Cannot generate plots.\")\n",
    "elif 'disk_access' not in df.columns:\n",
    "    print(f\"Error: Column 'disk_access' not found in the DataFrame.\")\n",
    "else:\n",
    "    # Filter for the target tree\n",
    "    df_tree_filtered = df[df['tree'] == target_tree].copy()\n",
    "\n",
    "    # 2. Pre-processing: Identify valid data keys and prepare DataFrames for plotting\n",
    "    plots_to_make = []\n",
    "    valid_data_keys = [] # Original keys\n",
    "    subplot_titles = [] # Mapped labels\n",
    "\n",
    "    for data_key in target_data_keys:\n",
    "        # Select data, drop NaNs in 'disk_access', and ensure it's not empty\n",
    "        df_plot = df_tree_filtered[df_tree_filtered['data'] == data_key].dropna(subset=['disk_access']).copy()\n",
    "        if not df_plot.empty:\n",
    "            df_plot.sort_values(by='radius', inplace=True)\n",
    "            plots_to_make.append(df_plot)\n",
    "            valid_data_keys.append(data_key)\n",
    "            subplot_titles.append(data_label_map.get(data_key, data_key))\n",
    "\n",
    "    # 3. Check if there are plots to create\n",
    "    num_plots = len(plots_to_make)\n",
    "    if num_plots == 0:\n",
    "        print(f\"Warning: No valid data found for plotting 'disk_access' for keys {target_data_keys} in {tree_title}.\")\n",
    "    else:\n",
    "        # 4. Create the figure with subplots using mapped titles\n",
    "        fig = make_subplots(rows=1, cols=num_plots,\n",
    "                            subplot_titles=subplot_titles)\n",
    "\n",
    "        # 5. Add traces and shapes/annotations to each subplot\n",
    "        for i, df_plot in enumerate(plots_to_make):\n",
    "            col_num = i + 1\n",
    "            original_data_key = valid_data_keys[i]\n",
    "            mapped_data_label = subplot_titles[i]\n",
    "            # Select a marker symbol based on index 'i'\n",
    "            marker_symbol = marker_symbols[i % len(marker_symbols)]\n",
    "\n",
    "            # 5.1 Add Main Data Trace (Disk Access) with unique marker\n",
    "            fig.add_trace(\n",
    "                go.Scatter(\n",
    "                    x=df_plot['radius'],\n",
    "                    y=df_plot['disk_access'], # Plotting disk access\n",
    "                    mode='lines+markers',\n",
    "                    name=mapped_data_label, # Mapped label for legend\n",
    "                    marker=dict(size=7, symbol=marker_symbol), # Assign unique symbol <<< CHANGE\n",
    "                    legendgroup=f'group{i}',\n",
    "                     hovertemplate = ( # Custom hover text\n",
    "                        f'<b>{mapped_data_label}</b><br>' +\n",
    "                        'Radius: %{x}<br>' +\n",
    "                        'Disk Access: %{y:.2f}<extra></extra>' # Use .2f for float display\n",
    "                    )\n",
    "                ),\n",
    "                row=1, col=col_num\n",
    "            )\n",
    "\n",
    "            # 5.2 Add Horizontal Reference Line using add_shape\n",
    "            xmax_plot = df_plot['radius'].max() if not df_plot.empty else 0\n",
    "            fig.add_shape(\n",
    "                type=\"line\",\n",
    "                x0=0, y0=horizontal_line_y,\n",
    "                x1=xmax_plot,\n",
    "                y1=horizontal_line_y,\n",
    "                line=dict(color=\"grey\", width=2, dash=\"dot\"),\n",
    "                row=1, col=col_num\n",
    "            )\n",
    "\n",
    "            # 5.3 Add Annotation for the Reference Line\n",
    "            fig.add_annotation(\n",
    "                text=horizontal_line_label, # English label\n",
    "                align='right',\n",
    "                x=xmax_plot,\n",
    "                y=horizontal_line_y,\n",
    "                xref=f\"x{col_num}\",\n",
    "                yref=f\"y{col_num}\",\n",
    "                showarrow=False,\n",
    "                yshift=-10,\n",
    "                xanchor=\"right\"\n",
    "            )\n",
    "\n",
    "        # 6. Update the overall figure layout\n",
    "        fig.update_layout(\n",
    "            title_text=f'{tree_title} - Disk Access vs. Query Radius', # Mapped Title\n",
    "            showlegend=True,\n",
    "            legend_title_text=\"Data Representation\", # English,\n",
    "                                  width=1200,  # Largura\n",
    "                                  height=600\n",
    "        )\n",
    "        # Update axes titles and range\n",
    "        fig.update_xaxes(\n",
    "            title_text='Query Radius', # English\n",
    "            rangemode='tozero',\n",
    "            row=1\n",
    "        )\n",
    "        fig.update_yaxes(\n",
    "            title_text='Disk Access', # English\n",
    "            range=[200, None],\n",
    "            rangemode='tozero',\n",
    "            row=1\n",
    "        )\n",
    "\n",
    "        # 7. Show the figure\n",
    "        fig.show()\n",
    "\n",
    "print(\"\\nEnd of Disk Access plot generation.\")"
   ]
  },
  {
   "cell_type": "code",
   "execution_count": 32,
   "id": "f36e6cf4",
   "metadata": {},
   "outputs": [
    {
     "name": "stdout",
     "output_type": "stream",
     "text": [
      "DataFrame 'df' already exists. Skipping creation.\n",
      "\n",
      "Generating Average Distance Calculations vs. Radius plots for Index - Haar Transform: 0 Levels...\n"
     ]
    },
    {
     "data": {
      "application/vnd.plotly.v1+json": {
       "config": {
        "plotlyServerURL": "https://plot.ly"
       },
       "data": [
        {
         "hovertemplate": "<b>Haar Lvl 0 (256 bins)</b><br>Radius: %{x}<br>Avg Dist Calc: %{y:.2f}<extra></extra>",
         "legendgroup": "group0",
         "marker": {
          "size": 6,
          "symbol": "circle"
         },
         "mode": "lines+markers",
         "name": "Haar Lvl 0 (256 bins)",
         "type": "scatter",
         "x": {
          "bdata": "AAAAAI8rAAAeVwAArYIAADyuAADL2QAAWgUBAOkwAQB4XAEAelwBAA==",
          "dtype": "i4"
         },
         "xaxis": "x",
         "y": {
          "bdata": "rkfhehRmdkCF61G4no+oQPYoXI8Ci7ZA7FG4HsXMv0BmZmZmZgTEQGZmZmamosdAAAAAAMDJykAzMzMzs3PNQDMzMzOzqM9AzczMzMyoz0A=",
          "dtype": "f8"
         },
         "yaxis": "y"
        },
        {
         "hovertemplate": "<b>Haar Lvl 1 (128 bins)</b><br>Radius: %{x}<br>Avg Dist Calc: %{y:.2f}<extra></extra>",
         "legendgroup": "group1",
         "marker": {
          "size": 6,
          "symbol": "square"
         },
         "mode": "lines+markers",
         "name": "Haar Lvl 1 (128 bins)",
         "type": "scatter",
         "x": {
          "bdata": "AAAAALAVAABgKwAAEEEAAMBWAABwbAAAIIIAANCXAACArQAAh60AAA==",
          "dtype": "i4"
         },
         "xaxis": "x2",
         "y": {
          "bdata": "uB6F61G2uUCamZmZGWC/QFyPwvXIl8JAZmZmZiZwxUBmZmZmpinIQM3MzMyMtspAzczMzEwOzUBmZmZmZh/PQAAAAABActBAAAAAAIBy0EA=",
          "dtype": "f8"
         },
         "yaxis": "y2"
        },
        {
         "hovertemplate": "<b>Haar Lvl 2 (64 bins)</b><br>Radius: %{x}<br>Avg Dist Calc: %{y:.2f}<extra></extra>",
         "legendgroup": "group2",
         "marker": {
          "size": 6,
          "symbol": "triangle-up"
         },
         "mode": "lines+markers",
         "name": "Haar Lvl 2 (64 bins)",
         "type": "scatter",
         "x": {
          "bdata": "AADICpAVWCAgK+g1sEB4S0BWQVY=",
          "dtype": "i2"
         },
         "xaxis": "x3",
         "y": {
          "bdata": "hetRuN7quUDsUbgexYy/QI/C9SgcqsJAAAAAAIB9xUAzMzMz8zHIQJqZmZkZuspAAAAAAMANzUAAAAAAwBvPQAAAAACAb9BAMzMzM5Nv0EA=",
          "dtype": "f8"
         },
         "yaxis": "y3"
        }
       ],
       "layout": {
        "annotations": [
         {
          "font": {
           "size": 16
          },
          "showarrow": false,
          "text": "Haar Lvl 0 (256 bins)",
          "x": 0.14444444444444446,
          "xanchor": "center",
          "xref": "paper",
          "y": 1,
          "yanchor": "bottom",
          "yref": "paper"
         },
         {
          "font": {
           "size": 16
          },
          "showarrow": false,
          "text": "Haar Lvl 1 (128 bins)",
          "x": 0.5,
          "xanchor": "center",
          "xref": "paper",
          "y": 1,
          "yanchor": "bottom",
          "yref": "paper"
         },
         {
          "font": {
           "size": 16
          },
          "showarrow": false,
          "text": "Haar Lvl 2 (64 bins)",
          "x": 0.8555555555555556,
          "xanchor": "center",
          "xref": "paper",
          "y": 1,
          "yanchor": "bottom",
          "yref": "paper"
         },
         {
          "align": "right",
          "showarrow": false,
          "text": "Distance Reference",
          "x": 89210,
          "xanchor": "right",
          "xref": "x",
          "y": 20580,
          "yref": "y",
          "yshift": -10
         },
         {
          "align": "right",
          "showarrow": false,
          "text": "Distance Reference",
          "x": 44423,
          "xanchor": "right",
          "xref": "x2",
          "y": 20580,
          "yref": "y2",
          "yshift": -10
         },
         {
          "align": "right",
          "showarrow": false,
          "text": "Distance Reference",
          "x": 22081,
          "xanchor": "right",
          "xref": "x3",
          "y": 20580,
          "yref": "y3",
          "yshift": -10
         }
        ],
        "height": 600,
        "legend": {
         "title": {
          "text": "Data Representation"
         }
        },
        "shapes": [
         {
          "line": {
           "color": "grey",
           "dash": "dot",
           "width": 2
          },
          "type": "line",
          "x0": 0,
          "x1": 89210,
          "xref": "x",
          "y0": 20580,
          "y1": 20580,
          "yref": "y"
         },
         {
          "line": {
           "color": "grey",
           "dash": "dot",
           "width": 2
          },
          "type": "line",
          "x0": 0,
          "x1": 44423,
          "xref": "x2",
          "y0": 20580,
          "y1": 20580,
          "yref": "y2"
         },
         {
          "line": {
           "color": "grey",
           "dash": "dot",
           "width": 2
          },
          "type": "line",
          "x0": 0,
          "x1": 22081,
          "xref": "x3",
          "y0": 20580,
          "y1": 20580,
          "yref": "y3"
         }
        ],
        "showlegend": true,
        "template": {
         "data": {
          "bar": [
           {
            "error_x": {
             "color": "#2a3f5f"
            },
            "error_y": {
             "color": "#2a3f5f"
            },
            "marker": {
             "line": {
              "color": "#E5ECF6",
              "width": 0.5
             },
             "pattern": {
              "fillmode": "overlay",
              "size": 10,
              "solidity": 0.2
             }
            },
            "type": "bar"
           }
          ],
          "barpolar": [
           {
            "marker": {
             "line": {
              "color": "#E5ECF6",
              "width": 0.5
             },
             "pattern": {
              "fillmode": "overlay",
              "size": 10,
              "solidity": 0.2
             }
            },
            "type": "barpolar"
           }
          ],
          "carpet": [
           {
            "aaxis": {
             "endlinecolor": "#2a3f5f",
             "gridcolor": "white",
             "linecolor": "white",
             "minorgridcolor": "white",
             "startlinecolor": "#2a3f5f"
            },
            "baxis": {
             "endlinecolor": "#2a3f5f",
             "gridcolor": "white",
             "linecolor": "white",
             "minorgridcolor": "white",
             "startlinecolor": "#2a3f5f"
            },
            "type": "carpet"
           }
          ],
          "choropleth": [
           {
            "colorbar": {
             "outlinewidth": 0,
             "ticks": ""
            },
            "type": "choropleth"
           }
          ],
          "contour": [
           {
            "colorbar": {
             "outlinewidth": 0,
             "ticks": ""
            },
            "colorscale": [
             [
              0,
              "#0d0887"
             ],
             [
              0.1111111111111111,
              "#46039f"
             ],
             [
              0.2222222222222222,
              "#7201a8"
             ],
             [
              0.3333333333333333,
              "#9c179e"
             ],
             [
              0.4444444444444444,
              "#bd3786"
             ],
             [
              0.5555555555555556,
              "#d8576b"
             ],
             [
              0.6666666666666666,
              "#ed7953"
             ],
             [
              0.7777777777777778,
              "#fb9f3a"
             ],
             [
              0.8888888888888888,
              "#fdca26"
             ],
             [
              1,
              "#f0f921"
             ]
            ],
            "type": "contour"
           }
          ],
          "contourcarpet": [
           {
            "colorbar": {
             "outlinewidth": 0,
             "ticks": ""
            },
            "type": "contourcarpet"
           }
          ],
          "heatmap": [
           {
            "colorbar": {
             "outlinewidth": 0,
             "ticks": ""
            },
            "colorscale": [
             [
              0,
              "#0d0887"
             ],
             [
              0.1111111111111111,
              "#46039f"
             ],
             [
              0.2222222222222222,
              "#7201a8"
             ],
             [
              0.3333333333333333,
              "#9c179e"
             ],
             [
              0.4444444444444444,
              "#bd3786"
             ],
             [
              0.5555555555555556,
              "#d8576b"
             ],
             [
              0.6666666666666666,
              "#ed7953"
             ],
             [
              0.7777777777777778,
              "#fb9f3a"
             ],
             [
              0.8888888888888888,
              "#fdca26"
             ],
             [
              1,
              "#f0f921"
             ]
            ],
            "type": "heatmap"
           }
          ],
          "histogram": [
           {
            "marker": {
             "pattern": {
              "fillmode": "overlay",
              "size": 10,
              "solidity": 0.2
             }
            },
            "type": "histogram"
           }
          ],
          "histogram2d": [
           {
            "colorbar": {
             "outlinewidth": 0,
             "ticks": ""
            },
            "colorscale": [
             [
              0,
              "#0d0887"
             ],
             [
              0.1111111111111111,
              "#46039f"
             ],
             [
              0.2222222222222222,
              "#7201a8"
             ],
             [
              0.3333333333333333,
              "#9c179e"
             ],
             [
              0.4444444444444444,
              "#bd3786"
             ],
             [
              0.5555555555555556,
              "#d8576b"
             ],
             [
              0.6666666666666666,
              "#ed7953"
             ],
             [
              0.7777777777777778,
              "#fb9f3a"
             ],
             [
              0.8888888888888888,
              "#fdca26"
             ],
             [
              1,
              "#f0f921"
             ]
            ],
            "type": "histogram2d"
           }
          ],
          "histogram2dcontour": [
           {
            "colorbar": {
             "outlinewidth": 0,
             "ticks": ""
            },
            "colorscale": [
             [
              0,
              "#0d0887"
             ],
             [
              0.1111111111111111,
              "#46039f"
             ],
             [
              0.2222222222222222,
              "#7201a8"
             ],
             [
              0.3333333333333333,
              "#9c179e"
             ],
             [
              0.4444444444444444,
              "#bd3786"
             ],
             [
              0.5555555555555556,
              "#d8576b"
             ],
             [
              0.6666666666666666,
              "#ed7953"
             ],
             [
              0.7777777777777778,
              "#fb9f3a"
             ],
             [
              0.8888888888888888,
              "#fdca26"
             ],
             [
              1,
              "#f0f921"
             ]
            ],
            "type": "histogram2dcontour"
           }
          ],
          "mesh3d": [
           {
            "colorbar": {
             "outlinewidth": 0,
             "ticks": ""
            },
            "type": "mesh3d"
           }
          ],
          "parcoords": [
           {
            "line": {
             "colorbar": {
              "outlinewidth": 0,
              "ticks": ""
             }
            },
            "type": "parcoords"
           }
          ],
          "pie": [
           {
            "automargin": true,
            "type": "pie"
           }
          ],
          "scatter": [
           {
            "fillpattern": {
             "fillmode": "overlay",
             "size": 10,
             "solidity": 0.2
            },
            "type": "scatter"
           }
          ],
          "scatter3d": [
           {
            "line": {
             "colorbar": {
              "outlinewidth": 0,
              "ticks": ""
             }
            },
            "marker": {
             "colorbar": {
              "outlinewidth": 0,
              "ticks": ""
             }
            },
            "type": "scatter3d"
           }
          ],
          "scattercarpet": [
           {
            "marker": {
             "colorbar": {
              "outlinewidth": 0,
              "ticks": ""
             }
            },
            "type": "scattercarpet"
           }
          ],
          "scattergeo": [
           {
            "marker": {
             "colorbar": {
              "outlinewidth": 0,
              "ticks": ""
             }
            },
            "type": "scattergeo"
           }
          ],
          "scattergl": [
           {
            "marker": {
             "colorbar": {
              "outlinewidth": 0,
              "ticks": ""
             }
            },
            "type": "scattergl"
           }
          ],
          "scattermap": [
           {
            "marker": {
             "colorbar": {
              "outlinewidth": 0,
              "ticks": ""
             }
            },
            "type": "scattermap"
           }
          ],
          "scattermapbox": [
           {
            "marker": {
             "colorbar": {
              "outlinewidth": 0,
              "ticks": ""
             }
            },
            "type": "scattermapbox"
           }
          ],
          "scatterpolar": [
           {
            "marker": {
             "colorbar": {
              "outlinewidth": 0,
              "ticks": ""
             }
            },
            "type": "scatterpolar"
           }
          ],
          "scatterpolargl": [
           {
            "marker": {
             "colorbar": {
              "outlinewidth": 0,
              "ticks": ""
             }
            },
            "type": "scatterpolargl"
           }
          ],
          "scatterternary": [
           {
            "marker": {
             "colorbar": {
              "outlinewidth": 0,
              "ticks": ""
             }
            },
            "type": "scatterternary"
           }
          ],
          "surface": [
           {
            "colorbar": {
             "outlinewidth": 0,
             "ticks": ""
            },
            "colorscale": [
             [
              0,
              "#0d0887"
             ],
             [
              0.1111111111111111,
              "#46039f"
             ],
             [
              0.2222222222222222,
              "#7201a8"
             ],
             [
              0.3333333333333333,
              "#9c179e"
             ],
             [
              0.4444444444444444,
              "#bd3786"
             ],
             [
              0.5555555555555556,
              "#d8576b"
             ],
             [
              0.6666666666666666,
              "#ed7953"
             ],
             [
              0.7777777777777778,
              "#fb9f3a"
             ],
             [
              0.8888888888888888,
              "#fdca26"
             ],
             [
              1,
              "#f0f921"
             ]
            ],
            "type": "surface"
           }
          ],
          "table": [
           {
            "cells": {
             "fill": {
              "color": "#EBF0F8"
             },
             "line": {
              "color": "white"
             }
            },
            "header": {
             "fill": {
              "color": "#C8D4E3"
             },
             "line": {
              "color": "white"
             }
            },
            "type": "table"
           }
          ]
         },
         "layout": {
          "annotationdefaults": {
           "arrowcolor": "#2a3f5f",
           "arrowhead": 0,
           "arrowwidth": 1
          },
          "autotypenumbers": "strict",
          "coloraxis": {
           "colorbar": {
            "outlinewidth": 0,
            "ticks": ""
           }
          },
          "colorscale": {
           "diverging": [
            [
             0,
             "#8e0152"
            ],
            [
             0.1,
             "#c51b7d"
            ],
            [
             0.2,
             "#de77ae"
            ],
            [
             0.3,
             "#f1b6da"
            ],
            [
             0.4,
             "#fde0ef"
            ],
            [
             0.5,
             "#f7f7f7"
            ],
            [
             0.6,
             "#e6f5d0"
            ],
            [
             0.7,
             "#b8e186"
            ],
            [
             0.8,
             "#7fbc41"
            ],
            [
             0.9,
             "#4d9221"
            ],
            [
             1,
             "#276419"
            ]
           ],
           "sequential": [
            [
             0,
             "#0d0887"
            ],
            [
             0.1111111111111111,
             "#46039f"
            ],
            [
             0.2222222222222222,
             "#7201a8"
            ],
            [
             0.3333333333333333,
             "#9c179e"
            ],
            [
             0.4444444444444444,
             "#bd3786"
            ],
            [
             0.5555555555555556,
             "#d8576b"
            ],
            [
             0.6666666666666666,
             "#ed7953"
            ],
            [
             0.7777777777777778,
             "#fb9f3a"
            ],
            [
             0.8888888888888888,
             "#fdca26"
            ],
            [
             1,
             "#f0f921"
            ]
           ],
           "sequentialminus": [
            [
             0,
             "#0d0887"
            ],
            [
             0.1111111111111111,
             "#46039f"
            ],
            [
             0.2222222222222222,
             "#7201a8"
            ],
            [
             0.3333333333333333,
             "#9c179e"
            ],
            [
             0.4444444444444444,
             "#bd3786"
            ],
            [
             0.5555555555555556,
             "#d8576b"
            ],
            [
             0.6666666666666666,
             "#ed7953"
            ],
            [
             0.7777777777777778,
             "#fb9f3a"
            ],
            [
             0.8888888888888888,
             "#fdca26"
            ],
            [
             1,
             "#f0f921"
            ]
           ]
          },
          "colorway": [
           "#636efa",
           "#EF553B",
           "#00cc96",
           "#ab63fa",
           "#FFA15A",
           "#19d3f3",
           "#FF6692",
           "#B6E880",
           "#FF97FF",
           "#FECB52"
          ],
          "font": {
           "color": "#2a3f5f"
          },
          "geo": {
           "bgcolor": "white",
           "lakecolor": "white",
           "landcolor": "#E5ECF6",
           "showlakes": true,
           "showland": true,
           "subunitcolor": "white"
          },
          "hoverlabel": {
           "align": "left"
          },
          "hovermode": "closest",
          "mapbox": {
           "style": "light"
          },
          "paper_bgcolor": "white",
          "plot_bgcolor": "#E5ECF6",
          "polar": {
           "angularaxis": {
            "gridcolor": "white",
            "linecolor": "white",
            "ticks": ""
           },
           "bgcolor": "#E5ECF6",
           "radialaxis": {
            "gridcolor": "white",
            "linecolor": "white",
            "ticks": ""
           }
          },
          "scene": {
           "xaxis": {
            "backgroundcolor": "#E5ECF6",
            "gridcolor": "white",
            "gridwidth": 2,
            "linecolor": "white",
            "showbackground": true,
            "ticks": "",
            "zerolinecolor": "white"
           },
           "yaxis": {
            "backgroundcolor": "#E5ECF6",
            "gridcolor": "white",
            "gridwidth": 2,
            "linecolor": "white",
            "showbackground": true,
            "ticks": "",
            "zerolinecolor": "white"
           },
           "zaxis": {
            "backgroundcolor": "#E5ECF6",
            "gridcolor": "white",
            "gridwidth": 2,
            "linecolor": "white",
            "showbackground": true,
            "ticks": "",
            "zerolinecolor": "white"
           }
          },
          "shapedefaults": {
           "line": {
            "color": "#2a3f5f"
           }
          },
          "ternary": {
           "aaxis": {
            "gridcolor": "white",
            "linecolor": "white",
            "ticks": ""
           },
           "baxis": {
            "gridcolor": "white",
            "linecolor": "white",
            "ticks": ""
           },
           "bgcolor": "#E5ECF6",
           "caxis": {
            "gridcolor": "white",
            "linecolor": "white",
            "ticks": ""
           }
          },
          "title": {
           "x": 0.05
          },
          "xaxis": {
           "automargin": true,
           "gridcolor": "white",
           "linecolor": "white",
           "ticks": "",
           "title": {
            "standoff": 15
           },
           "zerolinecolor": "white",
           "zerolinewidth": 2
          },
          "yaxis": {
           "automargin": true,
           "gridcolor": "white",
           "linecolor": "white",
           "ticks": "",
           "title": {
            "standoff": 15
           },
           "zerolinecolor": "white",
           "zerolinewidth": 2
          }
         }
        },
        "title": {
         "text": "Index - Haar Transform: 0 Levels - Average Distance Calculations vs. Query Radius"
        },
        "width": 1200,
        "xaxis": {
         "anchor": "y",
         "domain": [
          0,
          0.2888888888888889
         ],
         "rangemode": "tozero",
         "title": {
          "text": "Query Radius"
         }
        },
        "xaxis2": {
         "anchor": "y2",
         "domain": [
          0.35555555555555557,
          0.6444444444444445
         ],
         "rangemode": "tozero",
         "title": {
          "text": "Query Radius"
         }
        },
        "xaxis3": {
         "anchor": "y3",
         "domain": [
          0.7111111111111111,
          1
         ],
         "rangemode": "tozero",
         "title": {
          "text": "Query Radius"
         }
        },
        "yaxis": {
         "anchor": "x",
         "domain": [
          0,
          1
         ],
         "rangemode": "tozero",
         "title": {
          "text": "Average Distance Calculations"
         }
        },
        "yaxis2": {
         "anchor": "x2",
         "domain": [
          0,
          1
         ],
         "rangemode": "tozero",
         "title": {
          "text": "Average Distance Calculations"
         }
        },
        "yaxis3": {
         "anchor": "x3",
         "domain": [
          0,
          1
         ],
         "rangemode": "tozero",
         "title": {
          "text": "Average Distance Calculations"
         }
        }
       }
      }
     },
     "metadata": {},
     "output_type": "display_data"
    },
    {
     "name": "stdout",
     "output_type": "stream",
     "text": [
      "\n",
      "End of Average Distance Calculations plot generation.\n"
     ]
    }
   ],
   "source": [
    "# Block to ensure the DataFrame df exists and has the necessary columns\n",
    "try:\n",
    "    if 'df' not in locals() or not isinstance(df, pd.DataFrame): # Check if df exists\n",
    "        print(\"DataFrame 'df' not found or invalid. Creating from 'all_data'...\")\n",
    "        flat_data_list = []\n",
    "        for tree_key, tree_content in all_data.items():\n",
    "            if not isinstance(tree_content, dict): continue # Skip invalid tree entries\n",
    "            for data_key, data_content in tree_content.items():\n",
    "                if not isinstance(data_content, dict): continue # Skip invalid data entries\n",
    "                for radius_key, metrics in data_content.items():\n",
    "                     # Ensure metrics is a dict before processing\n",
    "                    if not isinstance(metrics, dict): continue # Skip invalid metric entries\n",
    "                    record = metrics.copy()\n",
    "                    record['tree'] = tree_key\n",
    "                    record['data'] = data_key\n",
    "                    # Ensure 'radius' exists or try to parse from key\n",
    "                    if 'radius' not in record:\n",
    "                        try:\n",
    "                            record['radius'] = int(radius_key.split('-')[-1])\n",
    "                        except (ValueError, IndexError):\n",
    "                            record['radius'] = -1 # Assign default if parsing fails\n",
    "                    flat_data_list.append(record)\n",
    "\n",
    "        if not flat_data_list:\n",
    "             raise ValueError(\"No valid data found in 'all_data' to create DataFrame.\")\n",
    "\n",
    "        df = pd.DataFrame(flat_data_list)\n",
    "        numeric_cols = ['avg_time', 'disk_access', 'avg_dist_calc', 'avg_obj_result', 'radius']\n",
    "        # Convert numeric columns, coercing errors to NaN\n",
    "        for col in numeric_cols:\n",
    "            if col in df.columns:\n",
    "                df[col] = pd.to_numeric(df[col], errors='coerce')\n",
    "            else:\n",
    "                print(f\"Warning: Column '{col}' not found in source data.\")\n",
    "\n",
    "        # Ensure 'radius' and 'avg_dist_calc' are not null for this specific plot type\n",
    "        required_cols = ['radius', 'avg_dist_calc', 'tree', 'data']\n",
    "        if not all(col in df.columns for col in required_cols):\n",
    "             raise ValueError(f\"DataFrame missing one or more required columns: {required_cols}\")\n",
    "\n",
    "        df.dropna(subset=['radius', 'avg_dist_calc'], inplace=True)\n",
    "        # Filter out negative radius values that might have resulted from parsing errors\n",
    "        df = df[df['radius'] >= 0].copy()\n",
    "        print(\"DataFrame 'df' created/regenerated successfully.\")\n",
    "    else:\n",
    "        print(\"DataFrame 'df' already exists. Skipping creation.\")\n",
    "\n",
    "except Exception as e:\n",
    "    print(f\"Error processing data to create DataFrame: {e}\")\n",
    "    df = pd.DataFrame() # Create an empty DataFrame to avoid later errors\n",
    "\n",
    "# --- End of Loading and Preparation Block ---\n",
    "\n",
    "\n",
    "# --- Mappings (English) ---\n",
    "tree_title_map = {\n",
    "    \"tree-0\": \"Index - Haar Transform: 0 Levels\",\n",
    "    \"tree-1\": \"Index - Haar Transform: 1 Level\",\n",
    "    \"tree-2\": \"Index - Haar Transform: 2 Levels\",\n",
    "    # Add more if needed, but script filters for 0, 1, 2\n",
    "}\n",
    "\n",
    "data_label_map = {\n",
    "    \"data-0\": \"Haar Lvl 0 (256 bins)\",\n",
    "    \"data-1\": \"Haar Lvl 1 (128 bins)\",\n",
    "    \"data-2\": \"Haar Lvl 2 (64 bins)\",\n",
    "    \"data-3\": \"Haar Lvl 3 (32 bins)\",\n",
    "    \"data-4\": \"Haar Lvl 4 (16 bins)\",\n",
    "    \"data-5\": \"Haar Lvl 5 (8 bins)\",\n",
    "    \"data-6\": \"Haar Lvl 6 (4 bins)\",\n",
    "    \"data-7\": \"Haar Lvl 7 (2 bins)\",\n",
    "    # Add more mappings if your data has more data-X keys\n",
    "}\n",
    "\n",
    "# --- Plot Generation: Average Distance Calculations vs. Radius (Subplots) ---\n",
    "target_tree = 'tree-0' # Choose the tree to plot\n",
    "target_data_keys = ['data-0', 'data-1', 'data-2'] # Choose data representations for subplots\n",
    "horizontal_line_y = 20580\n",
    "horizontal_line_label = \"Distance Reference\" # English label for annotation\n",
    "\n",
    "# Define marker symbols for different traces within subplots\n",
    "marker_symbols = ['circle', 'square', 'triangle-up', 'cross', 'diamond', 'star'] # Add more if needed\n",
    "\n",
    "# Get the mapped title for the target tree\n",
    "tree_title = tree_title_map.get(target_tree, target_tree) # Use mapped name or key if not found\n",
    "\n",
    "print(f\"\\nGenerating Average Distance Calculations vs. Radius plots for {tree_title}...\")\n",
    "\n",
    "# 1. Check if DataFrame is valid and column 'avg_dist_calc' exists\n",
    "if df.empty:\n",
    "     print(f\"Error: DataFrame 'df' is empty. Cannot generate plots.\")\n",
    "elif 'avg_dist_calc' not in df.columns:\n",
    "    print(f\"Error: Column 'avg_dist_calc' not found in the DataFrame.\")\n",
    "else:\n",
    "    # Filter for the target tree first\n",
    "    df_tree_filtered = df[df['tree'] == target_tree].copy()\n",
    "\n",
    "    # 2. Pre-processing: Identify which target_data_keys have valid data for this tree\n",
    "    plots_to_make = []\n",
    "    valid_data_keys = [] # Store original keys ('data-0', etc.)\n",
    "    subplot_titles = [] # Store mapped labels for titles\n",
    "\n",
    "    for data_key in target_data_keys:\n",
    "        # Select data for the specific data_key and drop rows where 'avg_dist_calc' is NaN\n",
    "        df_plot = df_tree_filtered[df_tree_filtered['data'] == data_key].dropna(subset=['avg_dist_calc']).copy()\n",
    "\n",
    "        # Only proceed if there's data left after filtering\n",
    "        if not df_plot.empty:\n",
    "            df_plot.sort_values(by='radius', inplace=True) # Sort by radius for line plot\n",
    "            plots_to_make.append(df_plot)\n",
    "            valid_data_keys.append(data_key)\n",
    "            # Get the mapped label for the subplot title, default to original key if not found\n",
    "            subplot_titles.append(data_label_map.get(data_key, data_key))\n",
    "\n",
    "    # 3. Check if there are any valid plots to create\n",
    "    num_plots = len(plots_to_make)\n",
    "    if num_plots == 0:\n",
    "        print(f\"Warning: No valid data found for plotting 'avg_dist_calc' for keys {target_data_keys} in {tree_title}.\")\n",
    "    else:\n",
    "        # 4. Create the figure with subplots, using mapped titles\n",
    "        fig = make_subplots(rows=1, cols=num_plots,\n",
    "                            subplot_titles=subplot_titles) # Use mapped labels here\n",
    "\n",
    "        # 5. Add traces and shapes/annotations to each subplot\n",
    "        for i, df_plot in enumerate(plots_to_make):\n",
    "            col_num = i + 1\n",
    "            original_data_key = valid_data_keys[i] # Original key ('data-0')\n",
    "            mapped_data_label = subplot_titles[i] # Mapped label ('Haar Lvl 0 (256 bins)')\n",
    "            # Select marker symbol based on the subplot index 'i'\n",
    "            marker_symbol = marker_symbols[i % len(marker_symbols)]\n",
    "\n",
    "            # 5.1 Add Main Data Trace (Average Distance Calculations) with unique marker\n",
    "            fig.add_trace(\n",
    "                go.Scatter(\n",
    "                    x=df_plot['radius'],\n",
    "                    y=df_plot['avg_dist_calc'],\n",
    "                    mode='lines+markers',\n",
    "                    name=mapped_data_label, # Use mapped label for legend entry\n",
    "                    marker=dict(size=6, symbol=marker_symbol), # <<< APPLY UNIQUE MARKER\n",
    "                    legendgroup=f'group{i}', # Assign a legend group per subplot trace\n",
    "                    hovertemplate = ( # Custom hover text\n",
    "                        f'<b>{mapped_data_label}</b><br>' +\n",
    "                        'Radius: %{x}<br>' +\n",
    "                        'Avg Dist Calc: %{y:.2f}<extra></extra>' # Format y-value\n",
    "                    )\n",
    "                ),\n",
    "                row=1, col=col_num\n",
    "            )\n",
    "\n",
    "            # 5.2 Add Horizontal Reference Line using add_shape\n",
    "            xmax_plot = df_plot['radius'].max() if not df_plot.empty else 0\n",
    "            fig.add_shape(\n",
    "                type=\"line\",\n",
    "                x0=0, y0=horizontal_line_y,\n",
    "                x1=xmax_plot,\n",
    "                y1=horizontal_line_y,\n",
    "                line=dict(color=\"grey\", width=2, dash=\"dot\"),\n",
    "                row=1, col=col_num # Associate shape with the subplot\n",
    "            )\n",
    "\n",
    "            # 5.3 Add Annotation for the Reference Line\n",
    "            fig.add_annotation(\n",
    "                text=horizontal_line_label, # Use defined English label\n",
    "                align='right',\n",
    "                x=xmax_plot, # Position annotation near the end of the line\n",
    "                y=horizontal_line_y,\n",
    "                xref=f\"x{col_num}\", # Reference subplot's x-axis\n",
    "                yref=f\"y{col_num}\", # Reference subplot's y-axis\n",
    "                showarrow=False,\n",
    "                yshift=-10, # Shift below the line\n",
    "                xanchor=\"right\" # Anchor text to the right of the x coordinate\n",
    "            )\n",
    "\n",
    "\n",
    "        # 6. Update the overall figure layout\n",
    "        fig.update_layout(\n",
    "            title_text=f'{tree_title} - Average Distance Calculations vs. Query Radius', # Mapped Tree Title\n",
    "            showlegend=True, # Show legend for the main traces\n",
    "            legend_title_text=\"Data Representation\",\n",
    "            width=1200,  # Largura\n",
    "            height=600\n",
    "        )\n",
    "        # Update axes titles and range for all subplots\n",
    "        fig.update_xaxes(\n",
    "            title_text='Query Radius', # English\n",
    "            rangemode='tozero',\n",
    "            row=1 # Apply to all x-axes in row 1\n",
    "        )\n",
    "        fig.update_yaxes(\n",
    "            title_text='Average Distance Calculations', # English\n",
    "            rangemode='tozero',\n",
    "            row=1 # Apply to all y-axes in row 1\n",
    "        )\n",
    "\n",
    "        # 7. Show the figure\n",
    "        fig.show()\n",
    "\n",
    "print(\"\\nEnd of Average Distance Calculations plot generation.\")"
   ]
  },
  {
   "cell_type": "code",
   "execution_count": 34,
   "id": "afcb74aa",
   "metadata": {},
   "outputs": [
    {
     "data": {
      "application/vnd.plotly.v1+json": {
       "config": {
        "plotlyServerURL": "https://plot.ly"
       },
       "data": [
        {
         "hovertemplate": "<b>Haar Transform Index - 0 Levels</b><br>Representation: %{x}<br>Disk Access: %{y:.2f}<br>Rank: 1<br>Avg Obj Result (Line Avg): 2057.704<extra></extra>",
         "line": {
          "width": 2
         },
         "marker": {
          "size": 7,
          "symbol": "circle"
         },
         "mode": "lines+markers",
         "name": "Rank 1 (Avg Obj: 2057.704)",
         "type": "scatter",
         "x": [
          "Haar Lvl 0 (256 bins)",
          "Haar Lvl 1 (128 bins)",
          "Haar Lvl 2 (64 bins)",
          "Haar Lvl 3 (32 bins)",
          "Haar Lvl 4 (16 bins)",
          "Haar Lvl 5 (8 bins)",
          "Haar Lvl 6 (4 bins)",
          "Haar Lvl 7 (2 bins)"
         ],
         "y": [
          338.31,
          338.198,
          338.076,
          337.95,
          337.496,
          336.99,
          333.444,
          329.988
         ]
        },
        {
         "hovertemplate": "<b>Haar Transform Index - 0 Levels</b><br>Representation: %{x}<br>Disk Access: %{y:.2f}<br>Rank: 2<br>Avg Obj Result (Line Avg): 2051.499<extra></extra>",
         "line": {
          "width": 2
         },
         "marker": {
          "size": 7,
          "symbol": "square"
         },
         "mode": "lines+markers",
         "name": "Rank 2 (Avg Obj: 2051.499)",
         "type": "scatter",
         "x": [
          "Haar Lvl 0 (256 bins)",
          "Haar Lvl 1 (128 bins)",
          "Haar Lvl 2 (64 bins)",
          "Haar Lvl 3 (32 bins)",
          "Haar Lvl 4 (16 bins)",
          "Haar Lvl 5 (8 bins)",
          "Haar Lvl 6 (4 bins)",
          "Haar Lvl 7 (2 bins)"
         ],
         "y": [
          338.308,
          338.192,
          338.074,
          337.934,
          337.49,
          336.836,
          333.302,
          329.872
         ]
        },
        {
         "hovertemplate": "<b>Haar Transform Index - 0 Levels</b><br>Representation: %{x}<br>Disk Access: %{y:.2f}<br>Rank: 3<br>Avg Obj Result (Line Avg): 1356.465<extra></extra>",
         "line": {
          "width": 2
         },
         "marker": {
          "size": 7,
          "symbol": "diamond"
         },
         "mode": "lines+markers",
         "name": "Rank 3 (Avg Obj: 1356.465)",
         "type": "scatter",
         "x": [
          "Haar Lvl 0 (256 bins)",
          "Haar Lvl 1 (128 bins)",
          "Haar Lvl 2 (64 bins)",
          "Haar Lvl 3 (32 bins)",
          "Haar Lvl 4 (16 bins)",
          "Haar Lvl 5 (8 bins)",
          "Haar Lvl 6 (4 bins)",
          "Haar Lvl 7 (2 bins)"
         ],
         "y": [
          329.144,
          329.046,
          328.98,
          328.83,
          328.624,
          328.626,
          326.568,
          326.99
         ]
        },
        {
         "hovertemplate": "<b>Haar Transform Index - 0 Levels</b><br>Representation: %{x}<br>Disk Access: %{y:.2f}<br>Rank: 4<br>Avg Obj Result (Line Avg): 801.300<extra></extra>",
         "line": {
          "width": 2
         },
         "marker": {
          "size": 7,
          "symbol": "cross"
         },
         "mode": "lines+markers",
         "name": "Rank 4 (Avg Obj: 801.300)",
         "type": "scatter",
         "x": [
          "Haar Lvl 0 (256 bins)",
          "Haar Lvl 1 (128 bins)",
          "Haar Lvl 2 (64 bins)",
          "Haar Lvl 3 (32 bins)",
          "Haar Lvl 4 (16 bins)",
          "Haar Lvl 5 (8 bins)",
          "Haar Lvl 6 (4 bins)",
          "Haar Lvl 7 (2 bins)"
         ],
         "y": [
          318.328,
          318.282,
          318.308,
          318.33,
          318.524,
          319.306,
          319.488,
          323.26
         ]
        },
        {
         "hovertemplate": "<b>Haar Transform Index - 0 Levels</b><br>Representation: %{x}<br>Disk Access: %{y:.2f}<br>Rank: 5<br>Avg Obj Result (Line Avg): 457.494<extra></extra>",
         "line": {
          "width": 2
         },
         "marker": {
          "size": 7,
          "symbol": "x"
         },
         "mode": "lines+markers",
         "name": "Rank 5 (Avg Obj: 457.494)",
         "type": "scatter",
         "x": [
          "Haar Lvl 0 (256 bins)",
          "Haar Lvl 1 (128 bins)",
          "Haar Lvl 2 (64 bins)",
          "Haar Lvl 3 (32 bins)",
          "Haar Lvl 4 (16 bins)",
          "Haar Lvl 5 (8 bins)",
          "Haar Lvl 6 (4 bins)",
          "Haar Lvl 7 (2 bins)"
         ],
         "y": [
          305.546,
          305.572,
          305.624,
          305.874,
          306.578,
          308.572,
          311.016,
          319.226
         ]
        },
        {
         "hovertemplate": "<b>Haar Transform Index - 0 Levels</b><br>Representation: %{x}<br>Disk Access: %{y:.2f}<br>Rank: 6<br>Avg Obj Result (Line Avg): 238.165<extra></extra>",
         "line": {
          "width": 2
         },
         "marker": {
          "size": 7,
          "symbol": "triangle-up"
         },
         "mode": "lines+markers",
         "name": "Rank 6 (Avg Obj: 238.165)",
         "type": "scatter",
         "x": [
          "Haar Lvl 0 (256 bins)",
          "Haar Lvl 1 (128 bins)",
          "Haar Lvl 2 (64 bins)",
          "Haar Lvl 3 (32 bins)",
          "Haar Lvl 4 (16 bins)",
          "Haar Lvl 5 (8 bins)",
          "Haar Lvl 6 (4 bins)",
          "Haar Lvl 7 (2 bins)"
         ],
         "y": [
          290.954,
          291.064,
          291.234,
          291.682,
          293.038,
          296.346,
          302.11,
          315.494
         ]
        },
        {
         "hovertemplate": "<b>Haar Transform Index - 0 Levels</b><br>Representation: %{x}<br>Disk Access: %{y:.2f}<br>Rank: 7<br>Avg Obj Result (Line Avg): 109.862<extra></extra>",
         "line": {
          "width": 2
         },
         "marker": {
          "size": 7,
          "symbol": "pentagon"
         },
         "mode": "lines+markers",
         "name": "Rank 7 (Avg Obj: 109.862)",
         "type": "scatter",
         "x": [
          "Haar Lvl 0 (256 bins)",
          "Haar Lvl 1 (128 bins)",
          "Haar Lvl 2 (64 bins)",
          "Haar Lvl 3 (32 bins)",
          "Haar Lvl 4 (16 bins)",
          "Haar Lvl 5 (8 bins)",
          "Haar Lvl 6 (4 bins)",
          "Haar Lvl 7 (2 bins)"
         ],
         "y": [
          274.984,
          275.182,
          275.496,
          276.258,
          278.15,
          283.248,
          292.796,
          311.608
         ]
        },
        {
         "hovertemplate": "<b>Haar Transform Index - 0 Levels</b><br>Representation: %{x}<br>Disk Access: %{y:.2f}<br>Rank: 8<br>Avg Obj Result (Line Avg): 40.719<extra></extra>",
         "line": {
          "width": 2
         },
         "marker": {
          "size": 7,
          "symbol": "hexagon"
         },
         "mode": "lines+markers",
         "name": "Rank 8 (Avg Obj: 40.719)",
         "type": "scatter",
         "x": [
          "Haar Lvl 0 (256 bins)",
          "Haar Lvl 1 (128 bins)",
          "Haar Lvl 2 (64 bins)",
          "Haar Lvl 3 (32 bins)",
          "Haar Lvl 4 (16 bins)",
          "Haar Lvl 5 (8 bins)",
          "Haar Lvl 6 (4 bins)",
          "Haar Lvl 7 (2 bins)"
         ],
         "y": [
          257.28,
          257.586,
          257.998,
          259.07,
          261.704,
          268.624,
          281.836,
          307.996
         ]
        },
        {
         "hovertemplate": "<b>Haar Transform Index - 0 Levels</b><br>Representation: %{x}<br>Disk Access: %{y:.2f}<br>Rank: 9<br>Avg Obj Result (Line Avg): 12.822<extra></extra>",
         "line": {
          "width": 2
         },
         "marker": {
          "size": 7,
          "symbol": "star"
         },
         "mode": "lines+markers",
         "name": "Rank 9 (Avg Obj: 12.822)",
         "type": "scatter",
         "x": [
          "Haar Lvl 0 (256 bins)",
          "Haar Lvl 1 (128 bins)",
          "Haar Lvl 2 (64 bins)",
          "Haar Lvl 3 (32 bins)",
          "Haar Lvl 4 (16 bins)",
          "Haar Lvl 5 (8 bins)",
          "Haar Lvl 6 (4 bins)",
          "Haar Lvl 7 (2 bins)"
         ],
         "y": [
          238.024,
          238.38,
          238.93,
          240.336,
          243.872,
          253.062,
          270.774,
          304.216
         ]
        },
        {
         "hovertemplate": "<b>Haar Transform Index - 0 Levels</b><br>Representation: %{x}<br>Disk Access: %{y:.2f}<br>Rank: 10<br>Avg Obj Result (Line Avg): 1.009<extra></extra>",
         "line": {
          "width": 2
         },
         "marker": {
          "size": 7,
          "symbol": "triangle-down"
         },
         "mode": "lines+markers",
         "name": "Rank 10 (Avg Obj: 1.009)",
         "type": "scatter",
         "x": [
          "Haar Lvl 0 (256 bins)",
          "Haar Lvl 1 (128 bins)",
          "Haar Lvl 2 (64 bins)",
          "Haar Lvl 3 (32 bins)",
          "Haar Lvl 4 (16 bins)",
          "Haar Lvl 5 (8 bins)",
          "Haar Lvl 6 (4 bins)",
          "Haar Lvl 7 (2 bins)"
         ],
         "y": [
          218.26,
          218.738,
          219.484,
          221.25,
          225.546,
          236.56,
          258.954,
          300.236
         ]
        }
       ],
       "layout": {
        "annotations": [
         {
          "showarrow": false,
          "text": "Sequential Scan Ref.",
          "x": 1,
          "xanchor": "right",
          "xref": "x domain",
          "y": 332,
          "yanchor": "top",
          "yref": "y"
         }
        ],
        "height": 600,
        "hovermode": "x unified",
        "legend": {
         "title": {
          "text": "Rank (Highest Radius = Rank 1)"
         }
        },
        "shapes": [
         {
          "line": {
           "dash": "dot"
          },
          "type": "line",
          "x0": 0,
          "x1": 1,
          "xref": "x domain",
          "y0": 332,
          "y1": 332,
          "yref": "y"
         }
        ],
        "template": {
         "data": {
          "bar": [
           {
            "error_x": {
             "color": "#2a3f5f"
            },
            "error_y": {
             "color": "#2a3f5f"
            },
            "marker": {
             "line": {
              "color": "#E5ECF6",
              "width": 0.5
             },
             "pattern": {
              "fillmode": "overlay",
              "size": 10,
              "solidity": 0.2
             }
            },
            "type": "bar"
           }
          ],
          "barpolar": [
           {
            "marker": {
             "line": {
              "color": "#E5ECF6",
              "width": 0.5
             },
             "pattern": {
              "fillmode": "overlay",
              "size": 10,
              "solidity": 0.2
             }
            },
            "type": "barpolar"
           }
          ],
          "carpet": [
           {
            "aaxis": {
             "endlinecolor": "#2a3f5f",
             "gridcolor": "white",
             "linecolor": "white",
             "minorgridcolor": "white",
             "startlinecolor": "#2a3f5f"
            },
            "baxis": {
             "endlinecolor": "#2a3f5f",
             "gridcolor": "white",
             "linecolor": "white",
             "minorgridcolor": "white",
             "startlinecolor": "#2a3f5f"
            },
            "type": "carpet"
           }
          ],
          "choropleth": [
           {
            "colorbar": {
             "outlinewidth": 0,
             "ticks": ""
            },
            "type": "choropleth"
           }
          ],
          "contour": [
           {
            "colorbar": {
             "outlinewidth": 0,
             "ticks": ""
            },
            "colorscale": [
             [
              0,
              "#0d0887"
             ],
             [
              0.1111111111111111,
              "#46039f"
             ],
             [
              0.2222222222222222,
              "#7201a8"
             ],
             [
              0.3333333333333333,
              "#9c179e"
             ],
             [
              0.4444444444444444,
              "#bd3786"
             ],
             [
              0.5555555555555556,
              "#d8576b"
             ],
             [
              0.6666666666666666,
              "#ed7953"
             ],
             [
              0.7777777777777778,
              "#fb9f3a"
             ],
             [
              0.8888888888888888,
              "#fdca26"
             ],
             [
              1,
              "#f0f921"
             ]
            ],
            "type": "contour"
           }
          ],
          "contourcarpet": [
           {
            "colorbar": {
             "outlinewidth": 0,
             "ticks": ""
            },
            "type": "contourcarpet"
           }
          ],
          "heatmap": [
           {
            "colorbar": {
             "outlinewidth": 0,
             "ticks": ""
            },
            "colorscale": [
             [
              0,
              "#0d0887"
             ],
             [
              0.1111111111111111,
              "#46039f"
             ],
             [
              0.2222222222222222,
              "#7201a8"
             ],
             [
              0.3333333333333333,
              "#9c179e"
             ],
             [
              0.4444444444444444,
              "#bd3786"
             ],
             [
              0.5555555555555556,
              "#d8576b"
             ],
             [
              0.6666666666666666,
              "#ed7953"
             ],
             [
              0.7777777777777778,
              "#fb9f3a"
             ],
             [
              0.8888888888888888,
              "#fdca26"
             ],
             [
              1,
              "#f0f921"
             ]
            ],
            "type": "heatmap"
           }
          ],
          "histogram": [
           {
            "marker": {
             "pattern": {
              "fillmode": "overlay",
              "size": 10,
              "solidity": 0.2
             }
            },
            "type": "histogram"
           }
          ],
          "histogram2d": [
           {
            "colorbar": {
             "outlinewidth": 0,
             "ticks": ""
            },
            "colorscale": [
             [
              0,
              "#0d0887"
             ],
             [
              0.1111111111111111,
              "#46039f"
             ],
             [
              0.2222222222222222,
              "#7201a8"
             ],
             [
              0.3333333333333333,
              "#9c179e"
             ],
             [
              0.4444444444444444,
              "#bd3786"
             ],
             [
              0.5555555555555556,
              "#d8576b"
             ],
             [
              0.6666666666666666,
              "#ed7953"
             ],
             [
              0.7777777777777778,
              "#fb9f3a"
             ],
             [
              0.8888888888888888,
              "#fdca26"
             ],
             [
              1,
              "#f0f921"
             ]
            ],
            "type": "histogram2d"
           }
          ],
          "histogram2dcontour": [
           {
            "colorbar": {
             "outlinewidth": 0,
             "ticks": ""
            },
            "colorscale": [
             [
              0,
              "#0d0887"
             ],
             [
              0.1111111111111111,
              "#46039f"
             ],
             [
              0.2222222222222222,
              "#7201a8"
             ],
             [
              0.3333333333333333,
              "#9c179e"
             ],
             [
              0.4444444444444444,
              "#bd3786"
             ],
             [
              0.5555555555555556,
              "#d8576b"
             ],
             [
              0.6666666666666666,
              "#ed7953"
             ],
             [
              0.7777777777777778,
              "#fb9f3a"
             ],
             [
              0.8888888888888888,
              "#fdca26"
             ],
             [
              1,
              "#f0f921"
             ]
            ],
            "type": "histogram2dcontour"
           }
          ],
          "mesh3d": [
           {
            "colorbar": {
             "outlinewidth": 0,
             "ticks": ""
            },
            "type": "mesh3d"
           }
          ],
          "parcoords": [
           {
            "line": {
             "colorbar": {
              "outlinewidth": 0,
              "ticks": ""
             }
            },
            "type": "parcoords"
           }
          ],
          "pie": [
           {
            "automargin": true,
            "type": "pie"
           }
          ],
          "scatter": [
           {
            "fillpattern": {
             "fillmode": "overlay",
             "size": 10,
             "solidity": 0.2
            },
            "type": "scatter"
           }
          ],
          "scatter3d": [
           {
            "line": {
             "colorbar": {
              "outlinewidth": 0,
              "ticks": ""
             }
            },
            "marker": {
             "colorbar": {
              "outlinewidth": 0,
              "ticks": ""
             }
            },
            "type": "scatter3d"
           }
          ],
          "scattercarpet": [
           {
            "marker": {
             "colorbar": {
              "outlinewidth": 0,
              "ticks": ""
             }
            },
            "type": "scattercarpet"
           }
          ],
          "scattergeo": [
           {
            "marker": {
             "colorbar": {
              "outlinewidth": 0,
              "ticks": ""
             }
            },
            "type": "scattergeo"
           }
          ],
          "scattergl": [
           {
            "marker": {
             "colorbar": {
              "outlinewidth": 0,
              "ticks": ""
             }
            },
            "type": "scattergl"
           }
          ],
          "scattermap": [
           {
            "marker": {
             "colorbar": {
              "outlinewidth": 0,
              "ticks": ""
             }
            },
            "type": "scattermap"
           }
          ],
          "scattermapbox": [
           {
            "marker": {
             "colorbar": {
              "outlinewidth": 0,
              "ticks": ""
             }
            },
            "type": "scattermapbox"
           }
          ],
          "scatterpolar": [
           {
            "marker": {
             "colorbar": {
              "outlinewidth": 0,
              "ticks": ""
             }
            },
            "type": "scatterpolar"
           }
          ],
          "scatterpolargl": [
           {
            "marker": {
             "colorbar": {
              "outlinewidth": 0,
              "ticks": ""
             }
            },
            "type": "scatterpolargl"
           }
          ],
          "scatterternary": [
           {
            "marker": {
             "colorbar": {
              "outlinewidth": 0,
              "ticks": ""
             }
            },
            "type": "scatterternary"
           }
          ],
          "surface": [
           {
            "colorbar": {
             "outlinewidth": 0,
             "ticks": ""
            },
            "colorscale": [
             [
              0,
              "#0d0887"
             ],
             [
              0.1111111111111111,
              "#46039f"
             ],
             [
              0.2222222222222222,
              "#7201a8"
             ],
             [
              0.3333333333333333,
              "#9c179e"
             ],
             [
              0.4444444444444444,
              "#bd3786"
             ],
             [
              0.5555555555555556,
              "#d8576b"
             ],
             [
              0.6666666666666666,
              "#ed7953"
             ],
             [
              0.7777777777777778,
              "#fb9f3a"
             ],
             [
              0.8888888888888888,
              "#fdca26"
             ],
             [
              1,
              "#f0f921"
             ]
            ],
            "type": "surface"
           }
          ],
          "table": [
           {
            "cells": {
             "fill": {
              "color": "#EBF0F8"
             },
             "line": {
              "color": "white"
             }
            },
            "header": {
             "fill": {
              "color": "#C8D4E3"
             },
             "line": {
              "color": "white"
             }
            },
            "type": "table"
           }
          ]
         },
         "layout": {
          "annotationdefaults": {
           "arrowcolor": "#2a3f5f",
           "arrowhead": 0,
           "arrowwidth": 1
          },
          "autotypenumbers": "strict",
          "coloraxis": {
           "colorbar": {
            "outlinewidth": 0,
            "ticks": ""
           }
          },
          "colorscale": {
           "diverging": [
            [
             0,
             "#8e0152"
            ],
            [
             0.1,
             "#c51b7d"
            ],
            [
             0.2,
             "#de77ae"
            ],
            [
             0.3,
             "#f1b6da"
            ],
            [
             0.4,
             "#fde0ef"
            ],
            [
             0.5,
             "#f7f7f7"
            ],
            [
             0.6,
             "#e6f5d0"
            ],
            [
             0.7,
             "#b8e186"
            ],
            [
             0.8,
             "#7fbc41"
            ],
            [
             0.9,
             "#4d9221"
            ],
            [
             1,
             "#276419"
            ]
           ],
           "sequential": [
            [
             0,
             "#0d0887"
            ],
            [
             0.1111111111111111,
             "#46039f"
            ],
            [
             0.2222222222222222,
             "#7201a8"
            ],
            [
             0.3333333333333333,
             "#9c179e"
            ],
            [
             0.4444444444444444,
             "#bd3786"
            ],
            [
             0.5555555555555556,
             "#d8576b"
            ],
            [
             0.6666666666666666,
             "#ed7953"
            ],
            [
             0.7777777777777778,
             "#fb9f3a"
            ],
            [
             0.8888888888888888,
             "#fdca26"
            ],
            [
             1,
             "#f0f921"
            ]
           ],
           "sequentialminus": [
            [
             0,
             "#0d0887"
            ],
            [
             0.1111111111111111,
             "#46039f"
            ],
            [
             0.2222222222222222,
             "#7201a8"
            ],
            [
             0.3333333333333333,
             "#9c179e"
            ],
            [
             0.4444444444444444,
             "#bd3786"
            ],
            [
             0.5555555555555556,
             "#d8576b"
            ],
            [
             0.6666666666666666,
             "#ed7953"
            ],
            [
             0.7777777777777778,
             "#fb9f3a"
            ],
            [
             0.8888888888888888,
             "#fdca26"
            ],
            [
             1,
             "#f0f921"
            ]
           ]
          },
          "colorway": [
           "#636efa",
           "#EF553B",
           "#00cc96",
           "#ab63fa",
           "#FFA15A",
           "#19d3f3",
           "#FF6692",
           "#B6E880",
           "#FF97FF",
           "#FECB52"
          ],
          "font": {
           "color": "#2a3f5f"
          },
          "geo": {
           "bgcolor": "white",
           "lakecolor": "white",
           "landcolor": "#E5ECF6",
           "showlakes": true,
           "showland": true,
           "subunitcolor": "white"
          },
          "hoverlabel": {
           "align": "left"
          },
          "hovermode": "closest",
          "mapbox": {
           "style": "light"
          },
          "paper_bgcolor": "white",
          "plot_bgcolor": "#E5ECF6",
          "polar": {
           "angularaxis": {
            "gridcolor": "white",
            "linecolor": "white",
            "ticks": ""
           },
           "bgcolor": "#E5ECF6",
           "radialaxis": {
            "gridcolor": "white",
            "linecolor": "white",
            "ticks": ""
           }
          },
          "scene": {
           "xaxis": {
            "backgroundcolor": "#E5ECF6",
            "gridcolor": "white",
            "gridwidth": 2,
            "linecolor": "white",
            "showbackground": true,
            "ticks": "",
            "zerolinecolor": "white"
           },
           "yaxis": {
            "backgroundcolor": "#E5ECF6",
            "gridcolor": "white",
            "gridwidth": 2,
            "linecolor": "white",
            "showbackground": true,
            "ticks": "",
            "zerolinecolor": "white"
           },
           "zaxis": {
            "backgroundcolor": "#E5ECF6",
            "gridcolor": "white",
            "gridwidth": 2,
            "linecolor": "white",
            "showbackground": true,
            "ticks": "",
            "zerolinecolor": "white"
           }
          },
          "shapedefaults": {
           "line": {
            "color": "#2a3f5f"
           }
          },
          "ternary": {
           "aaxis": {
            "gridcolor": "white",
            "linecolor": "white",
            "ticks": ""
           },
           "baxis": {
            "gridcolor": "white",
            "linecolor": "white",
            "ticks": ""
           },
           "bgcolor": "#E5ECF6",
           "caxis": {
            "gridcolor": "white",
            "linecolor": "white",
            "ticks": ""
           }
          },
          "title": {
           "x": 0.05
          },
          "xaxis": {
           "automargin": true,
           "gridcolor": "white",
           "linecolor": "white",
           "ticks": "",
           "title": {
            "standoff": 15
           },
           "zerolinecolor": "white",
           "zerolinewidth": 2
          },
          "yaxis": {
           "automargin": true,
           "gridcolor": "white",
           "linecolor": "white",
           "ticks": "",
           "title": {
            "standoff": 15
           },
           "zerolinecolor": "white",
           "zerolinewidth": 2
          }
         }
        },
        "title": {
         "text": "Haar Transform Index - 0 Levels - Disk Access by Radius Rank"
        },
        "width": 1200,
        "xaxis": {
         "categoryarray": [
          "Haar Lvl 0 (256 bins)",
          "Haar Lvl 1 (128 bins)",
          "Haar Lvl 2 (64 bins)",
          "Haar Lvl 3 (32 bins)",
          "Haar Lvl 4 (16 bins)",
          "Haar Lvl 5 (8 bins)",
          "Haar Lvl 6 (4 bins)",
          "Haar Lvl 7 (2 bins)"
         ],
         "categoryorder": "array",
         "title": {
          "text": "Data Representation"
         }
        },
        "yaxis": {
         "title": {
          "text": "Disk Access"
         }
        }
       }
      }
     },
     "metadata": {},
     "output_type": "display_data"
    },
    {
     "data": {
      "application/vnd.plotly.v1+json": {
       "config": {
        "plotlyServerURL": "https://plot.ly"
       },
       "data": [
        {
         "hovertemplate": "<b>Haar Transform Index - 1 Level</b><br>Representation: %{x}<br>Disk Access: %{y:.2f}<br>Rank: 1<br>Avg Obj Result (Line Avg): 2057.649<extra></extra>",
         "line": {
          "width": 2
         },
         "marker": {
          "size": 7,
          "symbol": "circle"
         },
         "mode": "lines+markers",
         "name": "Rank 1 (Avg Obj: 2057.649)",
         "type": "scatter",
         "x": [
          "Haar Lvl 1 (128 bins)",
          "Haar Lvl 2 (64 bins)",
          "Haar Lvl 3 (32 bins)",
          "Haar Lvl 4 (16 bins)",
          "Haar Lvl 5 (8 bins)",
          "Haar Lvl 6 (4 bins)",
          "Haar Lvl 7 (2 bins)"
         ],
         "y": [
          332.188,
          332.076,
          331.852,
          331.416,
          330.656,
          328.144,
          324.2
         ]
        },
        {
         "hovertemplate": "<b>Haar Transform Index - 1 Level</b><br>Representation: %{x}<br>Disk Access: %{y:.2f}<br>Rank: 2<br>Avg Obj Result (Line Avg): 2050.584<extra></extra>",
         "line": {
          "width": 2
         },
         "marker": {
          "size": 7,
          "symbol": "square"
         },
         "mode": "lines+markers",
         "name": "Rank 2 (Avg Obj: 2050.584)",
         "type": "scatter",
         "x": [
          "Haar Lvl 1 (128 bins)",
          "Haar Lvl 2 (64 bins)",
          "Haar Lvl 3 (32 bins)",
          "Haar Lvl 4 (16 bins)",
          "Haar Lvl 5 (8 bins)",
          "Haar Lvl 6 (4 bins)",
          "Haar Lvl 7 (2 bins)"
         ],
         "y": [
          332.172,
          332.076,
          331.84,
          331.404,
          330.536,
          328.03,
          324.122
         ]
        },
        {
         "hovertemplate": "<b>Haar Transform Index - 1 Level</b><br>Representation: %{x}<br>Disk Access: %{y:.2f}<br>Rank: 3<br>Avg Obj Result (Line Avg): 1369.659<extra></extra>",
         "line": {
          "width": 2
         },
         "marker": {
          "size": 7,
          "symbol": "diamond"
         },
         "mode": "lines+markers",
         "name": "Rank 3 (Avg Obj: 1369.659)",
         "type": "scatter",
         "x": [
          "Haar Lvl 1 (128 bins)",
          "Haar Lvl 2 (64 bins)",
          "Haar Lvl 3 (32 bins)",
          "Haar Lvl 4 (16 bins)",
          "Haar Lvl 5 (8 bins)",
          "Haar Lvl 6 (4 bins)",
          "Haar Lvl 7 (2 bins)"
         ],
         "y": [
          324.93,
          324.838,
          324.758,
          324.438,
          323.934,
          322.602,
          321.702
         ]
        },
        {
         "hovertemplate": "<b>Haar Transform Index - 1 Level</b><br>Representation: %{x}<br>Disk Access: %{y:.2f}<br>Rank: 4<br>Avg Obj Result (Line Avg): 813.291<extra></extra>",
         "line": {
          "width": 2
         },
         "marker": {
          "size": 7,
          "symbol": "cross"
         },
         "mode": "lines+markers",
         "name": "Rank 4 (Avg Obj: 813.291)",
         "type": "scatter",
         "x": [
          "Haar Lvl 1 (128 bins)",
          "Haar Lvl 2 (64 bins)",
          "Haar Lvl 3 (32 bins)",
          "Haar Lvl 4 (16 bins)",
          "Haar Lvl 5 (8 bins)",
          "Haar Lvl 6 (4 bins)",
          "Haar Lvl 7 (2 bins)"
         ],
         "y": [
          316.096,
          316.034,
          316.08,
          316.008,
          316.254,
          316.266,
          319.182
         ]
        },
        {
         "hovertemplate": "<b>Haar Transform Index - 1 Level</b><br>Representation: %{x}<br>Disk Access: %{y:.2f}<br>Rank: 5<br>Avg Obj Result (Line Avg): 470.315<extra></extra>",
         "line": {
          "width": 2
         },
         "marker": {
          "size": 7,
          "symbol": "x"
         },
         "mode": "lines+markers",
         "name": "Rank 5 (Avg Obj: 470.315)",
         "type": "scatter",
         "x": [
          "Haar Lvl 1 (128 bins)",
          "Haar Lvl 2 (64 bins)",
          "Haar Lvl 3 (32 bins)",
          "Haar Lvl 4 (16 bins)",
          "Haar Lvl 5 (8 bins)",
          "Haar Lvl 6 (4 bins)",
          "Haar Lvl 7 (2 bins)"
         ],
         "y": [
          305.19,
          305.266,
          305.41,
          305.948,
          307.074,
          309.566,
          316.524
         ]
        },
        {
         "hovertemplate": "<b>Haar Transform Index - 1 Level</b><br>Representation: %{x}<br>Disk Access: %{y:.2f}<br>Rank: 6<br>Avg Obj Result (Line Avg): 248.561<extra></extra>",
         "line": {
          "width": 2
         },
         "marker": {
          "size": 7,
          "symbol": "triangle-up"
         },
         "mode": "lines+markers",
         "name": "Rank 6 (Avg Obj: 248.561)",
         "type": "scatter",
         "x": [
          "Haar Lvl 1 (128 bins)",
          "Haar Lvl 2 (64 bins)",
          "Haar Lvl 3 (32 bins)",
          "Haar Lvl 4 (16 bins)",
          "Haar Lvl 5 (8 bins)",
          "Haar Lvl 6 (4 bins)",
          "Haar Lvl 7 (2 bins)"
         ],
         "y": [
          292.308,
          292.402,
          292.814,
          294.002,
          296.888,
          301.49,
          313.64
         ]
        },
        {
         "hovertemplate": "<b>Haar Transform Index - 1 Level</b><br>Representation: %{x}<br>Disk Access: %{y:.2f}<br>Rank: 7<br>Avg Obj Result (Line Avg): 116.697<extra></extra>",
         "line": {
          "width": 2
         },
         "marker": {
          "size": 7,
          "symbol": "pentagon"
         },
         "mode": "lines+markers",
         "name": "Rank 7 (Avg Obj: 116.697)",
         "type": "scatter",
         "x": [
          "Haar Lvl 1 (128 bins)",
          "Haar Lvl 2 (64 bins)",
          "Haar Lvl 3 (32 bins)",
          "Haar Lvl 4 (16 bins)",
          "Haar Lvl 5 (8 bins)",
          "Haar Lvl 6 (4 bins)",
          "Haar Lvl 7 (2 bins)"
         ],
         "y": [
          277.386,
          277.66,
          278.276,
          280.012,
          284.62,
          293.186,
          310.306
         ]
        },
        {
         "hovertemplate": "<b>Haar Transform Index - 1 Level</b><br>Representation: %{x}<br>Disk Access: %{y:.2f}<br>Rank: 8<br>Avg Obj Result (Line Avg): 44.579<extra></extra>",
         "line": {
          "width": 2
         },
         "marker": {
          "size": 7,
          "symbol": "hexagon"
         },
         "mode": "lines+markers",
         "name": "Rank 8 (Avg Obj: 44.579)",
         "type": "scatter",
         "x": [
          "Haar Lvl 1 (128 bins)",
          "Haar Lvl 2 (64 bins)",
          "Haar Lvl 3 (32 bins)",
          "Haar Lvl 4 (16 bins)",
          "Haar Lvl 5 (8 bins)",
          "Haar Lvl 6 (4 bins)",
          "Haar Lvl 7 (2 bins)"
         ],
         "y": [
          260.636,
          261.036,
          262.11,
          264.796,
          271.274,
          283.978,
          307.072
         ]
        },
        {
         "hovertemplate": "<b>Haar Transform Index - 1 Level</b><br>Representation: %{x}<br>Disk Access: %{y:.2f}<br>Rank: 9<br>Avg Obj Result (Line Avg): 14.476<extra></extra>",
         "line": {
          "width": 2
         },
         "marker": {
          "size": 7,
          "symbol": "star"
         },
         "mode": "lines+markers",
         "name": "Rank 9 (Avg Obj: 14.476)",
         "type": "scatter",
         "x": [
          "Haar Lvl 1 (128 bins)",
          "Haar Lvl 2 (64 bins)",
          "Haar Lvl 3 (32 bins)",
          "Haar Lvl 4 (16 bins)",
          "Haar Lvl 5 (8 bins)",
          "Haar Lvl 6 (4 bins)",
          "Haar Lvl 7 (2 bins)"
         ],
         "y": [
          242.518,
          243.096,
          244.544,
          247.864,
          256.356,
          273.604,
          303.876
         ]
        },
        {
         "hovertemplate": "<b>Haar Transform Index - 1 Level</b><br>Representation: %{x}<br>Disk Access: %{y:.2f}<br>Rank: 10<br>Avg Obj Result (Line Avg): 1.009<extra></extra>",
         "line": {
          "width": 2
         },
         "marker": {
          "size": 7,
          "symbol": "triangle-down"
         },
         "mode": "lines+markers",
         "name": "Rank 10 (Avg Obj: 1.009)",
         "type": "scatter",
         "x": [
          "Haar Lvl 1 (128 bins)",
          "Haar Lvl 2 (64 bins)",
          "Haar Lvl 3 (32 bins)",
          "Haar Lvl 4 (16 bins)",
          "Haar Lvl 5 (8 bins)",
          "Haar Lvl 6 (4 bins)",
          "Haar Lvl 7 (2 bins)"
         ],
         "y": [
          223.28,
          223.99,
          225.736,
          230.126,
          240.82,
          262.924,
          300.736
         ]
        }
       ],
       "layout": {
        "annotations": [
         {
          "showarrow": false,
          "text": "Sequential Scan Ref.",
          "x": 1,
          "xanchor": "right",
          "xref": "x domain",
          "y": 332,
          "yanchor": "top",
          "yref": "y"
         }
        ],
        "height": 600,
        "hovermode": "x unified",
        "legend": {
         "title": {
          "text": "Rank (Highest Radius = Rank 1)"
         }
        },
        "shapes": [
         {
          "line": {
           "dash": "dot"
          },
          "type": "line",
          "x0": 0,
          "x1": 1,
          "xref": "x domain",
          "y0": 332,
          "y1": 332,
          "yref": "y"
         }
        ],
        "template": {
         "data": {
          "bar": [
           {
            "error_x": {
             "color": "#2a3f5f"
            },
            "error_y": {
             "color": "#2a3f5f"
            },
            "marker": {
             "line": {
              "color": "#E5ECF6",
              "width": 0.5
             },
             "pattern": {
              "fillmode": "overlay",
              "size": 10,
              "solidity": 0.2
             }
            },
            "type": "bar"
           }
          ],
          "barpolar": [
           {
            "marker": {
             "line": {
              "color": "#E5ECF6",
              "width": 0.5
             },
             "pattern": {
              "fillmode": "overlay",
              "size": 10,
              "solidity": 0.2
             }
            },
            "type": "barpolar"
           }
          ],
          "carpet": [
           {
            "aaxis": {
             "endlinecolor": "#2a3f5f",
             "gridcolor": "white",
             "linecolor": "white",
             "minorgridcolor": "white",
             "startlinecolor": "#2a3f5f"
            },
            "baxis": {
             "endlinecolor": "#2a3f5f",
             "gridcolor": "white",
             "linecolor": "white",
             "minorgridcolor": "white",
             "startlinecolor": "#2a3f5f"
            },
            "type": "carpet"
           }
          ],
          "choropleth": [
           {
            "colorbar": {
             "outlinewidth": 0,
             "ticks": ""
            },
            "type": "choropleth"
           }
          ],
          "contour": [
           {
            "colorbar": {
             "outlinewidth": 0,
             "ticks": ""
            },
            "colorscale": [
             [
              0,
              "#0d0887"
             ],
             [
              0.1111111111111111,
              "#46039f"
             ],
             [
              0.2222222222222222,
              "#7201a8"
             ],
             [
              0.3333333333333333,
              "#9c179e"
             ],
             [
              0.4444444444444444,
              "#bd3786"
             ],
             [
              0.5555555555555556,
              "#d8576b"
             ],
             [
              0.6666666666666666,
              "#ed7953"
             ],
             [
              0.7777777777777778,
              "#fb9f3a"
             ],
             [
              0.8888888888888888,
              "#fdca26"
             ],
             [
              1,
              "#f0f921"
             ]
            ],
            "type": "contour"
           }
          ],
          "contourcarpet": [
           {
            "colorbar": {
             "outlinewidth": 0,
             "ticks": ""
            },
            "type": "contourcarpet"
           }
          ],
          "heatmap": [
           {
            "colorbar": {
             "outlinewidth": 0,
             "ticks": ""
            },
            "colorscale": [
             [
              0,
              "#0d0887"
             ],
             [
              0.1111111111111111,
              "#46039f"
             ],
             [
              0.2222222222222222,
              "#7201a8"
             ],
             [
              0.3333333333333333,
              "#9c179e"
             ],
             [
              0.4444444444444444,
              "#bd3786"
             ],
             [
              0.5555555555555556,
              "#d8576b"
             ],
             [
              0.6666666666666666,
              "#ed7953"
             ],
             [
              0.7777777777777778,
              "#fb9f3a"
             ],
             [
              0.8888888888888888,
              "#fdca26"
             ],
             [
              1,
              "#f0f921"
             ]
            ],
            "type": "heatmap"
           }
          ],
          "histogram": [
           {
            "marker": {
             "pattern": {
              "fillmode": "overlay",
              "size": 10,
              "solidity": 0.2
             }
            },
            "type": "histogram"
           }
          ],
          "histogram2d": [
           {
            "colorbar": {
             "outlinewidth": 0,
             "ticks": ""
            },
            "colorscale": [
             [
              0,
              "#0d0887"
             ],
             [
              0.1111111111111111,
              "#46039f"
             ],
             [
              0.2222222222222222,
              "#7201a8"
             ],
             [
              0.3333333333333333,
              "#9c179e"
             ],
             [
              0.4444444444444444,
              "#bd3786"
             ],
             [
              0.5555555555555556,
              "#d8576b"
             ],
             [
              0.6666666666666666,
              "#ed7953"
             ],
             [
              0.7777777777777778,
              "#fb9f3a"
             ],
             [
              0.8888888888888888,
              "#fdca26"
             ],
             [
              1,
              "#f0f921"
             ]
            ],
            "type": "histogram2d"
           }
          ],
          "histogram2dcontour": [
           {
            "colorbar": {
             "outlinewidth": 0,
             "ticks": ""
            },
            "colorscale": [
             [
              0,
              "#0d0887"
             ],
             [
              0.1111111111111111,
              "#46039f"
             ],
             [
              0.2222222222222222,
              "#7201a8"
             ],
             [
              0.3333333333333333,
              "#9c179e"
             ],
             [
              0.4444444444444444,
              "#bd3786"
             ],
             [
              0.5555555555555556,
              "#d8576b"
             ],
             [
              0.6666666666666666,
              "#ed7953"
             ],
             [
              0.7777777777777778,
              "#fb9f3a"
             ],
             [
              0.8888888888888888,
              "#fdca26"
             ],
             [
              1,
              "#f0f921"
             ]
            ],
            "type": "histogram2dcontour"
           }
          ],
          "mesh3d": [
           {
            "colorbar": {
             "outlinewidth": 0,
             "ticks": ""
            },
            "type": "mesh3d"
           }
          ],
          "parcoords": [
           {
            "line": {
             "colorbar": {
              "outlinewidth": 0,
              "ticks": ""
             }
            },
            "type": "parcoords"
           }
          ],
          "pie": [
           {
            "automargin": true,
            "type": "pie"
           }
          ],
          "scatter": [
           {
            "fillpattern": {
             "fillmode": "overlay",
             "size": 10,
             "solidity": 0.2
            },
            "type": "scatter"
           }
          ],
          "scatter3d": [
           {
            "line": {
             "colorbar": {
              "outlinewidth": 0,
              "ticks": ""
             }
            },
            "marker": {
             "colorbar": {
              "outlinewidth": 0,
              "ticks": ""
             }
            },
            "type": "scatter3d"
           }
          ],
          "scattercarpet": [
           {
            "marker": {
             "colorbar": {
              "outlinewidth": 0,
              "ticks": ""
             }
            },
            "type": "scattercarpet"
           }
          ],
          "scattergeo": [
           {
            "marker": {
             "colorbar": {
              "outlinewidth": 0,
              "ticks": ""
             }
            },
            "type": "scattergeo"
           }
          ],
          "scattergl": [
           {
            "marker": {
             "colorbar": {
              "outlinewidth": 0,
              "ticks": ""
             }
            },
            "type": "scattergl"
           }
          ],
          "scattermap": [
           {
            "marker": {
             "colorbar": {
              "outlinewidth": 0,
              "ticks": ""
             }
            },
            "type": "scattermap"
           }
          ],
          "scattermapbox": [
           {
            "marker": {
             "colorbar": {
              "outlinewidth": 0,
              "ticks": ""
             }
            },
            "type": "scattermapbox"
           }
          ],
          "scatterpolar": [
           {
            "marker": {
             "colorbar": {
              "outlinewidth": 0,
              "ticks": ""
             }
            },
            "type": "scatterpolar"
           }
          ],
          "scatterpolargl": [
           {
            "marker": {
             "colorbar": {
              "outlinewidth": 0,
              "ticks": ""
             }
            },
            "type": "scatterpolargl"
           }
          ],
          "scatterternary": [
           {
            "marker": {
             "colorbar": {
              "outlinewidth": 0,
              "ticks": ""
             }
            },
            "type": "scatterternary"
           }
          ],
          "surface": [
           {
            "colorbar": {
             "outlinewidth": 0,
             "ticks": ""
            },
            "colorscale": [
             [
              0,
              "#0d0887"
             ],
             [
              0.1111111111111111,
              "#46039f"
             ],
             [
              0.2222222222222222,
              "#7201a8"
             ],
             [
              0.3333333333333333,
              "#9c179e"
             ],
             [
              0.4444444444444444,
              "#bd3786"
             ],
             [
              0.5555555555555556,
              "#d8576b"
             ],
             [
              0.6666666666666666,
              "#ed7953"
             ],
             [
              0.7777777777777778,
              "#fb9f3a"
             ],
             [
              0.8888888888888888,
              "#fdca26"
             ],
             [
              1,
              "#f0f921"
             ]
            ],
            "type": "surface"
           }
          ],
          "table": [
           {
            "cells": {
             "fill": {
              "color": "#EBF0F8"
             },
             "line": {
              "color": "white"
             }
            },
            "header": {
             "fill": {
              "color": "#C8D4E3"
             },
             "line": {
              "color": "white"
             }
            },
            "type": "table"
           }
          ]
         },
         "layout": {
          "annotationdefaults": {
           "arrowcolor": "#2a3f5f",
           "arrowhead": 0,
           "arrowwidth": 1
          },
          "autotypenumbers": "strict",
          "coloraxis": {
           "colorbar": {
            "outlinewidth": 0,
            "ticks": ""
           }
          },
          "colorscale": {
           "diverging": [
            [
             0,
             "#8e0152"
            ],
            [
             0.1,
             "#c51b7d"
            ],
            [
             0.2,
             "#de77ae"
            ],
            [
             0.3,
             "#f1b6da"
            ],
            [
             0.4,
             "#fde0ef"
            ],
            [
             0.5,
             "#f7f7f7"
            ],
            [
             0.6,
             "#e6f5d0"
            ],
            [
             0.7,
             "#b8e186"
            ],
            [
             0.8,
             "#7fbc41"
            ],
            [
             0.9,
             "#4d9221"
            ],
            [
             1,
             "#276419"
            ]
           ],
           "sequential": [
            [
             0,
             "#0d0887"
            ],
            [
             0.1111111111111111,
             "#46039f"
            ],
            [
             0.2222222222222222,
             "#7201a8"
            ],
            [
             0.3333333333333333,
             "#9c179e"
            ],
            [
             0.4444444444444444,
             "#bd3786"
            ],
            [
             0.5555555555555556,
             "#d8576b"
            ],
            [
             0.6666666666666666,
             "#ed7953"
            ],
            [
             0.7777777777777778,
             "#fb9f3a"
            ],
            [
             0.8888888888888888,
             "#fdca26"
            ],
            [
             1,
             "#f0f921"
            ]
           ],
           "sequentialminus": [
            [
             0,
             "#0d0887"
            ],
            [
             0.1111111111111111,
             "#46039f"
            ],
            [
             0.2222222222222222,
             "#7201a8"
            ],
            [
             0.3333333333333333,
             "#9c179e"
            ],
            [
             0.4444444444444444,
             "#bd3786"
            ],
            [
             0.5555555555555556,
             "#d8576b"
            ],
            [
             0.6666666666666666,
             "#ed7953"
            ],
            [
             0.7777777777777778,
             "#fb9f3a"
            ],
            [
             0.8888888888888888,
             "#fdca26"
            ],
            [
             1,
             "#f0f921"
            ]
           ]
          },
          "colorway": [
           "#636efa",
           "#EF553B",
           "#00cc96",
           "#ab63fa",
           "#FFA15A",
           "#19d3f3",
           "#FF6692",
           "#B6E880",
           "#FF97FF",
           "#FECB52"
          ],
          "font": {
           "color": "#2a3f5f"
          },
          "geo": {
           "bgcolor": "white",
           "lakecolor": "white",
           "landcolor": "#E5ECF6",
           "showlakes": true,
           "showland": true,
           "subunitcolor": "white"
          },
          "hoverlabel": {
           "align": "left"
          },
          "hovermode": "closest",
          "mapbox": {
           "style": "light"
          },
          "paper_bgcolor": "white",
          "plot_bgcolor": "#E5ECF6",
          "polar": {
           "angularaxis": {
            "gridcolor": "white",
            "linecolor": "white",
            "ticks": ""
           },
           "bgcolor": "#E5ECF6",
           "radialaxis": {
            "gridcolor": "white",
            "linecolor": "white",
            "ticks": ""
           }
          },
          "scene": {
           "xaxis": {
            "backgroundcolor": "#E5ECF6",
            "gridcolor": "white",
            "gridwidth": 2,
            "linecolor": "white",
            "showbackground": true,
            "ticks": "",
            "zerolinecolor": "white"
           },
           "yaxis": {
            "backgroundcolor": "#E5ECF6",
            "gridcolor": "white",
            "gridwidth": 2,
            "linecolor": "white",
            "showbackground": true,
            "ticks": "",
            "zerolinecolor": "white"
           },
           "zaxis": {
            "backgroundcolor": "#E5ECF6",
            "gridcolor": "white",
            "gridwidth": 2,
            "linecolor": "white",
            "showbackground": true,
            "ticks": "",
            "zerolinecolor": "white"
           }
          },
          "shapedefaults": {
           "line": {
            "color": "#2a3f5f"
           }
          },
          "ternary": {
           "aaxis": {
            "gridcolor": "white",
            "linecolor": "white",
            "ticks": ""
           },
           "baxis": {
            "gridcolor": "white",
            "linecolor": "white",
            "ticks": ""
           },
           "bgcolor": "#E5ECF6",
           "caxis": {
            "gridcolor": "white",
            "linecolor": "white",
            "ticks": ""
           }
          },
          "title": {
           "x": 0.05
          },
          "xaxis": {
           "automargin": true,
           "gridcolor": "white",
           "linecolor": "white",
           "ticks": "",
           "title": {
            "standoff": 15
           },
           "zerolinecolor": "white",
           "zerolinewidth": 2
          },
          "yaxis": {
           "automargin": true,
           "gridcolor": "white",
           "linecolor": "white",
           "ticks": "",
           "title": {
            "standoff": 15
           },
           "zerolinecolor": "white",
           "zerolinewidth": 2
          }
         }
        },
        "title": {
         "text": "Haar Transform Index - 1 Level - Disk Access by Radius Rank"
        },
        "width": 1200,
        "xaxis": {
         "categoryarray": [
          "Haar Lvl 1 (128 bins)",
          "Haar Lvl 2 (64 bins)",
          "Haar Lvl 3 (32 bins)",
          "Haar Lvl 4 (16 bins)",
          "Haar Lvl 5 (8 bins)",
          "Haar Lvl 6 (4 bins)",
          "Haar Lvl 7 (2 bins)"
         ],
         "categoryorder": "array",
         "title": {
          "text": "Data Representation"
         }
        },
        "yaxis": {
         "title": {
          "text": "Disk Access"
         }
        }
       }
      }
     },
     "metadata": {},
     "output_type": "display_data"
    },
    {
     "data": {
      "application/vnd.plotly.v1+json": {
       "config": {
        "plotlyServerURL": "https://plot.ly"
       },
       "data": [
        {
         "hovertemplate": "<b>Haar Transform Index - 2 Levels</b><br>Representation: %{x}<br>Disk Access: %{y:.2f}<br>Rank: 1<br>Avg Obj Result (Line Avg): 2057.575<extra></extra>",
         "line": {
          "width": 2
         },
         "marker": {
          "size": 7,
          "symbol": "circle"
         },
         "mode": "lines+markers",
         "name": "Rank 1 (Avg Obj: 2057.575)",
         "type": "scatter",
         "x": [
          "Haar Lvl 2 (64 bins)",
          "Haar Lvl 3 (32 bins)",
          "Haar Lvl 4 (16 bins)",
          "Haar Lvl 5 (8 bins)",
          "Haar Lvl 6 (4 bins)",
          "Haar Lvl 7 (2 bins)"
         ],
         "y": [
          330.332,
          330.116,
          329.576,
          328.724,
          325.89,
          321.01
         ]
        },
        {
         "hovertemplate": "<b>Haar Transform Index - 2 Levels</b><br>Representation: %{x}<br>Disk Access: %{y:.2f}<br>Rank: 2<br>Avg Obj Result (Line Avg): 2049.542<extra></extra>",
         "line": {
          "width": 2
         },
         "marker": {
          "size": 7,
          "symbol": "square"
         },
         "mode": "lines+markers",
         "name": "Rank 2 (Avg Obj: 2049.542)",
         "type": "scatter",
         "x": [
          "Haar Lvl 2 (64 bins)",
          "Haar Lvl 3 (32 bins)",
          "Haar Lvl 4 (16 bins)",
          "Haar Lvl 5 (8 bins)",
          "Haar Lvl 6 (4 bins)",
          "Haar Lvl 7 (2 bins)"
         ],
         "y": [
          330.332,
          330.112,
          329.562,
          328.58,
          325.782,
          320.924
         ]
        },
        {
         "hovertemplate": "<b>Haar Transform Index - 2 Levels</b><br>Representation: %{x}<br>Disk Access: %{y:.2f}<br>Rank: 3<br>Avg Obj Result (Line Avg): 1386.898<extra></extra>",
         "line": {
          "width": 2
         },
         "marker": {
          "size": 7,
          "symbol": "diamond"
         },
         "mode": "lines+markers",
         "name": "Rank 3 (Avg Obj: 1386.898)",
         "type": "scatter",
         "x": [
          "Haar Lvl 2 (64 bins)",
          "Haar Lvl 3 (32 bins)",
          "Haar Lvl 4 (16 bins)",
          "Haar Lvl 5 (8 bins)",
          "Haar Lvl 6 (4 bins)",
          "Haar Lvl 7 (2 bins)"
         ],
         "y": [
          322.832,
          322.592,
          322.238,
          321.976,
          320.436,
          318.556
         ]
        },
        {
         "hovertemplate": "<b>Haar Transform Index - 2 Levels</b><br>Representation: %{x}<br>Disk Access: %{y:.2f}<br>Rank: 4<br>Avg Obj Result (Line Avg): 828.804<extra></extra>",
         "line": {
          "width": 2
         },
         "marker": {
          "size": 7,
          "symbol": "cross"
         },
         "mode": "lines+markers",
         "name": "Rank 4 (Avg Obj: 828.804)",
         "type": "scatter",
         "x": [
          "Haar Lvl 2 (64 bins)",
          "Haar Lvl 3 (32 bins)",
          "Haar Lvl 4 (16 bins)",
          "Haar Lvl 5 (8 bins)",
          "Haar Lvl 6 (4 bins)",
          "Haar Lvl 7 (2 bins)"
         ],
         "y": [
          313.806,
          313.8,
          313.79,
          314.24,
          314.45,
          316.318
         ]
        },
        {
         "hovertemplate": "<b>Haar Transform Index - 2 Levels</b><br>Representation: %{x}<br>Disk Access: %{y:.2f}<br>Rank: 5<br>Avg Obj Result (Line Avg): 487.020<extra></extra>",
         "line": {
          "width": 2
         },
         "marker": {
          "size": 7,
          "symbol": "x"
         },
         "mode": "lines+markers",
         "name": "Rank 5 (Avg Obj: 487.020)",
         "type": "scatter",
         "x": [
          "Haar Lvl 2 (64 bins)",
          "Haar Lvl 3 (32 bins)",
          "Haar Lvl 4 (16 bins)",
          "Haar Lvl 5 (8 bins)",
          "Haar Lvl 6 (4 bins)",
          "Haar Lvl 7 (2 bins)"
         ],
         "y": [
          303.036,
          303.13,
          303.692,
          305.062,
          307.69,
          313.786
         ]
        },
        {
         "hovertemplate": "<b>Haar Transform Index - 2 Levels</b><br>Representation: %{x}<br>Disk Access: %{y:.2f}<br>Rank: 6<br>Avg Obj Result (Line Avg): 262.206<extra></extra>",
         "line": {
          "width": 2
         },
         "marker": {
          "size": 7,
          "symbol": "triangle-up"
         },
         "mode": "lines+markers",
         "name": "Rank 6 (Avg Obj: 262.206)",
         "type": "scatter",
         "x": [
          "Haar Lvl 2 (64 bins)",
          "Haar Lvl 3 (32 bins)",
          "Haar Lvl 4 (16 bins)",
          "Haar Lvl 5 (8 bins)",
          "Haar Lvl 6 (4 bins)",
          "Haar Lvl 7 (2 bins)"
         ],
         "y": [
          290.536,
          290.916,
          291.856,
          294.584,
          300.284,
          310.884
         ]
        },
        {
         "hovertemplate": "<b>Haar Transform Index - 2 Levels</b><br>Representation: %{x}<br>Disk Access: %{y:.2f}<br>Rank: 7<br>Avg Obj Result (Line Avg): 125.701<extra></extra>",
         "line": {
          "width": 2
         },
         "marker": {
          "size": 7,
          "symbol": "pentagon"
         },
         "mode": "lines+markers",
         "name": "Rank 7 (Avg Obj: 125.701)",
         "type": "scatter",
         "x": [
          "Haar Lvl 2 (64 bins)",
          "Haar Lvl 3 (32 bins)",
          "Haar Lvl 4 (16 bins)",
          "Haar Lvl 5 (8 bins)",
          "Haar Lvl 6 (4 bins)",
          "Haar Lvl 7 (2 bins)"
         ],
         "y": [
          276.026,
          276.574,
          278.224,
          283.07,
          291.974,
          308.3
         ]
        },
        {
         "hovertemplate": "<b>Haar Transform Index - 2 Levels</b><br>Representation: %{x}<br>Disk Access: %{y:.2f}<br>Rank: 8<br>Avg Obj Result (Line Avg): 49.684<extra></extra>",
         "line": {
          "width": 2
         },
         "marker": {
          "size": 7,
          "symbol": "hexagon"
         },
         "mode": "lines+markers",
         "name": "Rank 8 (Avg Obj: 49.684)",
         "type": "scatter",
         "x": [
          "Haar Lvl 2 (64 bins)",
          "Haar Lvl 3 (32 bins)",
          "Haar Lvl 4 (16 bins)",
          "Haar Lvl 5 (8 bins)",
          "Haar Lvl 6 (4 bins)",
          "Haar Lvl 7 (2 bins)"
         ],
         "y": [
          259.662,
          260.616,
          263.178,
          269.784,
          282.896,
          305.336
         ]
        },
        {
         "hovertemplate": "<b>Haar Transform Index - 2 Levels</b><br>Representation: %{x}<br>Disk Access: %{y:.2f}<br>Rank: 9<br>Avg Obj Result (Line Avg): 16.676<extra></extra>",
         "line": {
          "width": 2
         },
         "marker": {
          "size": 7,
          "symbol": "star"
         },
         "mode": "lines+markers",
         "name": "Rank 9 (Avg Obj: 16.676)",
         "type": "scatter",
         "x": [
          "Haar Lvl 2 (64 bins)",
          "Haar Lvl 3 (32 bins)",
          "Haar Lvl 4 (16 bins)",
          "Haar Lvl 5 (8 bins)",
          "Haar Lvl 6 (4 bins)",
          "Haar Lvl 7 (2 bins)"
         ],
         "y": [
          241.654,
          242.93,
          246.484,
          255.272,
          272.954,
          302.23
         ]
        },
        {
         "hovertemplate": "<b>Haar Transform Index - 2 Levels</b><br>Representation: %{x}<br>Disk Access: %{y:.2f}<br>Rank: 10<br>Avg Obj Result (Line Avg): 1.010<extra></extra>",
         "line": {
          "width": 2
         },
         "marker": {
          "size": 7,
          "symbol": "triangle-down"
         },
         "mode": "lines+markers",
         "name": "Rank 10 (Avg Obj: 1.010)",
         "type": "scatter",
         "x": [
          "Haar Lvl 2 (64 bins)",
          "Haar Lvl 3 (32 bins)",
          "Haar Lvl 4 (16 bins)",
          "Haar Lvl 5 (8 bins)",
          "Haar Lvl 6 (4 bins)",
          "Haar Lvl 7 (2 bins)"
         ],
         "y": [
          221.358,
          223.204,
          227.656,
          238.99,
          261.472,
          298.698
         ]
        }
       ],
       "layout": {
        "annotations": [
         {
          "showarrow": false,
          "text": "Sequential Scan Ref.",
          "x": 1,
          "xanchor": "right",
          "xref": "x domain",
          "y": 332,
          "yanchor": "top",
          "yref": "y"
         }
        ],
        "height": 600,
        "hovermode": "x unified",
        "legend": {
         "title": {
          "text": "Rank (Highest Radius = Rank 1)"
         }
        },
        "shapes": [
         {
          "line": {
           "dash": "dot"
          },
          "type": "line",
          "x0": 0,
          "x1": 1,
          "xref": "x domain",
          "y0": 332,
          "y1": 332,
          "yref": "y"
         }
        ],
        "template": {
         "data": {
          "bar": [
           {
            "error_x": {
             "color": "#2a3f5f"
            },
            "error_y": {
             "color": "#2a3f5f"
            },
            "marker": {
             "line": {
              "color": "#E5ECF6",
              "width": 0.5
             },
             "pattern": {
              "fillmode": "overlay",
              "size": 10,
              "solidity": 0.2
             }
            },
            "type": "bar"
           }
          ],
          "barpolar": [
           {
            "marker": {
             "line": {
              "color": "#E5ECF6",
              "width": 0.5
             },
             "pattern": {
              "fillmode": "overlay",
              "size": 10,
              "solidity": 0.2
             }
            },
            "type": "barpolar"
           }
          ],
          "carpet": [
           {
            "aaxis": {
             "endlinecolor": "#2a3f5f",
             "gridcolor": "white",
             "linecolor": "white",
             "minorgridcolor": "white",
             "startlinecolor": "#2a3f5f"
            },
            "baxis": {
             "endlinecolor": "#2a3f5f",
             "gridcolor": "white",
             "linecolor": "white",
             "minorgridcolor": "white",
             "startlinecolor": "#2a3f5f"
            },
            "type": "carpet"
           }
          ],
          "choropleth": [
           {
            "colorbar": {
             "outlinewidth": 0,
             "ticks": ""
            },
            "type": "choropleth"
           }
          ],
          "contour": [
           {
            "colorbar": {
             "outlinewidth": 0,
             "ticks": ""
            },
            "colorscale": [
             [
              0,
              "#0d0887"
             ],
             [
              0.1111111111111111,
              "#46039f"
             ],
             [
              0.2222222222222222,
              "#7201a8"
             ],
             [
              0.3333333333333333,
              "#9c179e"
             ],
             [
              0.4444444444444444,
              "#bd3786"
             ],
             [
              0.5555555555555556,
              "#d8576b"
             ],
             [
              0.6666666666666666,
              "#ed7953"
             ],
             [
              0.7777777777777778,
              "#fb9f3a"
             ],
             [
              0.8888888888888888,
              "#fdca26"
             ],
             [
              1,
              "#f0f921"
             ]
            ],
            "type": "contour"
           }
          ],
          "contourcarpet": [
           {
            "colorbar": {
             "outlinewidth": 0,
             "ticks": ""
            },
            "type": "contourcarpet"
           }
          ],
          "heatmap": [
           {
            "colorbar": {
             "outlinewidth": 0,
             "ticks": ""
            },
            "colorscale": [
             [
              0,
              "#0d0887"
             ],
             [
              0.1111111111111111,
              "#46039f"
             ],
             [
              0.2222222222222222,
              "#7201a8"
             ],
             [
              0.3333333333333333,
              "#9c179e"
             ],
             [
              0.4444444444444444,
              "#bd3786"
             ],
             [
              0.5555555555555556,
              "#d8576b"
             ],
             [
              0.6666666666666666,
              "#ed7953"
             ],
             [
              0.7777777777777778,
              "#fb9f3a"
             ],
             [
              0.8888888888888888,
              "#fdca26"
             ],
             [
              1,
              "#f0f921"
             ]
            ],
            "type": "heatmap"
           }
          ],
          "histogram": [
           {
            "marker": {
             "pattern": {
              "fillmode": "overlay",
              "size": 10,
              "solidity": 0.2
             }
            },
            "type": "histogram"
           }
          ],
          "histogram2d": [
           {
            "colorbar": {
             "outlinewidth": 0,
             "ticks": ""
            },
            "colorscale": [
             [
              0,
              "#0d0887"
             ],
             [
              0.1111111111111111,
              "#46039f"
             ],
             [
              0.2222222222222222,
              "#7201a8"
             ],
             [
              0.3333333333333333,
              "#9c179e"
             ],
             [
              0.4444444444444444,
              "#bd3786"
             ],
             [
              0.5555555555555556,
              "#d8576b"
             ],
             [
              0.6666666666666666,
              "#ed7953"
             ],
             [
              0.7777777777777778,
              "#fb9f3a"
             ],
             [
              0.8888888888888888,
              "#fdca26"
             ],
             [
              1,
              "#f0f921"
             ]
            ],
            "type": "histogram2d"
           }
          ],
          "histogram2dcontour": [
           {
            "colorbar": {
             "outlinewidth": 0,
             "ticks": ""
            },
            "colorscale": [
             [
              0,
              "#0d0887"
             ],
             [
              0.1111111111111111,
              "#46039f"
             ],
             [
              0.2222222222222222,
              "#7201a8"
             ],
             [
              0.3333333333333333,
              "#9c179e"
             ],
             [
              0.4444444444444444,
              "#bd3786"
             ],
             [
              0.5555555555555556,
              "#d8576b"
             ],
             [
              0.6666666666666666,
              "#ed7953"
             ],
             [
              0.7777777777777778,
              "#fb9f3a"
             ],
             [
              0.8888888888888888,
              "#fdca26"
             ],
             [
              1,
              "#f0f921"
             ]
            ],
            "type": "histogram2dcontour"
           }
          ],
          "mesh3d": [
           {
            "colorbar": {
             "outlinewidth": 0,
             "ticks": ""
            },
            "type": "mesh3d"
           }
          ],
          "parcoords": [
           {
            "line": {
             "colorbar": {
              "outlinewidth": 0,
              "ticks": ""
             }
            },
            "type": "parcoords"
           }
          ],
          "pie": [
           {
            "automargin": true,
            "type": "pie"
           }
          ],
          "scatter": [
           {
            "fillpattern": {
             "fillmode": "overlay",
             "size": 10,
             "solidity": 0.2
            },
            "type": "scatter"
           }
          ],
          "scatter3d": [
           {
            "line": {
             "colorbar": {
              "outlinewidth": 0,
              "ticks": ""
             }
            },
            "marker": {
             "colorbar": {
              "outlinewidth": 0,
              "ticks": ""
             }
            },
            "type": "scatter3d"
           }
          ],
          "scattercarpet": [
           {
            "marker": {
             "colorbar": {
              "outlinewidth": 0,
              "ticks": ""
             }
            },
            "type": "scattercarpet"
           }
          ],
          "scattergeo": [
           {
            "marker": {
             "colorbar": {
              "outlinewidth": 0,
              "ticks": ""
             }
            },
            "type": "scattergeo"
           }
          ],
          "scattergl": [
           {
            "marker": {
             "colorbar": {
              "outlinewidth": 0,
              "ticks": ""
             }
            },
            "type": "scattergl"
           }
          ],
          "scattermap": [
           {
            "marker": {
             "colorbar": {
              "outlinewidth": 0,
              "ticks": ""
             }
            },
            "type": "scattermap"
           }
          ],
          "scattermapbox": [
           {
            "marker": {
             "colorbar": {
              "outlinewidth": 0,
              "ticks": ""
             }
            },
            "type": "scattermapbox"
           }
          ],
          "scatterpolar": [
           {
            "marker": {
             "colorbar": {
              "outlinewidth": 0,
              "ticks": ""
             }
            },
            "type": "scatterpolar"
           }
          ],
          "scatterpolargl": [
           {
            "marker": {
             "colorbar": {
              "outlinewidth": 0,
              "ticks": ""
             }
            },
            "type": "scatterpolargl"
           }
          ],
          "scatterternary": [
           {
            "marker": {
             "colorbar": {
              "outlinewidth": 0,
              "ticks": ""
             }
            },
            "type": "scatterternary"
           }
          ],
          "surface": [
           {
            "colorbar": {
             "outlinewidth": 0,
             "ticks": ""
            },
            "colorscale": [
             [
              0,
              "#0d0887"
             ],
             [
              0.1111111111111111,
              "#46039f"
             ],
             [
              0.2222222222222222,
              "#7201a8"
             ],
             [
              0.3333333333333333,
              "#9c179e"
             ],
             [
              0.4444444444444444,
              "#bd3786"
             ],
             [
              0.5555555555555556,
              "#d8576b"
             ],
             [
              0.6666666666666666,
              "#ed7953"
             ],
             [
              0.7777777777777778,
              "#fb9f3a"
             ],
             [
              0.8888888888888888,
              "#fdca26"
             ],
             [
              1,
              "#f0f921"
             ]
            ],
            "type": "surface"
           }
          ],
          "table": [
           {
            "cells": {
             "fill": {
              "color": "#EBF0F8"
             },
             "line": {
              "color": "white"
             }
            },
            "header": {
             "fill": {
              "color": "#C8D4E3"
             },
             "line": {
              "color": "white"
             }
            },
            "type": "table"
           }
          ]
         },
         "layout": {
          "annotationdefaults": {
           "arrowcolor": "#2a3f5f",
           "arrowhead": 0,
           "arrowwidth": 1
          },
          "autotypenumbers": "strict",
          "coloraxis": {
           "colorbar": {
            "outlinewidth": 0,
            "ticks": ""
           }
          },
          "colorscale": {
           "diverging": [
            [
             0,
             "#8e0152"
            ],
            [
             0.1,
             "#c51b7d"
            ],
            [
             0.2,
             "#de77ae"
            ],
            [
             0.3,
             "#f1b6da"
            ],
            [
             0.4,
             "#fde0ef"
            ],
            [
             0.5,
             "#f7f7f7"
            ],
            [
             0.6,
             "#e6f5d0"
            ],
            [
             0.7,
             "#b8e186"
            ],
            [
             0.8,
             "#7fbc41"
            ],
            [
             0.9,
             "#4d9221"
            ],
            [
             1,
             "#276419"
            ]
           ],
           "sequential": [
            [
             0,
             "#0d0887"
            ],
            [
             0.1111111111111111,
             "#46039f"
            ],
            [
             0.2222222222222222,
             "#7201a8"
            ],
            [
             0.3333333333333333,
             "#9c179e"
            ],
            [
             0.4444444444444444,
             "#bd3786"
            ],
            [
             0.5555555555555556,
             "#d8576b"
            ],
            [
             0.6666666666666666,
             "#ed7953"
            ],
            [
             0.7777777777777778,
             "#fb9f3a"
            ],
            [
             0.8888888888888888,
             "#fdca26"
            ],
            [
             1,
             "#f0f921"
            ]
           ],
           "sequentialminus": [
            [
             0,
             "#0d0887"
            ],
            [
             0.1111111111111111,
             "#46039f"
            ],
            [
             0.2222222222222222,
             "#7201a8"
            ],
            [
             0.3333333333333333,
             "#9c179e"
            ],
            [
             0.4444444444444444,
             "#bd3786"
            ],
            [
             0.5555555555555556,
             "#d8576b"
            ],
            [
             0.6666666666666666,
             "#ed7953"
            ],
            [
             0.7777777777777778,
             "#fb9f3a"
            ],
            [
             0.8888888888888888,
             "#fdca26"
            ],
            [
             1,
             "#f0f921"
            ]
           ]
          },
          "colorway": [
           "#636efa",
           "#EF553B",
           "#00cc96",
           "#ab63fa",
           "#FFA15A",
           "#19d3f3",
           "#FF6692",
           "#B6E880",
           "#FF97FF",
           "#FECB52"
          ],
          "font": {
           "color": "#2a3f5f"
          },
          "geo": {
           "bgcolor": "white",
           "lakecolor": "white",
           "landcolor": "#E5ECF6",
           "showlakes": true,
           "showland": true,
           "subunitcolor": "white"
          },
          "hoverlabel": {
           "align": "left"
          },
          "hovermode": "closest",
          "mapbox": {
           "style": "light"
          },
          "paper_bgcolor": "white",
          "plot_bgcolor": "#E5ECF6",
          "polar": {
           "angularaxis": {
            "gridcolor": "white",
            "linecolor": "white",
            "ticks": ""
           },
           "bgcolor": "#E5ECF6",
           "radialaxis": {
            "gridcolor": "white",
            "linecolor": "white",
            "ticks": ""
           }
          },
          "scene": {
           "xaxis": {
            "backgroundcolor": "#E5ECF6",
            "gridcolor": "white",
            "gridwidth": 2,
            "linecolor": "white",
            "showbackground": true,
            "ticks": "",
            "zerolinecolor": "white"
           },
           "yaxis": {
            "backgroundcolor": "#E5ECF6",
            "gridcolor": "white",
            "gridwidth": 2,
            "linecolor": "white",
            "showbackground": true,
            "ticks": "",
            "zerolinecolor": "white"
           },
           "zaxis": {
            "backgroundcolor": "#E5ECF6",
            "gridcolor": "white",
            "gridwidth": 2,
            "linecolor": "white",
            "showbackground": true,
            "ticks": "",
            "zerolinecolor": "white"
           }
          },
          "shapedefaults": {
           "line": {
            "color": "#2a3f5f"
           }
          },
          "ternary": {
           "aaxis": {
            "gridcolor": "white",
            "linecolor": "white",
            "ticks": ""
           },
           "baxis": {
            "gridcolor": "white",
            "linecolor": "white",
            "ticks": ""
           },
           "bgcolor": "#E5ECF6",
           "caxis": {
            "gridcolor": "white",
            "linecolor": "white",
            "ticks": ""
           }
          },
          "title": {
           "x": 0.05
          },
          "xaxis": {
           "automargin": true,
           "gridcolor": "white",
           "linecolor": "white",
           "ticks": "",
           "title": {
            "standoff": 15
           },
           "zerolinecolor": "white",
           "zerolinewidth": 2
          },
          "yaxis": {
           "automargin": true,
           "gridcolor": "white",
           "linecolor": "white",
           "ticks": "",
           "title": {
            "standoff": 15
           },
           "zerolinecolor": "white",
           "zerolinewidth": 2
          }
         }
        },
        "title": {
         "text": "Haar Transform Index - 2 Levels - Disk Access by Radius Rank"
        },
        "width": 1200,
        "xaxis": {
         "categoryarray": [
          "Haar Lvl 2 (64 bins)",
          "Haar Lvl 3 (32 bins)",
          "Haar Lvl 4 (16 bins)",
          "Haar Lvl 5 (8 bins)",
          "Haar Lvl 6 (4 bins)",
          "Haar Lvl 7 (2 bins)"
         ],
         "categoryorder": "array",
         "title": {
          "text": "Data Representation"
         }
        },
        "yaxis": {
         "title": {
          "text": "Disk Access"
         }
        }
       }
      }
     },
     "metadata": {},
     "output_type": "display_data"
    },
    {
     "name": "stdout",
     "output_type": "stream",
     "text": [
      "\n",
      "Disk Access plots by rank generated for selected trees.\n"
     ]
    }
   ],
   "source": [
    "# --- Mappings ---\n",
    "tree_title_map = {\n",
    "    \"tree-0\": \"Haar Transform Index - 0 Levels\",\n",
    "    \"tree-1\": \"Haar Transform Index - 1 Level\",\n",
    "    \"tree-2\": \"Haar Transform Index - 2 Levels\",\n",
    "}\n",
    "\n",
    "data_label_map = {\n",
    "    \"data-0\": \"Haar Lvl 0 (256 bins)\",\n",
    "    \"data-1\": \"Haar Lvl 1 (128 bins)\",\n",
    "    \"data-2\": \"Haar Lvl 2 (64 bins)\",\n",
    "    \"data-3\": \"Haar Lvl 3 (32 bins)\",\n",
    "    \"data-4\": \"Haar Lvl 4 (16 bins)\",\n",
    "    \"data-5\": \"Haar Lvl 5 (8 bins)\",\n",
    "    \"data-6\": \"Haar Lvl 6 (4 bins)\",\n",
    "    \"data-7\": \"Haar Lvl 7 (2 bins)\",\n",
    "}\n",
    "\n",
    "# --- Constants ---\n",
    "SEQUENTIAL_ACCESS_VALUE = 332\n",
    "TARGET_TREES = [\"tree-0\", \"tree-1\", \"tree-2\"]\n",
    "# Define marker symbols for different rank lines\n",
    "marker_symbols = ['circle', 'square', 'diamond', 'cross', 'x', 'triangle-up',\n",
    "                  'pentagon', 'hexagon', 'star', 'triangle-down'] # Add more if needed\n",
    "\n",
    "# --- Plotting Logic ---\n",
    "for tree_name, tree_data in all_data.items():\n",
    "    # Filter for target trees\n",
    "    if tree_name not in TARGET_TREES:\n",
    "        continue\n",
    "\n",
    "    if not isinstance(tree_data, dict):\n",
    "        print(f\"Skipping {tree_name}: Data is not in the expected dictionary format.\")\n",
    "        continue\n",
    "\n",
    "    fig = go.Figure()\n",
    "    original_data_labels = sorted([k for k in tree_data.keys() if k.startswith('data-')])\n",
    "    if not original_data_labels:\n",
    "        print(f\"Skipping {tree_name}: No 'data-X' keys found.\")\n",
    "        continue\n",
    "    x_axis_labels = [data_label_map.get(lbl, lbl) for lbl in original_data_labels]\n",
    "\n",
    "    processed_data = {}\n",
    "    max_rank = 0\n",
    "\n",
    "    # --- Step 1: Extract and Rank Data ---\n",
    "    for data_label in original_data_labels:\n",
    "        data_set = tree_data.get(data_label, {})\n",
    "        if not isinstance(data_set, dict):\n",
    "            print(f\"Warning: Skipping {data_label} in {tree_name}: Data is not a dictionary.\")\n",
    "            processed_data[data_label] = []\n",
    "            continue\n",
    "\n",
    "        sorted_radii = sorted(\n",
    "            [item for item in data_set.items() if isinstance(item[1], dict) and 'radius' in item[1]],\n",
    "            key=lambda item: item[1].get('radius', -1),\n",
    "            reverse=True\n",
    "        )\n",
    "        processed_data[data_label] = sorted_radii\n",
    "        max_rank = max(max_rank, len(sorted_radii))\n",
    "\n",
    "    if max_rank == 0:\n",
    "        print(f\"Skipping {tree_name}: No valid radius data found across all data keys.\")\n",
    "        continue\n",
    "\n",
    "    # --- Step 2: Structure Data by Rank Across Datasets ---\n",
    "    for rank in range(max_rank):\n",
    "        rank_disk_access = []\n",
    "        rank_avg_obj = []\n",
    "        for data_label in original_data_labels:\n",
    "            sorted_radii = processed_data.get(data_label, [])\n",
    "            if rank < len(sorted_radii):\n",
    "                radius_key, radius_data = sorted_radii[rank]\n",
    "                if isinstance(radius_data, dict):\n",
    "                    rank_disk_access.append(radius_data.get('disk_access'))\n",
    "                    rank_avg_obj.append(radius_data.get('avg_obj_result'))\n",
    "                else:\n",
    "                    rank_disk_access.append(None)\n",
    "                    rank_avg_obj.append(None)\n",
    "            else:\n",
    "                rank_disk_access.append(None)\n",
    "                rank_avg_obj.append(None)\n",
    "\n",
    "        # Only add trace if there is at least one non-None value for this rank\n",
    "        if not all(v is None for v in rank_disk_access):\n",
    "            valid_avg_objs = [obj for obj in rank_avg_obj if obj is not None]\n",
    "            avg_legend = np.nanmean(valid_avg_objs) if valid_avg_objs else float('nan')\n",
    "            legend_name = f\"Rank {rank + 1} (Avg Obj: {avg_legend:.3f})\"\n",
    "            # Select marker symbol for this rank\n",
    "            marker_symbol = marker_symbols[rank % len(marker_symbols)]\n",
    "\n",
    "            fig.add_trace(go.Scatter(\n",
    "                x=x_axis_labels,\n",
    "                y=rank_disk_access,\n",
    "                mode='lines+markers',\n",
    "                name=legend_name,\n",
    "                marker=dict(symbol=marker_symbol, size=7), # <<< ADDED/MODIFIED MARKER\n",
    "                line=dict(width=2), # Control line width if desired\n",
    "                hovertemplate = (\n",
    "                    f\"<b>{tree_title_map.get(tree_name, tree_name)}</b><br>\" +\n",
    "                    'Representation: %{x}<br>' +\n",
    "                    'Disk Access: %{y:.2f}<br>' + # Format y value\n",
    "                    f'Rank: {rank + 1}<br>' +\n",
    "                    f'Avg Obj Result (Line Avg): {avg_legend:.3f}' +\n",
    "                    '<extra></extra>'\n",
    "                )\n",
    "            ))\n",
    "\n",
    "    # --- Step 3: Add Reference Line and Finalize Layout ---\n",
    "    fig.add_hline(\n",
    "        y=SEQUENTIAL_ACCESS_VALUE,\n",
    "        line_dash=\"dot\",\n",
    "        annotation_text=\"Sequential Scan Ref.\",\n",
    "        annotation_position=\"bottom right\"\n",
    "    )\n",
    "\n",
    "    fig.update_layout(\n",
    "        title=f\"{tree_title_map.get(tree_name, tree_name)} - Disk Access by Radius Rank\", # Updated title\n",
    "        xaxis_title=\"Data Representation\",\n",
    "        yaxis_title=\"Disk Access\",\n",
    "        legend_title=\"Rank (Highest Radius = Rank 1)\",\n",
    "        hovermode=\"x unified\",\n",
    "        xaxis={'categoryorder':'array', 'categoryarray':x_axis_labels},\n",
    "        width=1200,  # Largura\n",
    "        height=600\n",
    "    )\n",
    "\n",
    "    # --- Step 4: Show Plot ---\n",
    "    fig.show()\n",
    "\n",
    "print(\"\\nDisk Access plots by rank generated for selected trees.\")\n"
   ]
  },
  {
   "cell_type": "code",
   "execution_count": 35,
   "id": "d8a719cb",
   "metadata": {},
   "outputs": [
    {
     "data": {
      "application/vnd.plotly.v1+json": {
       "config": {
        "plotlyServerURL": "https://plot.ly"
       },
       "data": [
        {
         "hovertemplate": "<b>Haar Transform Index - 0 Levels</b><br>Representation: %{x}<br>Avg Dist Calc: %{y:.2f}<br>Rank: 1<br>Avg Obj Result (Line Avg): 2057.704<extra></extra>",
         "line": {
          "width": 2
         },
         "marker": {
          "size": 7,
          "symbol": "circle"
         },
         "mode": "lines+markers",
         "name": "Rank 1 (Avg Obj: 2057.704)",
         "type": "scatter",
         "x": [
          "Haar Lvl 0 (256 bins)",
          "Haar Lvl 1 (128 bins)",
          "Haar Lvl 2 (64 bins)",
          "Haar Lvl 3 (32 bins)",
          "Haar Lvl 4 (16 bins)",
          "Haar Lvl 5 (8 bins)",
          "Haar Lvl 6 (4 bins)",
          "Haar Lvl 7 (2 bins)"
         ],
         "y": [
          16209.6,
          16842,
          16830.3,
          16804.2,
          16736.1,
          16599.9,
          16183,
          15558.8
         ]
        },
        {
         "hovertemplate": "<b>Haar Transform Index - 0 Levels</b><br>Representation: %{x}<br>Avg Dist Calc: %{y:.2f}<br>Rank: 2<br>Avg Obj Result (Line Avg): 2051.499<extra></extra>",
         "line": {
          "width": 2
         },
         "marker": {
          "size": 7,
          "symbol": "square"
         },
         "mode": "lines+markers",
         "name": "Rank 2 (Avg Obj: 2051.499)",
         "type": "scatter",
         "x": [
          "Haar Lvl 0 (256 bins)",
          "Haar Lvl 1 (128 bins)",
          "Haar Lvl 2 (64 bins)",
          "Haar Lvl 3 (32 bins)",
          "Haar Lvl 4 (16 bins)",
          "Haar Lvl 5 (8 bins)",
          "Haar Lvl 6 (4 bins)",
          "Haar Lvl 7 (2 bins)"
         ],
         "y": [
          16209.4,
          16841,
          16830,
          16803.1,
          16734.9,
          16584.4,
          16167.5,
          15548.7
         ]
        },
        {
         "hovertemplate": "<b>Haar Transform Index - 0 Levels</b><br>Representation: %{x}<br>Avg Dist Calc: %{y:.2f}<br>Rank: 3<br>Avg Obj Result (Line Avg): 1356.465<extra></extra>",
         "line": {
          "width": 2
         },
         "marker": {
          "size": 7,
          "symbol": "diamond"
         },
         "mode": "lines+markers",
         "name": "Rank 3 (Avg Obj: 1356.465)",
         "type": "scatter",
         "x": [
          "Haar Lvl 0 (256 bins)",
          "Haar Lvl 1 (128 bins)",
          "Haar Lvl 2 (64 bins)",
          "Haar Lvl 3 (32 bins)",
          "Haar Lvl 4 (16 bins)",
          "Haar Lvl 5 (8 bins)",
          "Haar Lvl 6 (4 bins)",
          "Haar Lvl 7 (2 bins)"
         ],
         "y": [
          15079.4,
          15934.8,
          15927.5,
          15910.2,
          15866.3,
          15780.6,
          15520.2,
          15275.5
         ]
        },
        {
         "hovertemplate": "<b>Haar Transform Index - 0 Levels</b><br>Representation: %{x}<br>Avg Dist Calc: %{y:.2f}<br>Rank: 4<br>Avg Obj Result (Line Avg): 801.300<extra></extra>",
         "line": {
          "width": 2
         },
         "marker": {
          "size": 7,
          "symbol": "cross"
         },
         "mode": "lines+markers",
         "name": "Rank 4 (Avg Obj: 801.300)",
         "type": "scatter",
         "x": [
          "Haar Lvl 0 (256 bins)",
          "Haar Lvl 1 (128 bins)",
          "Haar Lvl 2 (64 bins)",
          "Haar Lvl 3 (32 bins)",
          "Haar Lvl 4 (16 bins)",
          "Haar Lvl 5 (8 bins)",
          "Haar Lvl 6 (4 bins)",
          "Haar Lvl 7 (2 bins)"
         ],
         "y": [
          13715.5,
          14876.6,
          14875.5,
          14872.7,
          14865.1,
          14876.7,
          14828.1,
          14969.5
         ]
        },
        {
         "hovertemplate": "<b>Haar Transform Index - 0 Levels</b><br>Representation: %{x}<br>Avg Dist Calc: %{y:.2f}<br>Rank: 5<br>Avg Obj Result (Line Avg): 457.494<extra></extra>",
         "line": {
          "width": 2
         },
         "marker": {
          "size": 7,
          "symbol": "x"
         },
         "mode": "lines+markers",
         "name": "Rank 5 (Avg Obj: 457.494)",
         "type": "scatter",
         "x": [
          "Haar Lvl 0 (256 bins)",
          "Haar Lvl 1 (128 bins)",
          "Haar Lvl 2 (64 bins)",
          "Haar Lvl 3 (32 bins)",
          "Haar Lvl 4 (16 bins)",
          "Haar Lvl 5 (8 bins)",
          "Haar Lvl 6 (4 bins)",
          "Haar Lvl 7 (2 bins)"
         ],
         "y": [
          12101.3,
          13677.1,
          13684.2,
          13701.8,
          13742.4,
          13874.2,
          14086.8,
          14668.5
         ]
        },
        {
         "hovertemplate": "<b>Haar Transform Index - 0 Levels</b><br>Representation: %{x}<br>Avg Dist Calc: %{y:.2f}<br>Rank: 6<br>Avg Obj Result (Line Avg): 238.165<extra></extra>",
         "line": {
          "width": 2
         },
         "marker": {
          "size": 7,
          "symbol": "triangle-up"
         },
         "mode": "lines+markers",
         "name": "Rank 6 (Avg Obj: 238.165)",
         "type": "scatter",
         "x": [
          "Haar Lvl 0 (256 bins)",
          "Haar Lvl 1 (128 bins)",
          "Haar Lvl 2 (64 bins)",
          "Haar Lvl 3 (32 bins)",
          "Haar Lvl 4 (16 bins)",
          "Haar Lvl 5 (8 bins)",
          "Haar Lvl 6 (4 bins)",
          "Haar Lvl 7 (2 bins)"
         ],
         "y": [
          10248.8,
          12371.3,
          12387.9,
          12428.9,
          12527.4,
          12798.5,
          13292,
          14353.7
         ]
        },
        {
         "hovertemplate": "<b>Haar Transform Index - 0 Levels</b><br>Representation: %{x}<br>Avg Dist Calc: %{y:.2f}<br>Rank: 7<br>Avg Obj Result (Line Avg): 109.862<extra></extra>",
         "line": {
          "width": 2
         },
         "marker": {
          "size": 7,
          "symbol": "pentagon"
         },
         "mode": "lines+markers",
         "name": "Rank 7 (Avg Obj: 109.862)",
         "type": "scatter",
         "x": [
          "Haar Lvl 0 (256 bins)",
          "Haar Lvl 1 (128 bins)",
          "Haar Lvl 2 (64 bins)",
          "Haar Lvl 3 (32 bins)",
          "Haar Lvl 4 (16 bins)",
          "Haar Lvl 5 (8 bins)",
          "Haar Lvl 6 (4 bins)",
          "Haar Lvl 7 (2 bins)"
         ],
         "y": [
          8140.77,
          10976.3,
          11003,
          11068.8,
          11229.6,
          11648.1,
          12455.4,
          14033.4
         ]
        },
        {
         "hovertemplate": "<b>Haar Transform Index - 0 Levels</b><br>Representation: %{x}<br>Avg Dist Calc: %{y:.2f}<br>Rank: 8<br>Avg Obj Result (Line Avg): 40.719<extra></extra>",
         "line": {
          "width": 2
         },
         "marker": {
          "size": 7,
          "symbol": "hexagon"
         },
         "mode": "lines+markers",
         "name": "Rank 8 (Avg Obj: 40.719)",
         "type": "scatter",
         "x": [
          "Haar Lvl 0 (256 bins)",
          "Haar Lvl 1 (128 bins)",
          "Haar Lvl 2 (64 bins)",
          "Haar Lvl 3 (32 bins)",
          "Haar Lvl 4 (16 bins)",
          "Haar Lvl 5 (8 bins)",
          "Haar Lvl 6 (4 bins)",
          "Haar Lvl 7 (2 bins)"
         ],
         "y": [
          5771.01,
          9519.57,
          9556.22,
          9645.66,
          9865.7,
          10428.1,
          11551,
          13703
         ]
        },
        {
         "hovertemplate": "<b>Haar Transform Index - 0 Levels</b><br>Representation: %{x}<br>Avg Dist Calc: %{y:.2f}<br>Rank: 9<br>Avg Obj Result (Line Avg): 12.822<extra></extra>",
         "line": {
          "width": 2
         },
         "marker": {
          "size": 7,
          "symbol": "star"
         },
         "mode": "lines+markers",
         "name": "Rank 9 (Avg Obj: 12.822)",
         "type": "scatter",
         "x": [
          "Haar Lvl 0 (256 bins)",
          "Haar Lvl 1 (128 bins)",
          "Haar Lvl 2 (64 bins)",
          "Haar Lvl 3 (32 bins)",
          "Haar Lvl 4 (16 bins)",
          "Haar Lvl 5 (8 bins)",
          "Haar Lvl 6 (4 bins)",
          "Haar Lvl 7 (2 bins)"
         ],
         "y": [
          3143.81,
          8032.1,
          8076.77,
          8185.97,
          8462.73,
          9171.15,
          10620.7,
          13374.2
         ]
        },
        {
         "hovertemplate": "<b>Haar Transform Index - 0 Levels</b><br>Representation: %{x}<br>Avg Dist Calc: %{y:.2f}<br>Rank: 10<br>Avg Obj Result (Line Avg): 1.009<extra></extra>",
         "line": {
          "width": 2
         },
         "marker": {
          "size": 7,
          "symbol": "triangle-down"
         },
         "mode": "lines+markers",
         "name": "Rank 10 (Avg Obj: 1.009)",
         "type": "scatter",
         "x": [
          "Haar Lvl 0 (256 bins)",
          "Haar Lvl 1 (128 bins)",
          "Haar Lvl 2 (64 bins)",
          "Haar Lvl 3 (32 bins)",
          "Haar Lvl 4 (16 bins)",
          "Haar Lvl 5 (8 bins)",
          "Haar Lvl 6 (4 bins)",
          "Haar Lvl 7 (2 bins)"
         ],
         "y": [
          358.38,
          6582.32,
          6634.87,
          6761.54,
          7085.28,
          7917.21,
          9679.61,
          13038.3
         ]
        }
       ],
       "layout": {
        "annotations": [
         {
          "showarrow": false,
          "text": "Distance Reference",
          "x": 1,
          "xanchor": "right",
          "xref": "x domain",
          "y": 20580,
          "yanchor": "top",
          "yref": "y"
         }
        ],
        "height": 600,
        "hovermode": "x unified",
        "legend": {
         "title": {
          "text": "Rank (Highest Radius = Rank 1)"
         }
        },
        "shapes": [
         {
          "line": {
           "dash": "dot"
          },
          "type": "line",
          "x0": 0,
          "x1": 1,
          "xref": "x domain",
          "y0": 20580,
          "y1": 20580,
          "yref": "y"
         }
        ],
        "template": {
         "data": {
          "bar": [
           {
            "error_x": {
             "color": "#2a3f5f"
            },
            "error_y": {
             "color": "#2a3f5f"
            },
            "marker": {
             "line": {
              "color": "#E5ECF6",
              "width": 0.5
             },
             "pattern": {
              "fillmode": "overlay",
              "size": 10,
              "solidity": 0.2
             }
            },
            "type": "bar"
           }
          ],
          "barpolar": [
           {
            "marker": {
             "line": {
              "color": "#E5ECF6",
              "width": 0.5
             },
             "pattern": {
              "fillmode": "overlay",
              "size": 10,
              "solidity": 0.2
             }
            },
            "type": "barpolar"
           }
          ],
          "carpet": [
           {
            "aaxis": {
             "endlinecolor": "#2a3f5f",
             "gridcolor": "white",
             "linecolor": "white",
             "minorgridcolor": "white",
             "startlinecolor": "#2a3f5f"
            },
            "baxis": {
             "endlinecolor": "#2a3f5f",
             "gridcolor": "white",
             "linecolor": "white",
             "minorgridcolor": "white",
             "startlinecolor": "#2a3f5f"
            },
            "type": "carpet"
           }
          ],
          "choropleth": [
           {
            "colorbar": {
             "outlinewidth": 0,
             "ticks": ""
            },
            "type": "choropleth"
           }
          ],
          "contour": [
           {
            "colorbar": {
             "outlinewidth": 0,
             "ticks": ""
            },
            "colorscale": [
             [
              0,
              "#0d0887"
             ],
             [
              0.1111111111111111,
              "#46039f"
             ],
             [
              0.2222222222222222,
              "#7201a8"
             ],
             [
              0.3333333333333333,
              "#9c179e"
             ],
             [
              0.4444444444444444,
              "#bd3786"
             ],
             [
              0.5555555555555556,
              "#d8576b"
             ],
             [
              0.6666666666666666,
              "#ed7953"
             ],
             [
              0.7777777777777778,
              "#fb9f3a"
             ],
             [
              0.8888888888888888,
              "#fdca26"
             ],
             [
              1,
              "#f0f921"
             ]
            ],
            "type": "contour"
           }
          ],
          "contourcarpet": [
           {
            "colorbar": {
             "outlinewidth": 0,
             "ticks": ""
            },
            "type": "contourcarpet"
           }
          ],
          "heatmap": [
           {
            "colorbar": {
             "outlinewidth": 0,
             "ticks": ""
            },
            "colorscale": [
             [
              0,
              "#0d0887"
             ],
             [
              0.1111111111111111,
              "#46039f"
             ],
             [
              0.2222222222222222,
              "#7201a8"
             ],
             [
              0.3333333333333333,
              "#9c179e"
             ],
             [
              0.4444444444444444,
              "#bd3786"
             ],
             [
              0.5555555555555556,
              "#d8576b"
             ],
             [
              0.6666666666666666,
              "#ed7953"
             ],
             [
              0.7777777777777778,
              "#fb9f3a"
             ],
             [
              0.8888888888888888,
              "#fdca26"
             ],
             [
              1,
              "#f0f921"
             ]
            ],
            "type": "heatmap"
           }
          ],
          "histogram": [
           {
            "marker": {
             "pattern": {
              "fillmode": "overlay",
              "size": 10,
              "solidity": 0.2
             }
            },
            "type": "histogram"
           }
          ],
          "histogram2d": [
           {
            "colorbar": {
             "outlinewidth": 0,
             "ticks": ""
            },
            "colorscale": [
             [
              0,
              "#0d0887"
             ],
             [
              0.1111111111111111,
              "#46039f"
             ],
             [
              0.2222222222222222,
              "#7201a8"
             ],
             [
              0.3333333333333333,
              "#9c179e"
             ],
             [
              0.4444444444444444,
              "#bd3786"
             ],
             [
              0.5555555555555556,
              "#d8576b"
             ],
             [
              0.6666666666666666,
              "#ed7953"
             ],
             [
              0.7777777777777778,
              "#fb9f3a"
             ],
             [
              0.8888888888888888,
              "#fdca26"
             ],
             [
              1,
              "#f0f921"
             ]
            ],
            "type": "histogram2d"
           }
          ],
          "histogram2dcontour": [
           {
            "colorbar": {
             "outlinewidth": 0,
             "ticks": ""
            },
            "colorscale": [
             [
              0,
              "#0d0887"
             ],
             [
              0.1111111111111111,
              "#46039f"
             ],
             [
              0.2222222222222222,
              "#7201a8"
             ],
             [
              0.3333333333333333,
              "#9c179e"
             ],
             [
              0.4444444444444444,
              "#bd3786"
             ],
             [
              0.5555555555555556,
              "#d8576b"
             ],
             [
              0.6666666666666666,
              "#ed7953"
             ],
             [
              0.7777777777777778,
              "#fb9f3a"
             ],
             [
              0.8888888888888888,
              "#fdca26"
             ],
             [
              1,
              "#f0f921"
             ]
            ],
            "type": "histogram2dcontour"
           }
          ],
          "mesh3d": [
           {
            "colorbar": {
             "outlinewidth": 0,
             "ticks": ""
            },
            "type": "mesh3d"
           }
          ],
          "parcoords": [
           {
            "line": {
             "colorbar": {
              "outlinewidth": 0,
              "ticks": ""
             }
            },
            "type": "parcoords"
           }
          ],
          "pie": [
           {
            "automargin": true,
            "type": "pie"
           }
          ],
          "scatter": [
           {
            "fillpattern": {
             "fillmode": "overlay",
             "size": 10,
             "solidity": 0.2
            },
            "type": "scatter"
           }
          ],
          "scatter3d": [
           {
            "line": {
             "colorbar": {
              "outlinewidth": 0,
              "ticks": ""
             }
            },
            "marker": {
             "colorbar": {
              "outlinewidth": 0,
              "ticks": ""
             }
            },
            "type": "scatter3d"
           }
          ],
          "scattercarpet": [
           {
            "marker": {
             "colorbar": {
              "outlinewidth": 0,
              "ticks": ""
             }
            },
            "type": "scattercarpet"
           }
          ],
          "scattergeo": [
           {
            "marker": {
             "colorbar": {
              "outlinewidth": 0,
              "ticks": ""
             }
            },
            "type": "scattergeo"
           }
          ],
          "scattergl": [
           {
            "marker": {
             "colorbar": {
              "outlinewidth": 0,
              "ticks": ""
             }
            },
            "type": "scattergl"
           }
          ],
          "scattermap": [
           {
            "marker": {
             "colorbar": {
              "outlinewidth": 0,
              "ticks": ""
             }
            },
            "type": "scattermap"
           }
          ],
          "scattermapbox": [
           {
            "marker": {
             "colorbar": {
              "outlinewidth": 0,
              "ticks": ""
             }
            },
            "type": "scattermapbox"
           }
          ],
          "scatterpolar": [
           {
            "marker": {
             "colorbar": {
              "outlinewidth": 0,
              "ticks": ""
             }
            },
            "type": "scatterpolar"
           }
          ],
          "scatterpolargl": [
           {
            "marker": {
             "colorbar": {
              "outlinewidth": 0,
              "ticks": ""
             }
            },
            "type": "scatterpolargl"
           }
          ],
          "scatterternary": [
           {
            "marker": {
             "colorbar": {
              "outlinewidth": 0,
              "ticks": ""
             }
            },
            "type": "scatterternary"
           }
          ],
          "surface": [
           {
            "colorbar": {
             "outlinewidth": 0,
             "ticks": ""
            },
            "colorscale": [
             [
              0,
              "#0d0887"
             ],
             [
              0.1111111111111111,
              "#46039f"
             ],
             [
              0.2222222222222222,
              "#7201a8"
             ],
             [
              0.3333333333333333,
              "#9c179e"
             ],
             [
              0.4444444444444444,
              "#bd3786"
             ],
             [
              0.5555555555555556,
              "#d8576b"
             ],
             [
              0.6666666666666666,
              "#ed7953"
             ],
             [
              0.7777777777777778,
              "#fb9f3a"
             ],
             [
              0.8888888888888888,
              "#fdca26"
             ],
             [
              1,
              "#f0f921"
             ]
            ],
            "type": "surface"
           }
          ],
          "table": [
           {
            "cells": {
             "fill": {
              "color": "#EBF0F8"
             },
             "line": {
              "color": "white"
             }
            },
            "header": {
             "fill": {
              "color": "#C8D4E3"
             },
             "line": {
              "color": "white"
             }
            },
            "type": "table"
           }
          ]
         },
         "layout": {
          "annotationdefaults": {
           "arrowcolor": "#2a3f5f",
           "arrowhead": 0,
           "arrowwidth": 1
          },
          "autotypenumbers": "strict",
          "coloraxis": {
           "colorbar": {
            "outlinewidth": 0,
            "ticks": ""
           }
          },
          "colorscale": {
           "diverging": [
            [
             0,
             "#8e0152"
            ],
            [
             0.1,
             "#c51b7d"
            ],
            [
             0.2,
             "#de77ae"
            ],
            [
             0.3,
             "#f1b6da"
            ],
            [
             0.4,
             "#fde0ef"
            ],
            [
             0.5,
             "#f7f7f7"
            ],
            [
             0.6,
             "#e6f5d0"
            ],
            [
             0.7,
             "#b8e186"
            ],
            [
             0.8,
             "#7fbc41"
            ],
            [
             0.9,
             "#4d9221"
            ],
            [
             1,
             "#276419"
            ]
           ],
           "sequential": [
            [
             0,
             "#0d0887"
            ],
            [
             0.1111111111111111,
             "#46039f"
            ],
            [
             0.2222222222222222,
             "#7201a8"
            ],
            [
             0.3333333333333333,
             "#9c179e"
            ],
            [
             0.4444444444444444,
             "#bd3786"
            ],
            [
             0.5555555555555556,
             "#d8576b"
            ],
            [
             0.6666666666666666,
             "#ed7953"
            ],
            [
             0.7777777777777778,
             "#fb9f3a"
            ],
            [
             0.8888888888888888,
             "#fdca26"
            ],
            [
             1,
             "#f0f921"
            ]
           ],
           "sequentialminus": [
            [
             0,
             "#0d0887"
            ],
            [
             0.1111111111111111,
             "#46039f"
            ],
            [
             0.2222222222222222,
             "#7201a8"
            ],
            [
             0.3333333333333333,
             "#9c179e"
            ],
            [
             0.4444444444444444,
             "#bd3786"
            ],
            [
             0.5555555555555556,
             "#d8576b"
            ],
            [
             0.6666666666666666,
             "#ed7953"
            ],
            [
             0.7777777777777778,
             "#fb9f3a"
            ],
            [
             0.8888888888888888,
             "#fdca26"
            ],
            [
             1,
             "#f0f921"
            ]
           ]
          },
          "colorway": [
           "#636efa",
           "#EF553B",
           "#00cc96",
           "#ab63fa",
           "#FFA15A",
           "#19d3f3",
           "#FF6692",
           "#B6E880",
           "#FF97FF",
           "#FECB52"
          ],
          "font": {
           "color": "#2a3f5f"
          },
          "geo": {
           "bgcolor": "white",
           "lakecolor": "white",
           "landcolor": "#E5ECF6",
           "showlakes": true,
           "showland": true,
           "subunitcolor": "white"
          },
          "hoverlabel": {
           "align": "left"
          },
          "hovermode": "closest",
          "mapbox": {
           "style": "light"
          },
          "paper_bgcolor": "white",
          "plot_bgcolor": "#E5ECF6",
          "polar": {
           "angularaxis": {
            "gridcolor": "white",
            "linecolor": "white",
            "ticks": ""
           },
           "bgcolor": "#E5ECF6",
           "radialaxis": {
            "gridcolor": "white",
            "linecolor": "white",
            "ticks": ""
           }
          },
          "scene": {
           "xaxis": {
            "backgroundcolor": "#E5ECF6",
            "gridcolor": "white",
            "gridwidth": 2,
            "linecolor": "white",
            "showbackground": true,
            "ticks": "",
            "zerolinecolor": "white"
           },
           "yaxis": {
            "backgroundcolor": "#E5ECF6",
            "gridcolor": "white",
            "gridwidth": 2,
            "linecolor": "white",
            "showbackground": true,
            "ticks": "",
            "zerolinecolor": "white"
           },
           "zaxis": {
            "backgroundcolor": "#E5ECF6",
            "gridcolor": "white",
            "gridwidth": 2,
            "linecolor": "white",
            "showbackground": true,
            "ticks": "",
            "zerolinecolor": "white"
           }
          },
          "shapedefaults": {
           "line": {
            "color": "#2a3f5f"
           }
          },
          "ternary": {
           "aaxis": {
            "gridcolor": "white",
            "linecolor": "white",
            "ticks": ""
           },
           "baxis": {
            "gridcolor": "white",
            "linecolor": "white",
            "ticks": ""
           },
           "bgcolor": "#E5ECF6",
           "caxis": {
            "gridcolor": "white",
            "linecolor": "white",
            "ticks": ""
           }
          },
          "title": {
           "x": 0.05
          },
          "xaxis": {
           "automargin": true,
           "gridcolor": "white",
           "linecolor": "white",
           "ticks": "",
           "title": {
            "standoff": 15
           },
           "zerolinecolor": "white",
           "zerolinewidth": 2
          },
          "yaxis": {
           "automargin": true,
           "gridcolor": "white",
           "linecolor": "white",
           "ticks": "",
           "title": {
            "standoff": 15
           },
           "zerolinecolor": "white",
           "zerolinewidth": 2
          }
         }
        },
        "title": {
         "text": "Haar Transform Index - 0 Levels - Avg Distance Calc by Radius Rank"
        },
        "width": 1200,
        "xaxis": {
         "categoryarray": [
          "Haar Lvl 0 (256 bins)",
          "Haar Lvl 1 (128 bins)",
          "Haar Lvl 2 (64 bins)",
          "Haar Lvl 3 (32 bins)",
          "Haar Lvl 4 (16 bins)",
          "Haar Lvl 5 (8 bins)",
          "Haar Lvl 6 (4 bins)",
          "Haar Lvl 7 (2 bins)"
         ],
         "categoryorder": "array",
         "title": {
          "text": "Data Representation"
         }
        },
        "yaxis": {
         "title": {
          "text": "Average Distance Calculations"
         }
        }
       }
      }
     },
     "metadata": {},
     "output_type": "display_data"
    },
    {
     "data": {
      "application/vnd.plotly.v1+json": {
       "config": {
        "plotlyServerURL": "https://plot.ly"
       },
       "data": [
        {
         "hovertemplate": "<b>Haar Transform Index - 1 Level</b><br>Representation: %{x}<br>Avg Dist Calc: %{y:.2f}<br>Rank: 1<br>Avg Obj Result (Line Avg): 2057.649<extra></extra>",
         "line": {
          "width": 2
         },
         "marker": {
          "size": 7,
          "symbol": "circle"
         },
         "mode": "lines+markers",
         "name": "Rank 1 (Avg Obj: 2057.649)",
         "type": "scatter",
         "x": [
          "Haar Lvl 1 (128 bins)",
          "Haar Lvl 2 (64 bins)",
          "Haar Lvl 3 (32 bins)",
          "Haar Lvl 4 (16 bins)",
          "Haar Lvl 5 (8 bins)",
          "Haar Lvl 6 (4 bins)",
          "Haar Lvl 7 (2 bins)"
         ],
         "y": [
          16340.3,
          17026.9,
          17000.8,
          16932.4,
          16781.8,
          16416.5,
          15804.1
         ]
        },
        {
         "hovertemplate": "<b>Haar Transform Index - 1 Level</b><br>Representation: %{x}<br>Avg Dist Calc: %{y:.2f}<br>Rank: 2<br>Avg Obj Result (Line Avg): 2050.584<extra></extra>",
         "line": {
          "width": 2
         },
         "marker": {
          "size": 7,
          "symbol": "square"
         },
         "mode": "lines+markers",
         "name": "Rank 2 (Avg Obj: 2050.584)",
         "type": "scatter",
         "x": [
          "Haar Lvl 1 (128 bins)",
          "Haar Lvl 2 (64 bins)",
          "Haar Lvl 3 (32 bins)",
          "Haar Lvl 4 (16 bins)",
          "Haar Lvl 5 (8 bins)",
          "Haar Lvl 6 (4 bins)",
          "Haar Lvl 7 (2 bins)"
         ],
         "y": [
          16339.1,
          17026.6,
          16999.7,
          16931.2,
          16767.3,
          16401.1,
          15794
         ]
        },
        {
         "hovertemplate": "<b>Haar Transform Index - 1 Level</b><br>Representation: %{x}<br>Avg Dist Calc: %{y:.2f}<br>Rank: 3<br>Avg Obj Result (Line Avg): 1369.659<extra></extra>",
         "line": {
          "width": 2
         },
         "marker": {
          "size": 7,
          "symbol": "diamond"
         },
         "mode": "lines+markers",
         "name": "Rank 3 (Avg Obj: 1369.659)",
         "type": "scatter",
         "x": [
          "Haar Lvl 1 (128 bins)",
          "Haar Lvl 2 (64 bins)",
          "Haar Lvl 3 (32 bins)",
          "Haar Lvl 4 (16 bins)",
          "Haar Lvl 5 (8 bins)",
          "Haar Lvl 6 (4 bins)",
          "Haar Lvl 7 (2 bins)"
         ],
         "y": [
          15204.7,
          16129.5,
          16113.7,
          16075.1,
          15985.2,
          15774.3,
          15525.3
         ]
        },
        {
         "hovertemplate": "<b>Haar Transform Index - 1 Level</b><br>Representation: %{x}<br>Avg Dist Calc: %{y:.2f}<br>Rank: 4<br>Avg Obj Result (Line Avg): 813.291<extra></extra>",
         "line": {
          "width": 2
         },
         "marker": {
          "size": 7,
          "symbol": "cross"
         },
         "mode": "lines+markers",
         "name": "Rank 4 (Avg Obj: 813.291)",
         "type": "scatter",
         "x": [
          "Haar Lvl 1 (128 bins)",
          "Haar Lvl 2 (64 bins)",
          "Haar Lvl 3 (32 bins)",
          "Haar Lvl 4 (16 bins)",
          "Haar Lvl 5 (8 bins)",
          "Haar Lvl 6 (4 bins)",
          "Haar Lvl 7 (2 bins)"
         ],
         "y": [
          13851.8,
          15092.7,
          15094.4,
          15092.7,
          15099.5,
          15092.6,
          15225.6
         ]
        },
        {
         "hovertemplate": "<b>Haar Transform Index - 1 Level</b><br>Representation: %{x}<br>Avg Dist Calc: %{y:.2f}<br>Rank: 5<br>Avg Obj Result (Line Avg): 470.315<extra></extra>",
         "line": {
          "width": 2
         },
         "marker": {
          "size": 7,
          "symbol": "x"
         },
         "mode": "lines+markers",
         "name": "Rank 5 (Avg Obj: 470.315)",
         "type": "scatter",
         "x": [
          "Haar Lvl 1 (128 bins)",
          "Haar Lvl 2 (64 bins)",
          "Haar Lvl 3 (32 bins)",
          "Haar Lvl 4 (16 bins)",
          "Haar Lvl 5 (8 bins)",
          "Haar Lvl 6 (4 bins)",
          "Haar Lvl 7 (2 bins)"
         ],
         "y": [
          12248.1,
          13910.1,
          13931.3,
          13984.1,
          14115.8,
          14365.2,
          14929.7
         ]
        },
        {
         "hovertemplate": "<b>Haar Transform Index - 1 Level</b><br>Representation: %{x}<br>Avg Dist Calc: %{y:.2f}<br>Rank: 6<br>Avg Obj Result (Line Avg): 248.561<extra></extra>",
         "line": {
          "width": 2
         },
         "marker": {
          "size": 7,
          "symbol": "triangle-up"
         },
         "mode": "lines+markers",
         "name": "Rank 6 (Avg Obj: 248.561)",
         "type": "scatter",
         "x": [
          "Haar Lvl 1 (128 bins)",
          "Haar Lvl 2 (64 bins)",
          "Haar Lvl 3 (32 bins)",
          "Haar Lvl 4 (16 bins)",
          "Haar Lvl 5 (8 bins)",
          "Haar Lvl 6 (4 bins)",
          "Haar Lvl 7 (2 bins)"
         ],
         "y": [
          10385.4,
          12606.5,
          12652.6,
          12763,
          13042,
          13576.2,
          14624.4
         ]
        },
        {
         "hovertemplate": "<b>Haar Transform Index - 1 Level</b><br>Representation: %{x}<br>Avg Dist Calc: %{y:.2f}<br>Rank: 7<br>Avg Obj Result (Line Avg): 116.697<extra></extra>",
         "line": {
          "width": 2
         },
         "marker": {
          "size": 7,
          "symbol": "pentagon"
         },
         "mode": "lines+markers",
         "name": "Rank 7 (Avg Obj: 116.697)",
         "type": "scatter",
         "x": [
          "Haar Lvl 1 (128 bins)",
          "Haar Lvl 2 (64 bins)",
          "Haar Lvl 3 (32 bins)",
          "Haar Lvl 4 (16 bins)",
          "Haar Lvl 5 (8 bins)",
          "Haar Lvl 6 (4 bins)",
          "Haar Lvl 7 (2 bins)"
         ],
         "y": [
          8254.67,
          11206,
          11279.4,
          11453.8,
          11884.1,
          12738.5,
          14310.5
         ]
        },
        {
         "hovertemplate": "<b>Haar Transform Index - 1 Level</b><br>Representation: %{x}<br>Avg Dist Calc: %{y:.2f}<br>Rank: 8<br>Avg Obj Result (Line Avg): 44.579<extra></extra>",
         "line": {
          "width": 2
         },
         "marker": {
          "size": 7,
          "symbol": "hexagon"
         },
         "mode": "lines+markers",
         "name": "Rank 8 (Avg Obj: 44.579)",
         "type": "scatter",
         "x": [
          "Haar Lvl 1 (128 bins)",
          "Haar Lvl 2 (64 bins)",
          "Haar Lvl 3 (32 bins)",
          "Haar Lvl 4 (16 bins)",
          "Haar Lvl 5 (8 bins)",
          "Haar Lvl 6 (4 bins)",
          "Haar Lvl 7 (2 bins)"
         ],
         "y": [
          5850.12,
          9732.78,
          9831.69,
          10068.6,
          10653.2,
          11829.9,
          13989.9
         ]
        },
        {
         "hovertemplate": "<b>Haar Transform Index - 1 Level</b><br>Representation: %{x}<br>Avg Dist Calc: %{y:.2f}<br>Rank: 9<br>Avg Obj Result (Line Avg): 14.476<extra></extra>",
         "line": {
          "width": 2
         },
         "marker": {
          "size": 7,
          "symbol": "star"
         },
         "mode": "lines+markers",
         "name": "Rank 9 (Avg Obj: 14.476)",
         "type": "scatter",
         "x": [
          "Haar Lvl 1 (128 bins)",
          "Haar Lvl 2 (64 bins)",
          "Haar Lvl 3 (32 bins)",
          "Haar Lvl 4 (16 bins)",
          "Haar Lvl 5 (8 bins)",
          "Haar Lvl 6 (4 bins)",
          "Haar Lvl 7 (2 bins)"
         ],
         "y": [
          3183.18,
          8224.29,
          8345.79,
          8644.25,
          9379.86,
          10898.8,
          13659.6
         ]
        },
        {
         "hovertemplate": "<b>Haar Transform Index - 1 Level</b><br>Representation: %{x}<br>Avg Dist Calc: %{y:.2f}<br>Rank: 10<br>Avg Obj Result (Line Avg): 1.009<extra></extra>",
         "line": {
          "width": 2
         },
         "marker": {
          "size": 7,
          "symbol": "triangle-down"
         },
         "mode": "lines+markers",
         "name": "Rank 10 (Avg Obj: 1.009)",
         "type": "scatter",
         "x": [
          "Haar Lvl 1 (128 bins)",
          "Haar Lvl 2 (64 bins)",
          "Haar Lvl 3 (32 bins)",
          "Haar Lvl 4 (16 bins)",
          "Haar Lvl 5 (8 bins)",
          "Haar Lvl 6 (4 bins)",
          "Haar Lvl 7 (2 bins)"
         ],
         "y": [
          345.002,
          6750.24,
          6889.04,
          7234.74,
          8100.29,
          9935.88,
          13315.6
         ]
        }
       ],
       "layout": {
        "annotations": [
         {
          "showarrow": false,
          "text": "Distance Reference",
          "x": 1,
          "xanchor": "right",
          "xref": "x domain",
          "y": 20580,
          "yanchor": "top",
          "yref": "y"
         }
        ],
        "height": 600,
        "hovermode": "x unified",
        "legend": {
         "title": {
          "text": "Rank (Highest Radius = Rank 1)"
         }
        },
        "shapes": [
         {
          "line": {
           "dash": "dot"
          },
          "type": "line",
          "x0": 0,
          "x1": 1,
          "xref": "x domain",
          "y0": 20580,
          "y1": 20580,
          "yref": "y"
         }
        ],
        "template": {
         "data": {
          "bar": [
           {
            "error_x": {
             "color": "#2a3f5f"
            },
            "error_y": {
             "color": "#2a3f5f"
            },
            "marker": {
             "line": {
              "color": "#E5ECF6",
              "width": 0.5
             },
             "pattern": {
              "fillmode": "overlay",
              "size": 10,
              "solidity": 0.2
             }
            },
            "type": "bar"
           }
          ],
          "barpolar": [
           {
            "marker": {
             "line": {
              "color": "#E5ECF6",
              "width": 0.5
             },
             "pattern": {
              "fillmode": "overlay",
              "size": 10,
              "solidity": 0.2
             }
            },
            "type": "barpolar"
           }
          ],
          "carpet": [
           {
            "aaxis": {
             "endlinecolor": "#2a3f5f",
             "gridcolor": "white",
             "linecolor": "white",
             "minorgridcolor": "white",
             "startlinecolor": "#2a3f5f"
            },
            "baxis": {
             "endlinecolor": "#2a3f5f",
             "gridcolor": "white",
             "linecolor": "white",
             "minorgridcolor": "white",
             "startlinecolor": "#2a3f5f"
            },
            "type": "carpet"
           }
          ],
          "choropleth": [
           {
            "colorbar": {
             "outlinewidth": 0,
             "ticks": ""
            },
            "type": "choropleth"
           }
          ],
          "contour": [
           {
            "colorbar": {
             "outlinewidth": 0,
             "ticks": ""
            },
            "colorscale": [
             [
              0,
              "#0d0887"
             ],
             [
              0.1111111111111111,
              "#46039f"
             ],
             [
              0.2222222222222222,
              "#7201a8"
             ],
             [
              0.3333333333333333,
              "#9c179e"
             ],
             [
              0.4444444444444444,
              "#bd3786"
             ],
             [
              0.5555555555555556,
              "#d8576b"
             ],
             [
              0.6666666666666666,
              "#ed7953"
             ],
             [
              0.7777777777777778,
              "#fb9f3a"
             ],
             [
              0.8888888888888888,
              "#fdca26"
             ],
             [
              1,
              "#f0f921"
             ]
            ],
            "type": "contour"
           }
          ],
          "contourcarpet": [
           {
            "colorbar": {
             "outlinewidth": 0,
             "ticks": ""
            },
            "type": "contourcarpet"
           }
          ],
          "heatmap": [
           {
            "colorbar": {
             "outlinewidth": 0,
             "ticks": ""
            },
            "colorscale": [
             [
              0,
              "#0d0887"
             ],
             [
              0.1111111111111111,
              "#46039f"
             ],
             [
              0.2222222222222222,
              "#7201a8"
             ],
             [
              0.3333333333333333,
              "#9c179e"
             ],
             [
              0.4444444444444444,
              "#bd3786"
             ],
             [
              0.5555555555555556,
              "#d8576b"
             ],
             [
              0.6666666666666666,
              "#ed7953"
             ],
             [
              0.7777777777777778,
              "#fb9f3a"
             ],
             [
              0.8888888888888888,
              "#fdca26"
             ],
             [
              1,
              "#f0f921"
             ]
            ],
            "type": "heatmap"
           }
          ],
          "histogram": [
           {
            "marker": {
             "pattern": {
              "fillmode": "overlay",
              "size": 10,
              "solidity": 0.2
             }
            },
            "type": "histogram"
           }
          ],
          "histogram2d": [
           {
            "colorbar": {
             "outlinewidth": 0,
             "ticks": ""
            },
            "colorscale": [
             [
              0,
              "#0d0887"
             ],
             [
              0.1111111111111111,
              "#46039f"
             ],
             [
              0.2222222222222222,
              "#7201a8"
             ],
             [
              0.3333333333333333,
              "#9c179e"
             ],
             [
              0.4444444444444444,
              "#bd3786"
             ],
             [
              0.5555555555555556,
              "#d8576b"
             ],
             [
              0.6666666666666666,
              "#ed7953"
             ],
             [
              0.7777777777777778,
              "#fb9f3a"
             ],
             [
              0.8888888888888888,
              "#fdca26"
             ],
             [
              1,
              "#f0f921"
             ]
            ],
            "type": "histogram2d"
           }
          ],
          "histogram2dcontour": [
           {
            "colorbar": {
             "outlinewidth": 0,
             "ticks": ""
            },
            "colorscale": [
             [
              0,
              "#0d0887"
             ],
             [
              0.1111111111111111,
              "#46039f"
             ],
             [
              0.2222222222222222,
              "#7201a8"
             ],
             [
              0.3333333333333333,
              "#9c179e"
             ],
             [
              0.4444444444444444,
              "#bd3786"
             ],
             [
              0.5555555555555556,
              "#d8576b"
             ],
             [
              0.6666666666666666,
              "#ed7953"
             ],
             [
              0.7777777777777778,
              "#fb9f3a"
             ],
             [
              0.8888888888888888,
              "#fdca26"
             ],
             [
              1,
              "#f0f921"
             ]
            ],
            "type": "histogram2dcontour"
           }
          ],
          "mesh3d": [
           {
            "colorbar": {
             "outlinewidth": 0,
             "ticks": ""
            },
            "type": "mesh3d"
           }
          ],
          "parcoords": [
           {
            "line": {
             "colorbar": {
              "outlinewidth": 0,
              "ticks": ""
             }
            },
            "type": "parcoords"
           }
          ],
          "pie": [
           {
            "automargin": true,
            "type": "pie"
           }
          ],
          "scatter": [
           {
            "fillpattern": {
             "fillmode": "overlay",
             "size": 10,
             "solidity": 0.2
            },
            "type": "scatter"
           }
          ],
          "scatter3d": [
           {
            "line": {
             "colorbar": {
              "outlinewidth": 0,
              "ticks": ""
             }
            },
            "marker": {
             "colorbar": {
              "outlinewidth": 0,
              "ticks": ""
             }
            },
            "type": "scatter3d"
           }
          ],
          "scattercarpet": [
           {
            "marker": {
             "colorbar": {
              "outlinewidth": 0,
              "ticks": ""
             }
            },
            "type": "scattercarpet"
           }
          ],
          "scattergeo": [
           {
            "marker": {
             "colorbar": {
              "outlinewidth": 0,
              "ticks": ""
             }
            },
            "type": "scattergeo"
           }
          ],
          "scattergl": [
           {
            "marker": {
             "colorbar": {
              "outlinewidth": 0,
              "ticks": ""
             }
            },
            "type": "scattergl"
           }
          ],
          "scattermap": [
           {
            "marker": {
             "colorbar": {
              "outlinewidth": 0,
              "ticks": ""
             }
            },
            "type": "scattermap"
           }
          ],
          "scattermapbox": [
           {
            "marker": {
             "colorbar": {
              "outlinewidth": 0,
              "ticks": ""
             }
            },
            "type": "scattermapbox"
           }
          ],
          "scatterpolar": [
           {
            "marker": {
             "colorbar": {
              "outlinewidth": 0,
              "ticks": ""
             }
            },
            "type": "scatterpolar"
           }
          ],
          "scatterpolargl": [
           {
            "marker": {
             "colorbar": {
              "outlinewidth": 0,
              "ticks": ""
             }
            },
            "type": "scatterpolargl"
           }
          ],
          "scatterternary": [
           {
            "marker": {
             "colorbar": {
              "outlinewidth": 0,
              "ticks": ""
             }
            },
            "type": "scatterternary"
           }
          ],
          "surface": [
           {
            "colorbar": {
             "outlinewidth": 0,
             "ticks": ""
            },
            "colorscale": [
             [
              0,
              "#0d0887"
             ],
             [
              0.1111111111111111,
              "#46039f"
             ],
             [
              0.2222222222222222,
              "#7201a8"
             ],
             [
              0.3333333333333333,
              "#9c179e"
             ],
             [
              0.4444444444444444,
              "#bd3786"
             ],
             [
              0.5555555555555556,
              "#d8576b"
             ],
             [
              0.6666666666666666,
              "#ed7953"
             ],
             [
              0.7777777777777778,
              "#fb9f3a"
             ],
             [
              0.8888888888888888,
              "#fdca26"
             ],
             [
              1,
              "#f0f921"
             ]
            ],
            "type": "surface"
           }
          ],
          "table": [
           {
            "cells": {
             "fill": {
              "color": "#EBF0F8"
             },
             "line": {
              "color": "white"
             }
            },
            "header": {
             "fill": {
              "color": "#C8D4E3"
             },
             "line": {
              "color": "white"
             }
            },
            "type": "table"
           }
          ]
         },
         "layout": {
          "annotationdefaults": {
           "arrowcolor": "#2a3f5f",
           "arrowhead": 0,
           "arrowwidth": 1
          },
          "autotypenumbers": "strict",
          "coloraxis": {
           "colorbar": {
            "outlinewidth": 0,
            "ticks": ""
           }
          },
          "colorscale": {
           "diverging": [
            [
             0,
             "#8e0152"
            ],
            [
             0.1,
             "#c51b7d"
            ],
            [
             0.2,
             "#de77ae"
            ],
            [
             0.3,
             "#f1b6da"
            ],
            [
             0.4,
             "#fde0ef"
            ],
            [
             0.5,
             "#f7f7f7"
            ],
            [
             0.6,
             "#e6f5d0"
            ],
            [
             0.7,
             "#b8e186"
            ],
            [
             0.8,
             "#7fbc41"
            ],
            [
             0.9,
             "#4d9221"
            ],
            [
             1,
             "#276419"
            ]
           ],
           "sequential": [
            [
             0,
             "#0d0887"
            ],
            [
             0.1111111111111111,
             "#46039f"
            ],
            [
             0.2222222222222222,
             "#7201a8"
            ],
            [
             0.3333333333333333,
             "#9c179e"
            ],
            [
             0.4444444444444444,
             "#bd3786"
            ],
            [
             0.5555555555555556,
             "#d8576b"
            ],
            [
             0.6666666666666666,
             "#ed7953"
            ],
            [
             0.7777777777777778,
             "#fb9f3a"
            ],
            [
             0.8888888888888888,
             "#fdca26"
            ],
            [
             1,
             "#f0f921"
            ]
           ],
           "sequentialminus": [
            [
             0,
             "#0d0887"
            ],
            [
             0.1111111111111111,
             "#46039f"
            ],
            [
             0.2222222222222222,
             "#7201a8"
            ],
            [
             0.3333333333333333,
             "#9c179e"
            ],
            [
             0.4444444444444444,
             "#bd3786"
            ],
            [
             0.5555555555555556,
             "#d8576b"
            ],
            [
             0.6666666666666666,
             "#ed7953"
            ],
            [
             0.7777777777777778,
             "#fb9f3a"
            ],
            [
             0.8888888888888888,
             "#fdca26"
            ],
            [
             1,
             "#f0f921"
            ]
           ]
          },
          "colorway": [
           "#636efa",
           "#EF553B",
           "#00cc96",
           "#ab63fa",
           "#FFA15A",
           "#19d3f3",
           "#FF6692",
           "#B6E880",
           "#FF97FF",
           "#FECB52"
          ],
          "font": {
           "color": "#2a3f5f"
          },
          "geo": {
           "bgcolor": "white",
           "lakecolor": "white",
           "landcolor": "#E5ECF6",
           "showlakes": true,
           "showland": true,
           "subunitcolor": "white"
          },
          "hoverlabel": {
           "align": "left"
          },
          "hovermode": "closest",
          "mapbox": {
           "style": "light"
          },
          "paper_bgcolor": "white",
          "plot_bgcolor": "#E5ECF6",
          "polar": {
           "angularaxis": {
            "gridcolor": "white",
            "linecolor": "white",
            "ticks": ""
           },
           "bgcolor": "#E5ECF6",
           "radialaxis": {
            "gridcolor": "white",
            "linecolor": "white",
            "ticks": ""
           }
          },
          "scene": {
           "xaxis": {
            "backgroundcolor": "#E5ECF6",
            "gridcolor": "white",
            "gridwidth": 2,
            "linecolor": "white",
            "showbackground": true,
            "ticks": "",
            "zerolinecolor": "white"
           },
           "yaxis": {
            "backgroundcolor": "#E5ECF6",
            "gridcolor": "white",
            "gridwidth": 2,
            "linecolor": "white",
            "showbackground": true,
            "ticks": "",
            "zerolinecolor": "white"
           },
           "zaxis": {
            "backgroundcolor": "#E5ECF6",
            "gridcolor": "white",
            "gridwidth": 2,
            "linecolor": "white",
            "showbackground": true,
            "ticks": "",
            "zerolinecolor": "white"
           }
          },
          "shapedefaults": {
           "line": {
            "color": "#2a3f5f"
           }
          },
          "ternary": {
           "aaxis": {
            "gridcolor": "white",
            "linecolor": "white",
            "ticks": ""
           },
           "baxis": {
            "gridcolor": "white",
            "linecolor": "white",
            "ticks": ""
           },
           "bgcolor": "#E5ECF6",
           "caxis": {
            "gridcolor": "white",
            "linecolor": "white",
            "ticks": ""
           }
          },
          "title": {
           "x": 0.05
          },
          "xaxis": {
           "automargin": true,
           "gridcolor": "white",
           "linecolor": "white",
           "ticks": "",
           "title": {
            "standoff": 15
           },
           "zerolinecolor": "white",
           "zerolinewidth": 2
          },
          "yaxis": {
           "automargin": true,
           "gridcolor": "white",
           "linecolor": "white",
           "ticks": "",
           "title": {
            "standoff": 15
           },
           "zerolinecolor": "white",
           "zerolinewidth": 2
          }
         }
        },
        "title": {
         "text": "Haar Transform Index - 1 Level - Avg Distance Calc by Radius Rank"
        },
        "width": 1200,
        "xaxis": {
         "categoryarray": [
          "Haar Lvl 1 (128 bins)",
          "Haar Lvl 2 (64 bins)",
          "Haar Lvl 3 (32 bins)",
          "Haar Lvl 4 (16 bins)",
          "Haar Lvl 5 (8 bins)",
          "Haar Lvl 6 (4 bins)",
          "Haar Lvl 7 (2 bins)"
         ],
         "categoryorder": "array",
         "title": {
          "text": "Data Representation"
         }
        },
        "yaxis": {
         "title": {
          "text": "Average Distance Calculations"
         }
        }
       }
      }
     },
     "metadata": {},
     "output_type": "display_data"
    },
    {
     "data": {
      "application/vnd.plotly.v1+json": {
       "config": {
        "plotlyServerURL": "https://plot.ly"
       },
       "data": [
        {
         "hovertemplate": "<b>Haar Transform Index - 2 Levels</b><br>Representation: %{x}<br>Avg Dist Calc: %{y:.2f}<br>Rank: 1<br>Avg Obj Result (Line Avg): 2057.575<extra></extra>",
         "line": {
          "width": 2
         },
         "marker": {
          "size": 7,
          "symbol": "circle"
         },
         "mode": "lines+markers",
         "name": "Rank 1 (Avg Obj: 2057.575)",
         "type": "scatter",
         "x": [
          "Haar Lvl 2 (64 bins)",
          "Haar Lvl 3 (32 bins)",
          "Haar Lvl 4 (16 bins)",
          "Haar Lvl 5 (8 bins)",
          "Haar Lvl 6 (4 bins)",
          "Haar Lvl 7 (2 bins)"
         ],
         "y": [
          16235.8,
          16827.3,
          16760.6,
          16621.9,
          16283.7,
          15744.1
         ]
        },
        {
         "hovertemplate": "<b>Haar Transform Index - 2 Levels</b><br>Representation: %{x}<br>Avg Dist Calc: %{y:.2f}<br>Rank: 2<br>Avg Obj Result (Line Avg): 2049.542<extra></extra>",
         "line": {
          "width": 2
         },
         "marker": {
          "size": 7,
          "symbol": "square"
         },
         "mode": "lines+markers",
         "name": "Rank 2 (Avg Obj: 2049.542)",
         "type": "scatter",
         "x": [
          "Haar Lvl 2 (64 bins)",
          "Haar Lvl 3 (32 bins)",
          "Haar Lvl 4 (16 bins)",
          "Haar Lvl 5 (8 bins)",
          "Haar Lvl 6 (4 bins)",
          "Haar Lvl 7 (2 bins)"
         ],
         "y": [
          16235.4,
          16826.1,
          16759.3,
          16606.4,
          16267.4,
          15733.5
         ]
        },
        {
         "hovertemplate": "<b>Haar Transform Index - 2 Levels</b><br>Representation: %{x}<br>Avg Dist Calc: %{y:.2f}<br>Rank: 3<br>Avg Obj Result (Line Avg): 1386.898<extra></extra>",
         "line": {
          "width": 2
         },
         "marker": {
          "size": 7,
          "symbol": "diamond"
         },
         "mode": "lines+markers",
         "name": "Rank 3 (Avg Obj: 1386.898)",
         "type": "scatter",
         "x": [
          "Haar Lvl 2 (64 bins)",
          "Haar Lvl 3 (32 bins)",
          "Haar Lvl 4 (16 bins)",
          "Haar Lvl 5 (8 bins)",
          "Haar Lvl 6 (4 bins)",
          "Haar Lvl 7 (2 bins)"
         ],
         "y": [
          15080,
          15913.7,
          15873.8,
          15796.5,
          15627.3,
          15461.1
         ]
        },
        {
         "hovertemplate": "<b>Haar Transform Index - 2 Levels</b><br>Representation: %{x}<br>Avg Dist Calc: %{y:.2f}<br>Rank: 4<br>Avg Obj Result (Line Avg): 828.804<extra></extra>",
         "line": {
          "width": 2
         },
         "marker": {
          "size": 7,
          "symbol": "cross"
         },
         "mode": "lines+markers",
         "name": "Rank 4 (Avg Obj: 828.804)",
         "type": "scatter",
         "x": [
          "Haar Lvl 2 (64 bins)",
          "Haar Lvl 3 (32 bins)",
          "Haar Lvl 4 (16 bins)",
          "Haar Lvl 5 (8 bins)",
          "Haar Lvl 6 (4 bins)",
          "Haar Lvl 7 (2 bins)"
         ],
         "y": [
          13706.7,
          14865.8,
          14864.3,
          14884.7,
          14932.1,
          15158.3
         ]
        },
        {
         "hovertemplate": "<b>Haar Transform Index - 2 Levels</b><br>Representation: %{x}<br>Avg Dist Calc: %{y:.2f}<br>Rank: 5<br>Avg Obj Result (Line Avg): 487.020<extra></extra>",
         "line": {
          "width": 2
         },
         "marker": {
          "size": 7,
          "symbol": "x"
         },
         "mode": "lines+markers",
         "name": "Rank 5 (Avg Obj: 487.020)",
         "type": "scatter",
         "x": [
          "Haar Lvl 2 (64 bins)",
          "Haar Lvl 3 (32 bins)",
          "Haar Lvl 4 (16 bins)",
          "Haar Lvl 5 (8 bins)",
          "Haar Lvl 6 (4 bins)",
          "Haar Lvl 7 (2 bins)"
         ],
         "y": [
          12091.3,
          13686.9,
          13736.2,
          13876.5,
          14175.4,
          14856.2
         ]
        },
        {
         "hovertemplate": "<b>Haar Transform Index - 2 Levels</b><br>Representation: %{x}<br>Avg Dist Calc: %{y:.2f}<br>Rank: 6<br>Avg Obj Result (Line Avg): 262.206<extra></extra>",
         "line": {
          "width": 2
         },
         "marker": {
          "size": 7,
          "symbol": "triangle-up"
         },
         "mode": "lines+markers",
         "name": "Rank 6 (Avg Obj: 262.206)",
         "type": "scatter",
         "x": [
          "Haar Lvl 2 (64 bins)",
          "Haar Lvl 3 (32 bins)",
          "Haar Lvl 4 (16 bins)",
          "Haar Lvl 5 (8 bins)",
          "Haar Lvl 6 (4 bins)",
          "Haar Lvl 7 (2 bins)"
         ],
         "y": [
          10216.7,
          12386.2,
          12494,
          12775.1,
          13367.9,
          14548.7
         ]
        },
        {
         "hovertemplate": "<b>Haar Transform Index - 2 Levels</b><br>Representation: %{x}<br>Avg Dist Calc: %{y:.2f}<br>Rank: 7<br>Avg Obj Result (Line Avg): 125.701<extra></extra>",
         "line": {
          "width": 2
         },
         "marker": {
          "size": 7,
          "symbol": "pentagon"
         },
         "mode": "lines+markers",
         "name": "Rank 7 (Avg Obj: 125.701)",
         "type": "scatter",
         "x": [
          "Haar Lvl 2 (64 bins)",
          "Haar Lvl 3 (32 bins)",
          "Haar Lvl 4 (16 bins)",
          "Haar Lvl 5 (8 bins)",
          "Haar Lvl 6 (4 bins)",
          "Haar Lvl 7 (2 bins)"
         ],
         "y": [
          8093.14,
          10998,
          11169.4,
          11599.2,
          12510.8,
          14229.7
         ]
        },
        {
         "hovertemplate": "<b>Haar Transform Index - 2 Levels</b><br>Representation: %{x}<br>Avg Dist Calc: %{y:.2f}<br>Rank: 8<br>Avg Obj Result (Line Avg): 49.684<extra></extra>",
         "line": {
          "width": 2
         },
         "marker": {
          "size": 7,
          "symbol": "hexagon"
         },
         "mode": "lines+markers",
         "name": "Rank 8 (Avg Obj: 49.684)",
         "type": "scatter",
         "x": [
          "Haar Lvl 2 (64 bins)",
          "Haar Lvl 3 (32 bins)",
          "Haar Lvl 4 (16 bins)",
          "Haar Lvl 5 (8 bins)",
          "Haar Lvl 6 (4 bins)",
          "Haar Lvl 7 (2 bins)"
         ],
         "y": [
          5722.41,
          9554.02,
          9784.16,
          10358.5,
          11592.6,
          13897.9
         ]
        },
        {
         "hovertemplate": "<b>Haar Transform Index - 2 Levels</b><br>Representation: %{x}<br>Avg Dist Calc: %{y:.2f}<br>Rank: 9<br>Avg Obj Result (Line Avg): 16.676<extra></extra>",
         "line": {
          "width": 2
         },
         "marker": {
          "size": 7,
          "symbol": "star"
         },
         "mode": "lines+markers",
         "name": "Rank 9 (Avg Obj: 16.676)",
         "type": "scatter",
         "x": [
          "Haar Lvl 2 (64 bins)",
          "Haar Lvl 3 (32 bins)",
          "Haar Lvl 4 (16 bins)",
          "Haar Lvl 5 (8 bins)",
          "Haar Lvl 6 (4 bins)",
          "Haar Lvl 7 (2 bins)"
         ],
         "y": [
          3108.33,
          8078.89,
          8363.81,
          9082.41,
          10647,
          13560.2
         ]
        },
        {
         "hovertemplate": "<b>Haar Transform Index - 2 Levels</b><br>Representation: %{x}<br>Avg Dist Calc: %{y:.2f}<br>Rank: 10<br>Avg Obj Result (Line Avg): 1.010<extra></extra>",
         "line": {
          "width": 2
         },
         "marker": {
          "size": 7,
          "symbol": "triangle-down"
         },
         "mode": "lines+markers",
         "name": "Rank 10 (Avg Obj: 1.010)",
         "type": "scatter",
         "x": [
          "Haar Lvl 2 (64 bins)",
          "Haar Lvl 3 (32 bins)",
          "Haar Lvl 4 (16 bins)",
          "Haar Lvl 5 (8 bins)",
          "Haar Lvl 6 (4 bins)",
          "Haar Lvl 7 (2 bins)"
         ],
         "y": [
          342.47,
          6645.97,
          6973.56,
          7803.65,
          9678.26,
          13214.5
         ]
        }
       ],
       "layout": {
        "annotations": [
         {
          "showarrow": false,
          "text": "Distance Reference",
          "x": 1,
          "xanchor": "right",
          "xref": "x domain",
          "y": 20580,
          "yanchor": "top",
          "yref": "y"
         }
        ],
        "height": 600,
        "hovermode": "x unified",
        "legend": {
         "title": {
          "text": "Rank (Highest Radius = Rank 1)"
         }
        },
        "shapes": [
         {
          "line": {
           "dash": "dot"
          },
          "type": "line",
          "x0": 0,
          "x1": 1,
          "xref": "x domain",
          "y0": 20580,
          "y1": 20580,
          "yref": "y"
         }
        ],
        "template": {
         "data": {
          "bar": [
           {
            "error_x": {
             "color": "#2a3f5f"
            },
            "error_y": {
             "color": "#2a3f5f"
            },
            "marker": {
             "line": {
              "color": "#E5ECF6",
              "width": 0.5
             },
             "pattern": {
              "fillmode": "overlay",
              "size": 10,
              "solidity": 0.2
             }
            },
            "type": "bar"
           }
          ],
          "barpolar": [
           {
            "marker": {
             "line": {
              "color": "#E5ECF6",
              "width": 0.5
             },
             "pattern": {
              "fillmode": "overlay",
              "size": 10,
              "solidity": 0.2
             }
            },
            "type": "barpolar"
           }
          ],
          "carpet": [
           {
            "aaxis": {
             "endlinecolor": "#2a3f5f",
             "gridcolor": "white",
             "linecolor": "white",
             "minorgridcolor": "white",
             "startlinecolor": "#2a3f5f"
            },
            "baxis": {
             "endlinecolor": "#2a3f5f",
             "gridcolor": "white",
             "linecolor": "white",
             "minorgridcolor": "white",
             "startlinecolor": "#2a3f5f"
            },
            "type": "carpet"
           }
          ],
          "choropleth": [
           {
            "colorbar": {
             "outlinewidth": 0,
             "ticks": ""
            },
            "type": "choropleth"
           }
          ],
          "contour": [
           {
            "colorbar": {
             "outlinewidth": 0,
             "ticks": ""
            },
            "colorscale": [
             [
              0,
              "#0d0887"
             ],
             [
              0.1111111111111111,
              "#46039f"
             ],
             [
              0.2222222222222222,
              "#7201a8"
             ],
             [
              0.3333333333333333,
              "#9c179e"
             ],
             [
              0.4444444444444444,
              "#bd3786"
             ],
             [
              0.5555555555555556,
              "#d8576b"
             ],
             [
              0.6666666666666666,
              "#ed7953"
             ],
             [
              0.7777777777777778,
              "#fb9f3a"
             ],
             [
              0.8888888888888888,
              "#fdca26"
             ],
             [
              1,
              "#f0f921"
             ]
            ],
            "type": "contour"
           }
          ],
          "contourcarpet": [
           {
            "colorbar": {
             "outlinewidth": 0,
             "ticks": ""
            },
            "type": "contourcarpet"
           }
          ],
          "heatmap": [
           {
            "colorbar": {
             "outlinewidth": 0,
             "ticks": ""
            },
            "colorscale": [
             [
              0,
              "#0d0887"
             ],
             [
              0.1111111111111111,
              "#46039f"
             ],
             [
              0.2222222222222222,
              "#7201a8"
             ],
             [
              0.3333333333333333,
              "#9c179e"
             ],
             [
              0.4444444444444444,
              "#bd3786"
             ],
             [
              0.5555555555555556,
              "#d8576b"
             ],
             [
              0.6666666666666666,
              "#ed7953"
             ],
             [
              0.7777777777777778,
              "#fb9f3a"
             ],
             [
              0.8888888888888888,
              "#fdca26"
             ],
             [
              1,
              "#f0f921"
             ]
            ],
            "type": "heatmap"
           }
          ],
          "histogram": [
           {
            "marker": {
             "pattern": {
              "fillmode": "overlay",
              "size": 10,
              "solidity": 0.2
             }
            },
            "type": "histogram"
           }
          ],
          "histogram2d": [
           {
            "colorbar": {
             "outlinewidth": 0,
             "ticks": ""
            },
            "colorscale": [
             [
              0,
              "#0d0887"
             ],
             [
              0.1111111111111111,
              "#46039f"
             ],
             [
              0.2222222222222222,
              "#7201a8"
             ],
             [
              0.3333333333333333,
              "#9c179e"
             ],
             [
              0.4444444444444444,
              "#bd3786"
             ],
             [
              0.5555555555555556,
              "#d8576b"
             ],
             [
              0.6666666666666666,
              "#ed7953"
             ],
             [
              0.7777777777777778,
              "#fb9f3a"
             ],
             [
              0.8888888888888888,
              "#fdca26"
             ],
             [
              1,
              "#f0f921"
             ]
            ],
            "type": "histogram2d"
           }
          ],
          "histogram2dcontour": [
           {
            "colorbar": {
             "outlinewidth": 0,
             "ticks": ""
            },
            "colorscale": [
             [
              0,
              "#0d0887"
             ],
             [
              0.1111111111111111,
              "#46039f"
             ],
             [
              0.2222222222222222,
              "#7201a8"
             ],
             [
              0.3333333333333333,
              "#9c179e"
             ],
             [
              0.4444444444444444,
              "#bd3786"
             ],
             [
              0.5555555555555556,
              "#d8576b"
             ],
             [
              0.6666666666666666,
              "#ed7953"
             ],
             [
              0.7777777777777778,
              "#fb9f3a"
             ],
             [
              0.8888888888888888,
              "#fdca26"
             ],
             [
              1,
              "#f0f921"
             ]
            ],
            "type": "histogram2dcontour"
           }
          ],
          "mesh3d": [
           {
            "colorbar": {
             "outlinewidth": 0,
             "ticks": ""
            },
            "type": "mesh3d"
           }
          ],
          "parcoords": [
           {
            "line": {
             "colorbar": {
              "outlinewidth": 0,
              "ticks": ""
             }
            },
            "type": "parcoords"
           }
          ],
          "pie": [
           {
            "automargin": true,
            "type": "pie"
           }
          ],
          "scatter": [
           {
            "fillpattern": {
             "fillmode": "overlay",
             "size": 10,
             "solidity": 0.2
            },
            "type": "scatter"
           }
          ],
          "scatter3d": [
           {
            "line": {
             "colorbar": {
              "outlinewidth": 0,
              "ticks": ""
             }
            },
            "marker": {
             "colorbar": {
              "outlinewidth": 0,
              "ticks": ""
             }
            },
            "type": "scatter3d"
           }
          ],
          "scattercarpet": [
           {
            "marker": {
             "colorbar": {
              "outlinewidth": 0,
              "ticks": ""
             }
            },
            "type": "scattercarpet"
           }
          ],
          "scattergeo": [
           {
            "marker": {
             "colorbar": {
              "outlinewidth": 0,
              "ticks": ""
             }
            },
            "type": "scattergeo"
           }
          ],
          "scattergl": [
           {
            "marker": {
             "colorbar": {
              "outlinewidth": 0,
              "ticks": ""
             }
            },
            "type": "scattergl"
           }
          ],
          "scattermap": [
           {
            "marker": {
             "colorbar": {
              "outlinewidth": 0,
              "ticks": ""
             }
            },
            "type": "scattermap"
           }
          ],
          "scattermapbox": [
           {
            "marker": {
             "colorbar": {
              "outlinewidth": 0,
              "ticks": ""
             }
            },
            "type": "scattermapbox"
           }
          ],
          "scatterpolar": [
           {
            "marker": {
             "colorbar": {
              "outlinewidth": 0,
              "ticks": ""
             }
            },
            "type": "scatterpolar"
           }
          ],
          "scatterpolargl": [
           {
            "marker": {
             "colorbar": {
              "outlinewidth": 0,
              "ticks": ""
             }
            },
            "type": "scatterpolargl"
           }
          ],
          "scatterternary": [
           {
            "marker": {
             "colorbar": {
              "outlinewidth": 0,
              "ticks": ""
             }
            },
            "type": "scatterternary"
           }
          ],
          "surface": [
           {
            "colorbar": {
             "outlinewidth": 0,
             "ticks": ""
            },
            "colorscale": [
             [
              0,
              "#0d0887"
             ],
             [
              0.1111111111111111,
              "#46039f"
             ],
             [
              0.2222222222222222,
              "#7201a8"
             ],
             [
              0.3333333333333333,
              "#9c179e"
             ],
             [
              0.4444444444444444,
              "#bd3786"
             ],
             [
              0.5555555555555556,
              "#d8576b"
             ],
             [
              0.6666666666666666,
              "#ed7953"
             ],
             [
              0.7777777777777778,
              "#fb9f3a"
             ],
             [
              0.8888888888888888,
              "#fdca26"
             ],
             [
              1,
              "#f0f921"
             ]
            ],
            "type": "surface"
           }
          ],
          "table": [
           {
            "cells": {
             "fill": {
              "color": "#EBF0F8"
             },
             "line": {
              "color": "white"
             }
            },
            "header": {
             "fill": {
              "color": "#C8D4E3"
             },
             "line": {
              "color": "white"
             }
            },
            "type": "table"
           }
          ]
         },
         "layout": {
          "annotationdefaults": {
           "arrowcolor": "#2a3f5f",
           "arrowhead": 0,
           "arrowwidth": 1
          },
          "autotypenumbers": "strict",
          "coloraxis": {
           "colorbar": {
            "outlinewidth": 0,
            "ticks": ""
           }
          },
          "colorscale": {
           "diverging": [
            [
             0,
             "#8e0152"
            ],
            [
             0.1,
             "#c51b7d"
            ],
            [
             0.2,
             "#de77ae"
            ],
            [
             0.3,
             "#f1b6da"
            ],
            [
             0.4,
             "#fde0ef"
            ],
            [
             0.5,
             "#f7f7f7"
            ],
            [
             0.6,
             "#e6f5d0"
            ],
            [
             0.7,
             "#b8e186"
            ],
            [
             0.8,
             "#7fbc41"
            ],
            [
             0.9,
             "#4d9221"
            ],
            [
             1,
             "#276419"
            ]
           ],
           "sequential": [
            [
             0,
             "#0d0887"
            ],
            [
             0.1111111111111111,
             "#46039f"
            ],
            [
             0.2222222222222222,
             "#7201a8"
            ],
            [
             0.3333333333333333,
             "#9c179e"
            ],
            [
             0.4444444444444444,
             "#bd3786"
            ],
            [
             0.5555555555555556,
             "#d8576b"
            ],
            [
             0.6666666666666666,
             "#ed7953"
            ],
            [
             0.7777777777777778,
             "#fb9f3a"
            ],
            [
             0.8888888888888888,
             "#fdca26"
            ],
            [
             1,
             "#f0f921"
            ]
           ],
           "sequentialminus": [
            [
             0,
             "#0d0887"
            ],
            [
             0.1111111111111111,
             "#46039f"
            ],
            [
             0.2222222222222222,
             "#7201a8"
            ],
            [
             0.3333333333333333,
             "#9c179e"
            ],
            [
             0.4444444444444444,
             "#bd3786"
            ],
            [
             0.5555555555555556,
             "#d8576b"
            ],
            [
             0.6666666666666666,
             "#ed7953"
            ],
            [
             0.7777777777777778,
             "#fb9f3a"
            ],
            [
             0.8888888888888888,
             "#fdca26"
            ],
            [
             1,
             "#f0f921"
            ]
           ]
          },
          "colorway": [
           "#636efa",
           "#EF553B",
           "#00cc96",
           "#ab63fa",
           "#FFA15A",
           "#19d3f3",
           "#FF6692",
           "#B6E880",
           "#FF97FF",
           "#FECB52"
          ],
          "font": {
           "color": "#2a3f5f"
          },
          "geo": {
           "bgcolor": "white",
           "lakecolor": "white",
           "landcolor": "#E5ECF6",
           "showlakes": true,
           "showland": true,
           "subunitcolor": "white"
          },
          "hoverlabel": {
           "align": "left"
          },
          "hovermode": "closest",
          "mapbox": {
           "style": "light"
          },
          "paper_bgcolor": "white",
          "plot_bgcolor": "#E5ECF6",
          "polar": {
           "angularaxis": {
            "gridcolor": "white",
            "linecolor": "white",
            "ticks": ""
           },
           "bgcolor": "#E5ECF6",
           "radialaxis": {
            "gridcolor": "white",
            "linecolor": "white",
            "ticks": ""
           }
          },
          "scene": {
           "xaxis": {
            "backgroundcolor": "#E5ECF6",
            "gridcolor": "white",
            "gridwidth": 2,
            "linecolor": "white",
            "showbackground": true,
            "ticks": "",
            "zerolinecolor": "white"
           },
           "yaxis": {
            "backgroundcolor": "#E5ECF6",
            "gridcolor": "white",
            "gridwidth": 2,
            "linecolor": "white",
            "showbackground": true,
            "ticks": "",
            "zerolinecolor": "white"
           },
           "zaxis": {
            "backgroundcolor": "#E5ECF6",
            "gridcolor": "white",
            "gridwidth": 2,
            "linecolor": "white",
            "showbackground": true,
            "ticks": "",
            "zerolinecolor": "white"
           }
          },
          "shapedefaults": {
           "line": {
            "color": "#2a3f5f"
           }
          },
          "ternary": {
           "aaxis": {
            "gridcolor": "white",
            "linecolor": "white",
            "ticks": ""
           },
           "baxis": {
            "gridcolor": "white",
            "linecolor": "white",
            "ticks": ""
           },
           "bgcolor": "#E5ECF6",
           "caxis": {
            "gridcolor": "white",
            "linecolor": "white",
            "ticks": ""
           }
          },
          "title": {
           "x": 0.05
          },
          "xaxis": {
           "automargin": true,
           "gridcolor": "white",
           "linecolor": "white",
           "ticks": "",
           "title": {
            "standoff": 15
           },
           "zerolinecolor": "white",
           "zerolinewidth": 2
          },
          "yaxis": {
           "automargin": true,
           "gridcolor": "white",
           "linecolor": "white",
           "ticks": "",
           "title": {
            "standoff": 15
           },
           "zerolinecolor": "white",
           "zerolinewidth": 2
          }
         }
        },
        "title": {
         "text": "Haar Transform Index - 2 Levels - Avg Distance Calc by Radius Rank"
        },
        "width": 1200,
        "xaxis": {
         "categoryarray": [
          "Haar Lvl 2 (64 bins)",
          "Haar Lvl 3 (32 bins)",
          "Haar Lvl 4 (16 bins)",
          "Haar Lvl 5 (8 bins)",
          "Haar Lvl 6 (4 bins)",
          "Haar Lvl 7 (2 bins)"
         ],
         "categoryorder": "array",
         "title": {
          "text": "Data Representation"
         }
        },
        "yaxis": {
         "title": {
          "text": "Average Distance Calculations"
         }
        }
       }
      }
     },
     "metadata": {},
     "output_type": "display_data"
    },
    {
     "name": "stdout",
     "output_type": "stream",
     "text": [
      "\n",
      "Average Distance Calculation plots by rank generated for selected trees.\n"
     ]
    }
   ],
   "source": [
    "# --- Mappings ---\n",
    "tree_title_map = {\n",
    "    \"tree-0\": \"Haar Transform Index - 0 Levels\",\n",
    "    \"tree-1\": \"Haar Transform Index - 1 Level\",\n",
    "    \"tree-2\": \"Haar Transform Index - 2 Levels\",\n",
    "}\n",
    "\n",
    "data_label_map = {\n",
    "    \"data-0\": \"Haar Lvl 0 (256 bins)\",\n",
    "    \"data-1\": \"Haar Lvl 1 (128 bins)\",\n",
    "    \"data-2\": \"Haar Lvl 2 (64 bins)\",\n",
    "    \"data-3\": \"Haar Lvl 3 (32 bins)\",\n",
    "    \"data-4\": \"Haar Lvl 4 (16 bins)\",\n",
    "    \"data-5\": \"Haar Lvl 5 (8 bins)\",\n",
    "    \"data-6\": \"Haar Lvl 6 (4 bins)\",\n",
    "    \"data-7\": \"Haar Lvl 7 (2 bins)\",\n",
    "}\n",
    "\n",
    "# --- Constants ---\n",
    "REFERENCE_DISTANCE_VALUE = 20580\n",
    "TARGET_TREES = [\"tree-0\", \"tree-1\", \"tree-2\"]\n",
    "# Define marker symbols for different rank lines\n",
    "marker_symbols = ['circle', 'square', 'diamond', 'cross', 'x', 'triangle-up',\n",
    "                  'pentagon', 'hexagon', 'star', 'triangle-down'] # Add more if needed\n",
    "\n",
    "# --- Plotting Logic ---\n",
    "for tree_name, tree_data in all_data.items():\n",
    "    # Filter for target trees\n",
    "    if tree_name not in TARGET_TREES:\n",
    "        continue\n",
    "\n",
    "    if not isinstance(tree_data, dict):\n",
    "        print(f\"Skipping {tree_name}: Data is not in the expected dictionary format.\")\n",
    "        continue\n",
    "\n",
    "    fig = go.Figure()\n",
    "    original_data_labels = sorted([k for k in tree_data.keys() if k.startswith('data-')])\n",
    "    if not original_data_labels:\n",
    "        print(f\"Skipping {tree_name}: No 'data-X' keys found.\")\n",
    "        continue\n",
    "    x_axis_labels = [data_label_map.get(lbl, lbl) for lbl in original_data_labels]\n",
    "\n",
    "    processed_data = {}\n",
    "    max_rank = 0\n",
    "\n",
    "    # --- Step 1: Extract and Rank Data ---\n",
    "    for data_label in original_data_labels:\n",
    "        data_set = tree_data.get(data_label, {})\n",
    "        if not isinstance(data_set, dict):\n",
    "            print(f\"Warning: Skipping {data_label} in {tree_name}: Data is not a dictionary.\")\n",
    "            processed_data[data_label] = []\n",
    "            continue\n",
    "\n",
    "        sorted_radii = sorted(\n",
    "            [item for item in data_set.items() if isinstance(item[1], dict) and 'radius' in item[1]],\n",
    "            key=lambda item: item[1].get('radius', -1),\n",
    "            reverse=True\n",
    "        )\n",
    "        processed_data[data_label] = sorted_radii\n",
    "        max_rank = max(max_rank, len(sorted_radii))\n",
    "\n",
    "    if max_rank == 0:\n",
    "        print(f\"Skipping {tree_name}: No valid radius data found across all data keys.\")\n",
    "        continue\n",
    "\n",
    "    # --- Step 2: Structure Data by Rank Across Datasets ---\n",
    "    for rank in range(max_rank):\n",
    "        rank_avg_dist = [] # Changed variable name\n",
    "        rank_avg_obj = []\n",
    "        for data_label in original_data_labels:\n",
    "            sorted_radii = processed_data.get(data_label, [])\n",
    "            if rank < len(sorted_radii):\n",
    "                radius_key, radius_data = sorted_radii[rank]\n",
    "                if isinstance(radius_data, dict):\n",
    "                     # Get 'avg_dist_calc'\n",
    "                    rank_avg_dist.append(radius_data.get('avg_dist_calc'))\n",
    "                    rank_avg_obj.append(radius_data.get('avg_obj_result'))\n",
    "                else:\n",
    "                    rank_avg_dist.append(None)\n",
    "                    rank_avg_obj.append(None)\n",
    "            else:\n",
    "                rank_avg_dist.append(None)\n",
    "                rank_avg_obj.append(None)\n",
    "\n",
    "        # Only add trace if there is at least one non-None value for this rank\n",
    "        if not all(v is None for v in rank_avg_dist):\n",
    "            valid_avg_objs = [obj for obj in rank_avg_obj if obj is not None]\n",
    "            avg_legend = np.nanmean(valid_avg_objs) if valid_avg_objs else float('nan')\n",
    "            legend_name = f\"Rank {rank + 1} (Avg Obj: {avg_legend:.3f})\"\n",
    "            # Select marker symbol for this rank\n",
    "            marker_symbol = marker_symbols[rank % len(marker_symbols)]\n",
    "\n",
    "            fig.add_trace(go.Scatter(\n",
    "                x=x_axis_labels,\n",
    "                y=rank_avg_dist, # Use avg_dist data\n",
    "                mode='lines+markers',\n",
    "                name=legend_name,\n",
    "                marker=dict(symbol=marker_symbol, size=7), # <<< ADDED/MODIFIED MARKER\n",
    "                line=dict(width=2),\n",
    "                hovertemplate = (\n",
    "                    f\"<b>{tree_title_map.get(tree_name, tree_name)}</b><br>\" +\n",
    "                    'Representation: %{x}<br>' +\n",
    "                    'Avg Dist Calc: %{y:.2f}<br>' + # Updated label and formatting\n",
    "                    f'Rank: {rank + 1}<br>' +\n",
    "                    f'Avg Obj Result (Line Avg): {avg_legend:.3f}' +\n",
    "                    '<extra></extra>'\n",
    "                )\n",
    "            ))\n",
    "\n",
    "    # --- Step 3: Add Reference Line and Finalize Layout ---\n",
    "    fig.add_hline(\n",
    "        y=REFERENCE_DISTANCE_VALUE,\n",
    "        line_dash=\"dot\",\n",
    "        annotation_text=\"Distance Reference\",\n",
    "        annotation_position=\"bottom right\"\n",
    "    )\n",
    "\n",
    "    fig.update_layout(\n",
    "        title=f\"{tree_title_map.get(tree_name, tree_name)} - Avg Distance Calc by Radius Rank\", # Updated title\n",
    "        xaxis_title=\"Data Representation\",\n",
    "        yaxis_title=\"Average Distance Calculations\",\n",
    "        legend_title=\"Rank (Highest Radius = Rank 1)\",\n",
    "        hovermode=\"x unified\",\n",
    "        xaxis={'categoryorder':'array', 'categoryarray':x_axis_labels},\n",
    "        width=1200,  # Largura\n",
    "        height=600\n",
    "    )\n",
    "\n",
    "    # --- Step 4: Show Plot ---\n",
    "    fig.show()\n",
    "\n",
    "print(\"\\nAverage Distance Calculation plots by rank generated for selected trees.\")"
   ]
  },
  {
   "cell_type": "code",
   "execution_count": 10,
   "id": "e95aab0d",
   "metadata": {},
   "outputs": [
    {
     "name": "stdout",
     "output_type": "stream",
     "text": [
      "{'tree-0': {'data-0': {'page_size-32768': {'avg_time': 17.7356, 'disk_access': 1245.31, 'avg_dist_calc': 6830.79, 'avg_obj_result': 15.044, 'radius': 22830, 'num_consults': 500, 'seq_disk_access': 1372}, 'page_size-65536': {'avg_time': 14.5775, 'disk_access': 523.162, 'avg_dist_calc': 6016.61, 'avg_obj_result': 15.044, 'radius': 22830, 'num_consults': 500, 'seq_disk_access': 664}, 'page_size-131072': {'avg_time': 13.8582, 'disk_access': 258.174, 'avg_dist_calc': 5889.81, 'avg_obj_result': 15.044, 'radius': 22830, 'num_consults': 500, 'seq_disk_access': 332}, 'page_size-262144': {'avg_time': 13.8663, 'disk_access': 135.91, 'avg_dist_calc': 5935.15, 'avg_obj_result': 15.044, 'radius': 22830, 'num_consults': 500, 'seq_disk_access': 165}}, 'data-1': {'page_size-32768': {'avg_time': 36.2339, 'disk_access': 1246.5, 'avg_dist_calc': 9307.16, 'avg_obj_result': 15.09, 'radius': 11320, 'num_consults': 500, 'seq_disk_access': 1372}, 'page_size-65536': {'avg_time': 33.7726, 'disk_access': 523.536, 'avg_dist_calc': 9068.66, 'avg_obj_result': 15.09, 'radius': 11320, 'num_consults': 500, 'seq_disk_access': 664}, 'page_size-131072': {'avg_time': 35.2121, 'disk_access': 258.32, 'avg_dist_calc': 9577.82, 'avg_obj_result': 15.09, 'radius': 11320, 'num_consults': 500, 'seq_disk_access': 332}, 'page_size-262144': {'avg_time': 37.4613, 'disk_access': 135.902, 'avg_dist_calc': 10220.1, 'avg_obj_result': 15.09, 'radius': 11320, 'num_consults': 500, 'seq_disk_access': 165}}}}\n"
     ]
    },
    {
     "data": {
      "application/vnd.plotly.v1+json": {
       "config": {
        "plotlyServerURL": "https://plot.ly"
       },
       "data": [
        {
         "mode": "lines+markers",
         "name": "Disk Access / Seq. Disk Access (%)",
         "type": "scatter",
         "x": [
          32768,
          65536,
          131072,
          262144
         ],
         "y": [
          90.76603498542273,
          78.78945783132531,
          77.76325301204818,
          82.36969696969697
         ]
        }
       ],
       "layout": {
        "height": 600,
        "template": {
         "data": {
          "bar": [
           {
            "error_x": {
             "color": "#2a3f5f"
            },
            "error_y": {
             "color": "#2a3f5f"
            },
            "marker": {
             "line": {
              "color": "#E5ECF6",
              "width": 0.5
             },
             "pattern": {
              "fillmode": "overlay",
              "size": 10,
              "solidity": 0.2
             }
            },
            "type": "bar"
           }
          ],
          "barpolar": [
           {
            "marker": {
             "line": {
              "color": "#E5ECF6",
              "width": 0.5
             },
             "pattern": {
              "fillmode": "overlay",
              "size": 10,
              "solidity": 0.2
             }
            },
            "type": "barpolar"
           }
          ],
          "carpet": [
           {
            "aaxis": {
             "endlinecolor": "#2a3f5f",
             "gridcolor": "white",
             "linecolor": "white",
             "minorgridcolor": "white",
             "startlinecolor": "#2a3f5f"
            },
            "baxis": {
             "endlinecolor": "#2a3f5f",
             "gridcolor": "white",
             "linecolor": "white",
             "minorgridcolor": "white",
             "startlinecolor": "#2a3f5f"
            },
            "type": "carpet"
           }
          ],
          "choropleth": [
           {
            "colorbar": {
             "outlinewidth": 0,
             "ticks": ""
            },
            "type": "choropleth"
           }
          ],
          "contour": [
           {
            "colorbar": {
             "outlinewidth": 0,
             "ticks": ""
            },
            "colorscale": [
             [
              0,
              "#0d0887"
             ],
             [
              0.1111111111111111,
              "#46039f"
             ],
             [
              0.2222222222222222,
              "#7201a8"
             ],
             [
              0.3333333333333333,
              "#9c179e"
             ],
             [
              0.4444444444444444,
              "#bd3786"
             ],
             [
              0.5555555555555556,
              "#d8576b"
             ],
             [
              0.6666666666666666,
              "#ed7953"
             ],
             [
              0.7777777777777778,
              "#fb9f3a"
             ],
             [
              0.8888888888888888,
              "#fdca26"
             ],
             [
              1,
              "#f0f921"
             ]
            ],
            "type": "contour"
           }
          ],
          "contourcarpet": [
           {
            "colorbar": {
             "outlinewidth": 0,
             "ticks": ""
            },
            "type": "contourcarpet"
           }
          ],
          "heatmap": [
           {
            "colorbar": {
             "outlinewidth": 0,
             "ticks": ""
            },
            "colorscale": [
             [
              0,
              "#0d0887"
             ],
             [
              0.1111111111111111,
              "#46039f"
             ],
             [
              0.2222222222222222,
              "#7201a8"
             ],
             [
              0.3333333333333333,
              "#9c179e"
             ],
             [
              0.4444444444444444,
              "#bd3786"
             ],
             [
              0.5555555555555556,
              "#d8576b"
             ],
             [
              0.6666666666666666,
              "#ed7953"
             ],
             [
              0.7777777777777778,
              "#fb9f3a"
             ],
             [
              0.8888888888888888,
              "#fdca26"
             ],
             [
              1,
              "#f0f921"
             ]
            ],
            "type": "heatmap"
           }
          ],
          "histogram": [
           {
            "marker": {
             "pattern": {
              "fillmode": "overlay",
              "size": 10,
              "solidity": 0.2
             }
            },
            "type": "histogram"
           }
          ],
          "histogram2d": [
           {
            "colorbar": {
             "outlinewidth": 0,
             "ticks": ""
            },
            "colorscale": [
             [
              0,
              "#0d0887"
             ],
             [
              0.1111111111111111,
              "#46039f"
             ],
             [
              0.2222222222222222,
              "#7201a8"
             ],
             [
              0.3333333333333333,
              "#9c179e"
             ],
             [
              0.4444444444444444,
              "#bd3786"
             ],
             [
              0.5555555555555556,
              "#d8576b"
             ],
             [
              0.6666666666666666,
              "#ed7953"
             ],
             [
              0.7777777777777778,
              "#fb9f3a"
             ],
             [
              0.8888888888888888,
              "#fdca26"
             ],
             [
              1,
              "#f0f921"
             ]
            ],
            "type": "histogram2d"
           }
          ],
          "histogram2dcontour": [
           {
            "colorbar": {
             "outlinewidth": 0,
             "ticks": ""
            },
            "colorscale": [
             [
              0,
              "#0d0887"
             ],
             [
              0.1111111111111111,
              "#46039f"
             ],
             [
              0.2222222222222222,
              "#7201a8"
             ],
             [
              0.3333333333333333,
              "#9c179e"
             ],
             [
              0.4444444444444444,
              "#bd3786"
             ],
             [
              0.5555555555555556,
              "#d8576b"
             ],
             [
              0.6666666666666666,
              "#ed7953"
             ],
             [
              0.7777777777777778,
              "#fb9f3a"
             ],
             [
              0.8888888888888888,
              "#fdca26"
             ],
             [
              1,
              "#f0f921"
             ]
            ],
            "type": "histogram2dcontour"
           }
          ],
          "mesh3d": [
           {
            "colorbar": {
             "outlinewidth": 0,
             "ticks": ""
            },
            "type": "mesh3d"
           }
          ],
          "parcoords": [
           {
            "line": {
             "colorbar": {
              "outlinewidth": 0,
              "ticks": ""
             }
            },
            "type": "parcoords"
           }
          ],
          "pie": [
           {
            "automargin": true,
            "type": "pie"
           }
          ],
          "scatter": [
           {
            "fillpattern": {
             "fillmode": "overlay",
             "size": 10,
             "solidity": 0.2
            },
            "type": "scatter"
           }
          ],
          "scatter3d": [
           {
            "line": {
             "colorbar": {
              "outlinewidth": 0,
              "ticks": ""
             }
            },
            "marker": {
             "colorbar": {
              "outlinewidth": 0,
              "ticks": ""
             }
            },
            "type": "scatter3d"
           }
          ],
          "scattercarpet": [
           {
            "marker": {
             "colorbar": {
              "outlinewidth": 0,
              "ticks": ""
             }
            },
            "type": "scattercarpet"
           }
          ],
          "scattergeo": [
           {
            "marker": {
             "colorbar": {
              "outlinewidth": 0,
              "ticks": ""
             }
            },
            "type": "scattergeo"
           }
          ],
          "scattergl": [
           {
            "marker": {
             "colorbar": {
              "outlinewidth": 0,
              "ticks": ""
             }
            },
            "type": "scattergl"
           }
          ],
          "scattermap": [
           {
            "marker": {
             "colorbar": {
              "outlinewidth": 0,
              "ticks": ""
             }
            },
            "type": "scattermap"
           }
          ],
          "scattermapbox": [
           {
            "marker": {
             "colorbar": {
              "outlinewidth": 0,
              "ticks": ""
             }
            },
            "type": "scattermapbox"
           }
          ],
          "scatterpolar": [
           {
            "marker": {
             "colorbar": {
              "outlinewidth": 0,
              "ticks": ""
             }
            },
            "type": "scatterpolar"
           }
          ],
          "scatterpolargl": [
           {
            "marker": {
             "colorbar": {
              "outlinewidth": 0,
              "ticks": ""
             }
            },
            "type": "scatterpolargl"
           }
          ],
          "scatterternary": [
           {
            "marker": {
             "colorbar": {
              "outlinewidth": 0,
              "ticks": ""
             }
            },
            "type": "scatterternary"
           }
          ],
          "surface": [
           {
            "colorbar": {
             "outlinewidth": 0,
             "ticks": ""
            },
            "colorscale": [
             [
              0,
              "#0d0887"
             ],
             [
              0.1111111111111111,
              "#46039f"
             ],
             [
              0.2222222222222222,
              "#7201a8"
             ],
             [
              0.3333333333333333,
              "#9c179e"
             ],
             [
              0.4444444444444444,
              "#bd3786"
             ],
             [
              0.5555555555555556,
              "#d8576b"
             ],
             [
              0.6666666666666666,
              "#ed7953"
             ],
             [
              0.7777777777777778,
              "#fb9f3a"
             ],
             [
              0.8888888888888888,
              "#fdca26"
             ],
             [
              1,
              "#f0f921"
             ]
            ],
            "type": "surface"
           }
          ],
          "table": [
           {
            "cells": {
             "fill": {
              "color": "#EBF0F8"
             },
             "line": {
              "color": "white"
             }
            },
            "header": {
             "fill": {
              "color": "#C8D4E3"
             },
             "line": {
              "color": "white"
             }
            },
            "type": "table"
           }
          ]
         },
         "layout": {
          "annotationdefaults": {
           "arrowcolor": "#2a3f5f",
           "arrowhead": 0,
           "arrowwidth": 1
          },
          "autotypenumbers": "strict",
          "coloraxis": {
           "colorbar": {
            "outlinewidth": 0,
            "ticks": ""
           }
          },
          "colorscale": {
           "diverging": [
            [
             0,
             "#8e0152"
            ],
            [
             0.1,
             "#c51b7d"
            ],
            [
             0.2,
             "#de77ae"
            ],
            [
             0.3,
             "#f1b6da"
            ],
            [
             0.4,
             "#fde0ef"
            ],
            [
             0.5,
             "#f7f7f7"
            ],
            [
             0.6,
             "#e6f5d0"
            ],
            [
             0.7,
             "#b8e186"
            ],
            [
             0.8,
             "#7fbc41"
            ],
            [
             0.9,
             "#4d9221"
            ],
            [
             1,
             "#276419"
            ]
           ],
           "sequential": [
            [
             0,
             "#0d0887"
            ],
            [
             0.1111111111111111,
             "#46039f"
            ],
            [
             0.2222222222222222,
             "#7201a8"
            ],
            [
             0.3333333333333333,
             "#9c179e"
            ],
            [
             0.4444444444444444,
             "#bd3786"
            ],
            [
             0.5555555555555556,
             "#d8576b"
            ],
            [
             0.6666666666666666,
             "#ed7953"
            ],
            [
             0.7777777777777778,
             "#fb9f3a"
            ],
            [
             0.8888888888888888,
             "#fdca26"
            ],
            [
             1,
             "#f0f921"
            ]
           ],
           "sequentialminus": [
            [
             0,
             "#0d0887"
            ],
            [
             0.1111111111111111,
             "#46039f"
            ],
            [
             0.2222222222222222,
             "#7201a8"
            ],
            [
             0.3333333333333333,
             "#9c179e"
            ],
            [
             0.4444444444444444,
             "#bd3786"
            ],
            [
             0.5555555555555556,
             "#d8576b"
            ],
            [
             0.6666666666666666,
             "#ed7953"
            ],
            [
             0.7777777777777778,
             "#fb9f3a"
            ],
            [
             0.8888888888888888,
             "#fdca26"
            ],
            [
             1,
             "#f0f921"
            ]
           ]
          },
          "colorway": [
           "#636efa",
           "#EF553B",
           "#00cc96",
           "#ab63fa",
           "#FFA15A",
           "#19d3f3",
           "#FF6692",
           "#B6E880",
           "#FF97FF",
           "#FECB52"
          ],
          "font": {
           "color": "#2a3f5f"
          },
          "geo": {
           "bgcolor": "white",
           "lakecolor": "white",
           "landcolor": "#E5ECF6",
           "showlakes": true,
           "showland": true,
           "subunitcolor": "white"
          },
          "hoverlabel": {
           "align": "left"
          },
          "hovermode": "closest",
          "mapbox": {
           "style": "light"
          },
          "paper_bgcolor": "white",
          "plot_bgcolor": "#E5ECF6",
          "polar": {
           "angularaxis": {
            "gridcolor": "white",
            "linecolor": "white",
            "ticks": ""
           },
           "bgcolor": "#E5ECF6",
           "radialaxis": {
            "gridcolor": "white",
            "linecolor": "white",
            "ticks": ""
           }
          },
          "scene": {
           "xaxis": {
            "backgroundcolor": "#E5ECF6",
            "gridcolor": "white",
            "gridwidth": 2,
            "linecolor": "white",
            "showbackground": true,
            "ticks": "",
            "zerolinecolor": "white"
           },
           "yaxis": {
            "backgroundcolor": "#E5ECF6",
            "gridcolor": "white",
            "gridwidth": 2,
            "linecolor": "white",
            "showbackground": true,
            "ticks": "",
            "zerolinecolor": "white"
           },
           "zaxis": {
            "backgroundcolor": "#E5ECF6",
            "gridcolor": "white",
            "gridwidth": 2,
            "linecolor": "white",
            "showbackground": true,
            "ticks": "",
            "zerolinecolor": "white"
           }
          },
          "shapedefaults": {
           "line": {
            "color": "#2a3f5f"
           }
          },
          "ternary": {
           "aaxis": {
            "gridcolor": "white",
            "linecolor": "white",
            "ticks": ""
           },
           "baxis": {
            "gridcolor": "white",
            "linecolor": "white",
            "ticks": ""
           },
           "bgcolor": "#E5ECF6",
           "caxis": {
            "gridcolor": "white",
            "linecolor": "white",
            "ticks": ""
           }
          },
          "title": {
           "x": 0.05
          },
          "xaxis": {
           "automargin": true,
           "gridcolor": "white",
           "linecolor": "white",
           "ticks": "",
           "title": {
            "standoff": 15
           },
           "zerolinecolor": "white",
           "zerolinewidth": 2
          },
          "yaxis": {
           "automargin": true,
           "gridcolor": "white",
           "linecolor": "white",
           "ticks": "",
           "title": {
            "standoff": 15
           },
           "zerolinecolor": "white",
           "zerolinewidth": 2
          }
         }
        },
        "title": {
         "text": "Percentage of Disk Accesses (0 - Haar Transform (256 bins))"
        },
        "width": 800,
        "xaxis": {
         "title": {
          "text": "Page Size (bytes)"
         }
        },
        "yaxis": {
         "title": {
          "text": "Disk Access / Total Disk Pages"
         }
        }
       }
      }
     },
     "metadata": {},
     "output_type": "display_data"
    },
    {
     "data": {
      "application/vnd.plotly.v1+json": {
       "config": {
        "plotlyServerURL": "https://plot.ly"
       },
       "data": [
        {
         "mode": "lines+markers",
         "name": "Disk Access / Seq. Disk Access (%)",
         "type": "scatter",
         "x": [
          32768,
          65536,
          131072,
          262144
         ],
         "y": [
          90.8527696793003,
          78.84578313253012,
          77.80722891566265,
          82.36484848484848
         ]
        }
       ],
       "layout": {
        "height": 600,
        "template": {
         "data": {
          "bar": [
           {
            "error_x": {
             "color": "#2a3f5f"
            },
            "error_y": {
             "color": "#2a3f5f"
            },
            "marker": {
             "line": {
              "color": "#E5ECF6",
              "width": 0.5
             },
             "pattern": {
              "fillmode": "overlay",
              "size": 10,
              "solidity": 0.2
             }
            },
            "type": "bar"
           }
          ],
          "barpolar": [
           {
            "marker": {
             "line": {
              "color": "#E5ECF6",
              "width": 0.5
             },
             "pattern": {
              "fillmode": "overlay",
              "size": 10,
              "solidity": 0.2
             }
            },
            "type": "barpolar"
           }
          ],
          "carpet": [
           {
            "aaxis": {
             "endlinecolor": "#2a3f5f",
             "gridcolor": "white",
             "linecolor": "white",
             "minorgridcolor": "white",
             "startlinecolor": "#2a3f5f"
            },
            "baxis": {
             "endlinecolor": "#2a3f5f",
             "gridcolor": "white",
             "linecolor": "white",
             "minorgridcolor": "white",
             "startlinecolor": "#2a3f5f"
            },
            "type": "carpet"
           }
          ],
          "choropleth": [
           {
            "colorbar": {
             "outlinewidth": 0,
             "ticks": ""
            },
            "type": "choropleth"
           }
          ],
          "contour": [
           {
            "colorbar": {
             "outlinewidth": 0,
             "ticks": ""
            },
            "colorscale": [
             [
              0,
              "#0d0887"
             ],
             [
              0.1111111111111111,
              "#46039f"
             ],
             [
              0.2222222222222222,
              "#7201a8"
             ],
             [
              0.3333333333333333,
              "#9c179e"
             ],
             [
              0.4444444444444444,
              "#bd3786"
             ],
             [
              0.5555555555555556,
              "#d8576b"
             ],
             [
              0.6666666666666666,
              "#ed7953"
             ],
             [
              0.7777777777777778,
              "#fb9f3a"
             ],
             [
              0.8888888888888888,
              "#fdca26"
             ],
             [
              1,
              "#f0f921"
             ]
            ],
            "type": "contour"
           }
          ],
          "contourcarpet": [
           {
            "colorbar": {
             "outlinewidth": 0,
             "ticks": ""
            },
            "type": "contourcarpet"
           }
          ],
          "heatmap": [
           {
            "colorbar": {
             "outlinewidth": 0,
             "ticks": ""
            },
            "colorscale": [
             [
              0,
              "#0d0887"
             ],
             [
              0.1111111111111111,
              "#46039f"
             ],
             [
              0.2222222222222222,
              "#7201a8"
             ],
             [
              0.3333333333333333,
              "#9c179e"
             ],
             [
              0.4444444444444444,
              "#bd3786"
             ],
             [
              0.5555555555555556,
              "#d8576b"
             ],
             [
              0.6666666666666666,
              "#ed7953"
             ],
             [
              0.7777777777777778,
              "#fb9f3a"
             ],
             [
              0.8888888888888888,
              "#fdca26"
             ],
             [
              1,
              "#f0f921"
             ]
            ],
            "type": "heatmap"
           }
          ],
          "histogram": [
           {
            "marker": {
             "pattern": {
              "fillmode": "overlay",
              "size": 10,
              "solidity": 0.2
             }
            },
            "type": "histogram"
           }
          ],
          "histogram2d": [
           {
            "colorbar": {
             "outlinewidth": 0,
             "ticks": ""
            },
            "colorscale": [
             [
              0,
              "#0d0887"
             ],
             [
              0.1111111111111111,
              "#46039f"
             ],
             [
              0.2222222222222222,
              "#7201a8"
             ],
             [
              0.3333333333333333,
              "#9c179e"
             ],
             [
              0.4444444444444444,
              "#bd3786"
             ],
             [
              0.5555555555555556,
              "#d8576b"
             ],
             [
              0.6666666666666666,
              "#ed7953"
             ],
             [
              0.7777777777777778,
              "#fb9f3a"
             ],
             [
              0.8888888888888888,
              "#fdca26"
             ],
             [
              1,
              "#f0f921"
             ]
            ],
            "type": "histogram2d"
           }
          ],
          "histogram2dcontour": [
           {
            "colorbar": {
             "outlinewidth": 0,
             "ticks": ""
            },
            "colorscale": [
             [
              0,
              "#0d0887"
             ],
             [
              0.1111111111111111,
              "#46039f"
             ],
             [
              0.2222222222222222,
              "#7201a8"
             ],
             [
              0.3333333333333333,
              "#9c179e"
             ],
             [
              0.4444444444444444,
              "#bd3786"
             ],
             [
              0.5555555555555556,
              "#d8576b"
             ],
             [
              0.6666666666666666,
              "#ed7953"
             ],
             [
              0.7777777777777778,
              "#fb9f3a"
             ],
             [
              0.8888888888888888,
              "#fdca26"
             ],
             [
              1,
              "#f0f921"
             ]
            ],
            "type": "histogram2dcontour"
           }
          ],
          "mesh3d": [
           {
            "colorbar": {
             "outlinewidth": 0,
             "ticks": ""
            },
            "type": "mesh3d"
           }
          ],
          "parcoords": [
           {
            "line": {
             "colorbar": {
              "outlinewidth": 0,
              "ticks": ""
             }
            },
            "type": "parcoords"
           }
          ],
          "pie": [
           {
            "automargin": true,
            "type": "pie"
           }
          ],
          "scatter": [
           {
            "fillpattern": {
             "fillmode": "overlay",
             "size": 10,
             "solidity": 0.2
            },
            "type": "scatter"
           }
          ],
          "scatter3d": [
           {
            "line": {
             "colorbar": {
              "outlinewidth": 0,
              "ticks": ""
             }
            },
            "marker": {
             "colorbar": {
              "outlinewidth": 0,
              "ticks": ""
             }
            },
            "type": "scatter3d"
           }
          ],
          "scattercarpet": [
           {
            "marker": {
             "colorbar": {
              "outlinewidth": 0,
              "ticks": ""
             }
            },
            "type": "scattercarpet"
           }
          ],
          "scattergeo": [
           {
            "marker": {
             "colorbar": {
              "outlinewidth": 0,
              "ticks": ""
             }
            },
            "type": "scattergeo"
           }
          ],
          "scattergl": [
           {
            "marker": {
             "colorbar": {
              "outlinewidth": 0,
              "ticks": ""
             }
            },
            "type": "scattergl"
           }
          ],
          "scattermap": [
           {
            "marker": {
             "colorbar": {
              "outlinewidth": 0,
              "ticks": ""
             }
            },
            "type": "scattermap"
           }
          ],
          "scattermapbox": [
           {
            "marker": {
             "colorbar": {
              "outlinewidth": 0,
              "ticks": ""
             }
            },
            "type": "scattermapbox"
           }
          ],
          "scatterpolar": [
           {
            "marker": {
             "colorbar": {
              "outlinewidth": 0,
              "ticks": ""
             }
            },
            "type": "scatterpolar"
           }
          ],
          "scatterpolargl": [
           {
            "marker": {
             "colorbar": {
              "outlinewidth": 0,
              "ticks": ""
             }
            },
            "type": "scatterpolargl"
           }
          ],
          "scatterternary": [
           {
            "marker": {
             "colorbar": {
              "outlinewidth": 0,
              "ticks": ""
             }
            },
            "type": "scatterternary"
           }
          ],
          "surface": [
           {
            "colorbar": {
             "outlinewidth": 0,
             "ticks": ""
            },
            "colorscale": [
             [
              0,
              "#0d0887"
             ],
             [
              0.1111111111111111,
              "#46039f"
             ],
             [
              0.2222222222222222,
              "#7201a8"
             ],
             [
              0.3333333333333333,
              "#9c179e"
             ],
             [
              0.4444444444444444,
              "#bd3786"
             ],
             [
              0.5555555555555556,
              "#d8576b"
             ],
             [
              0.6666666666666666,
              "#ed7953"
             ],
             [
              0.7777777777777778,
              "#fb9f3a"
             ],
             [
              0.8888888888888888,
              "#fdca26"
             ],
             [
              1,
              "#f0f921"
             ]
            ],
            "type": "surface"
           }
          ],
          "table": [
           {
            "cells": {
             "fill": {
              "color": "#EBF0F8"
             },
             "line": {
              "color": "white"
             }
            },
            "header": {
             "fill": {
              "color": "#C8D4E3"
             },
             "line": {
              "color": "white"
             }
            },
            "type": "table"
           }
          ]
         },
         "layout": {
          "annotationdefaults": {
           "arrowcolor": "#2a3f5f",
           "arrowhead": 0,
           "arrowwidth": 1
          },
          "autotypenumbers": "strict",
          "coloraxis": {
           "colorbar": {
            "outlinewidth": 0,
            "ticks": ""
           }
          },
          "colorscale": {
           "diverging": [
            [
             0,
             "#8e0152"
            ],
            [
             0.1,
             "#c51b7d"
            ],
            [
             0.2,
             "#de77ae"
            ],
            [
             0.3,
             "#f1b6da"
            ],
            [
             0.4,
             "#fde0ef"
            ],
            [
             0.5,
             "#f7f7f7"
            ],
            [
             0.6,
             "#e6f5d0"
            ],
            [
             0.7,
             "#b8e186"
            ],
            [
             0.8,
             "#7fbc41"
            ],
            [
             0.9,
             "#4d9221"
            ],
            [
             1,
             "#276419"
            ]
           ],
           "sequential": [
            [
             0,
             "#0d0887"
            ],
            [
             0.1111111111111111,
             "#46039f"
            ],
            [
             0.2222222222222222,
             "#7201a8"
            ],
            [
             0.3333333333333333,
             "#9c179e"
            ],
            [
             0.4444444444444444,
             "#bd3786"
            ],
            [
             0.5555555555555556,
             "#d8576b"
            ],
            [
             0.6666666666666666,
             "#ed7953"
            ],
            [
             0.7777777777777778,
             "#fb9f3a"
            ],
            [
             0.8888888888888888,
             "#fdca26"
            ],
            [
             1,
             "#f0f921"
            ]
           ],
           "sequentialminus": [
            [
             0,
             "#0d0887"
            ],
            [
             0.1111111111111111,
             "#46039f"
            ],
            [
             0.2222222222222222,
             "#7201a8"
            ],
            [
             0.3333333333333333,
             "#9c179e"
            ],
            [
             0.4444444444444444,
             "#bd3786"
            ],
            [
             0.5555555555555556,
             "#d8576b"
            ],
            [
             0.6666666666666666,
             "#ed7953"
            ],
            [
             0.7777777777777778,
             "#fb9f3a"
            ],
            [
             0.8888888888888888,
             "#fdca26"
            ],
            [
             1,
             "#f0f921"
            ]
           ]
          },
          "colorway": [
           "#636efa",
           "#EF553B",
           "#00cc96",
           "#ab63fa",
           "#FFA15A",
           "#19d3f3",
           "#FF6692",
           "#B6E880",
           "#FF97FF",
           "#FECB52"
          ],
          "font": {
           "color": "#2a3f5f"
          },
          "geo": {
           "bgcolor": "white",
           "lakecolor": "white",
           "landcolor": "#E5ECF6",
           "showlakes": true,
           "showland": true,
           "subunitcolor": "white"
          },
          "hoverlabel": {
           "align": "left"
          },
          "hovermode": "closest",
          "mapbox": {
           "style": "light"
          },
          "paper_bgcolor": "white",
          "plot_bgcolor": "#E5ECF6",
          "polar": {
           "angularaxis": {
            "gridcolor": "white",
            "linecolor": "white",
            "ticks": ""
           },
           "bgcolor": "#E5ECF6",
           "radialaxis": {
            "gridcolor": "white",
            "linecolor": "white",
            "ticks": ""
           }
          },
          "scene": {
           "xaxis": {
            "backgroundcolor": "#E5ECF6",
            "gridcolor": "white",
            "gridwidth": 2,
            "linecolor": "white",
            "showbackground": true,
            "ticks": "",
            "zerolinecolor": "white"
           },
           "yaxis": {
            "backgroundcolor": "#E5ECF6",
            "gridcolor": "white",
            "gridwidth": 2,
            "linecolor": "white",
            "showbackground": true,
            "ticks": "",
            "zerolinecolor": "white"
           },
           "zaxis": {
            "backgroundcolor": "#E5ECF6",
            "gridcolor": "white",
            "gridwidth": 2,
            "linecolor": "white",
            "showbackground": true,
            "ticks": "",
            "zerolinecolor": "white"
           }
          },
          "shapedefaults": {
           "line": {
            "color": "#2a3f5f"
           }
          },
          "ternary": {
           "aaxis": {
            "gridcolor": "white",
            "linecolor": "white",
            "ticks": ""
           },
           "baxis": {
            "gridcolor": "white",
            "linecolor": "white",
            "ticks": ""
           },
           "bgcolor": "#E5ECF6",
           "caxis": {
            "gridcolor": "white",
            "linecolor": "white",
            "ticks": ""
           }
          },
          "title": {
           "x": 0.05
          },
          "xaxis": {
           "automargin": true,
           "gridcolor": "white",
           "linecolor": "white",
           "ticks": "",
           "title": {
            "standoff": 15
           },
           "zerolinecolor": "white",
           "zerolinewidth": 2
          },
          "yaxis": {
           "automargin": true,
           "gridcolor": "white",
           "linecolor": "white",
           "ticks": "",
           "title": {
            "standoff": 15
           },
           "zerolinecolor": "white",
           "zerolinewidth": 2
          }
         }
        },
        "title": {
         "text": "Percentage of Disk Accesses (1 - Haar Transform (128 bins))"
        },
        "width": 800,
        "xaxis": {
         "title": {
          "text": "Page Size (bytes)"
         }
        },
        "yaxis": {
         "title": {
          "text": "Disk Access / Total Disk Pages"
         }
        }
       }
      }
     },
     "metadata": {},
     "output_type": "display_data"
    }
   ],
   "source": [
    "import plotly.graph_objects as go\n",
    "import json\n",
    "\n",
    "with open('results_page.json', 'r', encoding='utf-8') as arquivo:\n",
    "    dados  = json.load(arquivo)\n",
    "\n",
    "print(dados)\n",
    "\n",
    "# Gráfico de porcentagem para data-0\n",
    "tamanhos_pagina_0 = []\n",
    "porcentagens_0 = []\n",
    "\n",
    "for chave, valores in dados[\"tree-0\"][\"data-0\"].items():\n",
    "    tamanho = int(chave.split(\"-\")[1])\n",
    "    tamanhos_pagina_0.append(tamanho)\n",
    "    if valores[\"seq_disk_access\"] != 0:\n",
    "        porcentagem = (valores[\"disk_access\"] / valores[\"seq_disk_access\"]) * 100\n",
    "        porcentagens_0.append(porcentagem)\n",
    "    else:\n",
    "        porcentagens_0.append(0)  # Ou outra forma de lidar com divisão por zero\n",
    "\n",
    "fig_porcentagem_data0 = go.Figure()\n",
    "fig_porcentagem_data0.add_trace(go.Scatter(x=tamanhos_pagina_0, y=porcentagens_0, mode='lines+markers', name='Disk Access / Seq. Disk Access (%)'))\n",
    "fig_porcentagem_data0.update_layout(title='Percentage of Disk Accesses (0 - Haar Transform (256 bins))',\n",
    "                                  xaxis_title='Page Size (bytes)',\n",
    "                                  yaxis_title='Disk Access / Total Disk Pages',\n",
    "                                  width=800,  # Largura\n",
    "                                  height=600)\n",
    "fig_porcentagem_data0.show()\n",
    "\n",
    "# Gráfico de porcentagem para data-1\n",
    "tamanhos_pagina_1 = []\n",
    "porcentagens_1 = []\n",
    "\n",
    "for chave, valores in dados[\"tree-0\"][\"data-1\"].items():\n",
    "    tamanho = int(chave.split(\"-\")[1])\n",
    "    tamanhos_pagina_1.append(tamanho)\n",
    "    if valores[\"seq_disk_access\"] != 0:\n",
    "        porcentagem = (valores[\"disk_access\"] / valores[\"seq_disk_access\"]) * 100\n",
    "        porcentagens_1.append(porcentagem)\n",
    "    else:\n",
    "        porcentagens_1.append(0)  # Ou outra forma de lidar com divisão por zero\n",
    "\n",
    "fig_porcentagem_data1 = go.Figure()\n",
    "fig_porcentagem_data1.add_trace(go.Scatter(x=tamanhos_pagina_1, y=porcentagens_1, mode='lines+markers', name='Disk Access / Seq. Disk Access (%)'))\n",
    "fig_porcentagem_data1.update_layout(title='Percentage of Disk Accesses (1 - Haar Transform (128 bins))',\n",
    "                                  xaxis_title='Page Size (bytes)',\n",
    "                                  yaxis_title='Disk Access / Total Disk Pages',\n",
    "                                  width=800,  # Largura\n",
    "                                  height=600)\n",
    "fig_porcentagem_data1.show()"
   ]
  },
  {
   "cell_type": "code",
   "execution_count": null,
   "id": "ba17a010",
   "metadata": {},
   "outputs": [],
   "source": []
  }
 ],
 "metadata": {
  "kernelspec": {
   "display_name": "Python 3",
   "language": "python",
   "name": "python3"
  },
  "language_info": {
   "codemirror_mode": {
    "name": "ipython",
    "version": 3
   },
   "file_extension": ".py",
   "mimetype": "text/x-python",
   "name": "python",
   "nbconvert_exporter": "python",
   "pygments_lexer": "ipython3",
   "version": "3.11.4"
  }
 },
 "nbformat": 4,
 "nbformat_minor": 5
}
