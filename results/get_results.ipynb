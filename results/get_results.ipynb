{
 "cells": [
  {
   "cell_type": "code",
   "execution_count": 1,
   "id": "5eb8058b",
   "metadata": {},
   "outputs": [],
   "source": [
    "import subprocess\n",
    "import json\n",
    "import tqdm"
   ]
  },
  {
   "cell_type": "code",
   "execution_count": 2,
   "id": "6e596a8f",
   "metadata": {},
   "outputs": [],
   "source": [
    "comando = {\n",
    "    \"tree-0\" : {\n",
    "                \"data-0\" : ['wsl', '/home/rodrigo/arboretum/main/Dogs', \"89210\", \"../data/dados-hist/dataHist20k-0.txt\", \"../data/dados-hist/dataHist20k-0-500.txt\"],\n",
    "                \"data-1\" : ['wsl', '/home/rodrigo/arboretum/main/Dogs', \"44423\", \"../data/dados-hist/dataHist20k-0.txt\", \"../data/dados-hist/dataHist20k-1-500.txt\"],\n",
    "                \"data-2\" : ['wsl', '/home/rodrigo/arboretum/main/Dogs', \"22081\", \"../data/dados-hist/dataHist20k-0.txt\", \"../data/dados-hist/dataHist20k-2-500.txt\"],\n",
    "                \"data-3\" : ['wsl', '/home/rodrigo/arboretum/main/Dogs', \"10890\", \"../data/dados-hist/dataHist20k-0.txt\", \"../data/dados-hist/dataHist20k-3-500.txt\"],\n",
    "                \"data-4\" : ['wsl', '/home/rodrigo/arboretum/main/Dogs', \"5249\", \"../data/dados-hist/dataHist20k-0.txt\", \"../data/dados-hist/dataHist20k-4-500.txt\"],\n",
    "                \"data-5\" : ['wsl', '/home/rodrigo/arboretum/main/Dogs', \"2382\", \"../data/dados-hist/dataHist20k-0.txt\", \"../data/dados-hist/dataHist20k-5-500.txt\"],\n",
    "                \"data-6\" : ['wsl', '/home/rodrigo/arboretum/main/Dogs', \"923\", \"../data/dados-hist/dataHist20k-0.txt\", \"../data/dados-hist/dataHist20k-6-500.txt\"],\n",
    "                \"data-7\" : ['wsl', '/home/rodrigo/arboretum/main/Dogs', \"201.29\", \"../data/dados-hist/dataHist20k-0.txt\", \"../data/dados-hist/dataHist20k-7-500.txt\"]\n",
    "               },\n",
    "    \"tree-1\" : {\n",
    "                \"data-1\" : ['wsl', '/home/rodrigo/arboretum/main/Dogs', \"44423\", \"../data/dados-hist/dataHist20k-1.txt\", \"../data/dados-hist/dataHist20k-1-500.txt\"],\n",
    "                \"data-2\" : ['wsl', '/home/rodrigo/arboretum/main/Dogs', \"22081\", \"../data/dados-hist/dataHist20k-1.txt\", \"../data/dados-hist/dataHist20k-2-500.txt\"],\n",
    "                \"data-3\" : ['wsl', '/home/rodrigo/arboretum/main/Dogs', \"10890\", \"../data/dados-hist/dataHist20k-1.txt\", \"../data/dados-hist/dataHist20k-3-500.txt\"],\n",
    "                \"data-4\" : ['wsl', '/home/rodrigo/arboretum/main/Dogs', \"5249\", \"../data/dados-hist/dataHist20k-1.txt\", \"../data/dados-hist/dataHist20k-4-500.txt\"],\n",
    "                \"data-5\" : ['wsl', '/home/rodrigo/arboretum/main/Dogs', \"2382\", \"../data/dados-hist/dataHist20k-1.txt\", \"../data/dados-hist/dataHist20k-5-500.txt\"],\n",
    "                \"data-6\" : ['wsl', '/home/rodrigo/arboretum/main/Dogs', \"923\", \"../data/dados-hist/dataHist20k-1.txt\", \"../data/dados-hist/dataHist20k-6-500.txt\"],\n",
    "                \"data-7\" : ['wsl', '/home/rodrigo/arboretum/main/Dogs', \"201.29\", \"../data/dados-hist/dataHist20k-1.txt\", \"../data/dados-hist/dataHist20k-7-500.txt\"]\n",
    "               },\n",
    "    \"tree-2\" : {\n",
    "                \"data-2\" : ['wsl', '/home/rodrigo/arboretum/main/Dogs', \"22081\", \"../data/dados-hist/dataHist20k-2.txt\", \"../data/dados-hist/dataHist20k-2-500.txt\"],\n",
    "                \"data-3\" : ['wsl', '/home/rodrigo/arboretum/main/Dogs', \"10890\", \"../data/dados-hist/dataHist20k-2.txt\", \"../data/dados-hist/dataHist20k-3-500.txt\"],\n",
    "                \"data-4\" : ['wsl', '/home/rodrigo/arboretum/main/Dogs', \"5249\", \"../data/dados-hist/dataHist20k-2.txt\", \"../data/dados-hist/dataHist20k-4-500.txt\"],\n",
    "                \"data-5\" : ['wsl', '/home/rodrigo/arboretum/main/Dogs', \"2382\", \"../data/dados-hist/dataHist20k-2.txt\", \"../data/dados-hist/dataHist20k-5-500.txt\"],\n",
    "                \"data-6\" : ['wsl', '/home/rodrigo/arboretum/main/Dogs', \"923\", \"../data/dados-hist/dataHist20k-2.txt\", \"../data/dados-hist/dataHist20k-6-500.txt\"],\n",
    "                \"data-7\" : ['wsl', '/home/rodrigo/arboretum/main/Dogs', \"201.29\", \"../data/dados-hist/dataHist20k-2.txt\", \"../data/dados-hist/dataHist20k-7-500.txt\"]\n",
    "               },\n",
    "    \"tree-3\" : {\n",
    "                \"data-3\" : ['wsl', '/home/rodrigo/arboretum/main/Dogs', \"10890\", \"../data/dados-hist/dataHist20k-3.txt\", \"../data/dados-hist/dataHist20k-3-500.txt\"],\n",
    "                \"data-4\" : ['wsl', '/home/rodrigo/arboretum/main/Dogs', \"5249\", \"../data/dados-hist/dataHist20k-3.txt\", \"../data/dados-hist/dataHist20k-4-500.txt\"],\n",
    "                \"data-5\" : ['wsl', '/home/rodrigo/arboretum/main/Dogs', \"2382\", \"../data/dados-hist/dataHist20k-3.txt\", \"../data/dados-hist/dataHist20k-5-500.txt\"],\n",
    "                \"data-6\" : ['wsl', '/home/rodrigo/arboretum/main/Dogs', \"923\", \"../data/dados-hist/dataHist20k-3.txt\", \"../data/dados-hist/dataHist20k-6-500.txt\"],\n",
    "                \"data-7\" : ['wsl', '/home/rodrigo/arboretum/main/Dogs', \"201.29\", \"../data/dados-hist/dataHist20k-3.txt\", \"../data/dados-hist/dataHist20k-7-500.txt\"]\n",
    "               },\n",
    "    \"tree-4\" : {\n",
    "                \"data-4\" : ['wsl', '/home/rodrigo/arboretum/main/Dogs', \"5249\", \"../data/dados-hist/dataHist20k-4.txt\", \"../data/dados-hist/dataHist20k-4-500.txt\"],\n",
    "                \"data-5\" : ['wsl', '/home/rodrigo/arboretum/main/Dogs', \"2382\", \"../data/dados-hist/dataHist20k-4.txt\", \"../data/dados-hist/dataHist20k-5-500.txt\"],\n",
    "                \"data-6\" : ['wsl', '/home/rodrigo/arboretum/main/Dogs', \"923\", \"../data/dados-hist/dataHist20k-4.txt\", \"../data/dados-hist/dataHist20k-6-500.txt\"],\n",
    "                \"data-7\" : ['wsl', '/home/rodrigo/arboretum/main/Dogs', \"201.29\", \"../data/dados-hist/dataHist20k-4.txt\", \"../data/dados-hist/dataHist20k-7-500.txt\"]\n",
    "               },\n",
    "    \"tree-5\" : {\n",
    "                \"data-5\" : ['wsl', '/home/rodrigo/arboretum/main/Dogs', \"2382\", \"../data/dados-hist/dataHist20k-5.txt\", \"../data/dados-hist/dataHist20k-5-500.txt\"],\n",
    "                \"data-6\" : ['wsl', '/home/rodrigo/arboretum/main/Dogs', \"923\", \"../data/dados-hist/dataHist20k-5.txt\", \"../data/dados-hist/dataHist20k-6-500.txt\"],\n",
    "                \"data-7\" : ['wsl', '/home/rodrigo/arboretum/main/Dogs', \"201.29\", \"../data/dados-hist/dataHist20k-5.txt\", \"../data/dados-hist/dataHist20k-7-500.txt\"]\n",
    "               },\n",
    "    \"tree-6\" : {\n",
    "                \"data-6\" : ['wsl', '/home/rodrigo/arboretum/main/Dogs', \"923\", \"../data/dados-hist/dataHist20k-6.txt\", \"../data/dados-hist/dataHist20k-6-500.txt\"],\n",
    "                \"data-7\" : ['wsl', '/home/rodrigo/arboretum/main/Dogs', \"201.29\", \"../data/dados-hist/dataHist20k-6.txt\", \"../data/dados-hist/dataHist20k-7-500.txt\"]\n",
    "               },\n",
    "    \"tree-7\" : {\n",
    "                \"data-7\" : ['wsl', '/home/rodrigo/arboretum/main/Dogs', \"201.29\", \"../data/dados-hist/dataHist20k-7.txt\", \"../data/dados-hist/dataHist20k-7-500.txt\"]\n",
    "               }\n",
    "}"
   ]
  },
  {
   "cell_type": "code",
   "execution_count": null,
   "id": "eb8477bd",
   "metadata": {},
   "outputs": [
    {
     "name": "stderr",
     "output_type": "stream",
     "text": [
      "tree-0 - data-0 - 0:   0%|          | 0/10 [00:00<?, ?it/s]"
     ]
    },
    {
     "name": "stderr",
     "output_type": "stream",
     "text": [
      "tree-0 - data-0 - 89210: 100%|██████████| 10/10 [03:24<00:00, 20.47s/it]\n",
      "tree-0 - data-1 - 38864:  70%|███████   | 7/10 [03:47<01:50, 36.88s/it]"
     ]
    },
    {
     "name": "stdout",
     "output_type": "stream",
     "text": [
      "Erro ao processar: tree-0 - data-1 - 33312\n"
     ]
    }
   ],
   "source": [
    "tree_result = {}\n",
    "for tree in comando.keys():\n",
    "    data_result = {}\n",
    "    for data in comando[tree].keys():\n",
    "        max_radius_query = float(comando[tree][data][2])\n",
    "        range_run = [i for i in range(0,int(max_radius_query),int(max_radius_query/8))]\n",
    "        if int(max_radius_query) not in range_run:\n",
    "            range_run.append(int(max_radius_query))\n",
    "        pbar = tqdm.tqdm(range_run)\n",
    "        data_result_radius = {}\n",
    "        for radius in pbar:\n",
    "            pbar.set_description(f\"{tree} - {data} - {radius}\")\n",
    "            comand_run = comando[tree][data]\n",
    "            comand_run[2] = str(radius)\n",
    "            try:\n",
    "                result_pross = subprocess.run(comand_run, capture_output=True, text=True)\n",
    "                json_str = result_pross.stdout.split(\"\\n================JSON================\\n\")[1]\n",
    "                data_result_radius[f\"radius-{radius}\"] = json.loads(json_str)\n",
    "            except:\n",
    "                print(f\"Erro ao processar: {tree} - {data} - {radius}\")\n",
    "                continue\n",
    "        data_result[data] = data_result_radius\n",
    "    tree_result[tree] = data_result"
   ]
  },
  {
   "cell_type": "code",
   "execution_count": null,
   "id": "ccec4155",
   "metadata": {},
   "outputs": [],
   "source": [
    "with open(\"results.json\", \"w\", encoding=\"utf-8\") as f:\n",
    "    json.dump(tree_result, f, ensure_ascii=False, indent=4)"
   ]
  }
 ],
 "metadata": {
  "kernelspec": {
   "display_name": "Python 3",
   "language": "python",
   "name": "python3"
  },
  "language_info": {
   "codemirror_mode": {
    "name": "ipython",
    "version": 3
   },
   "file_extension": ".py",
   "mimetype": "text/x-python",
   "name": "python",
   "nbconvert_exporter": "python",
   "pygments_lexer": "ipython3",
   "version": "3.11.9"
  }
 },
 "nbformat": 4,
 "nbformat_minor": 5
}
