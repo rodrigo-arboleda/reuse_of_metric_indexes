{
 "cells": [
  {
   "cell_type": "code",
   "execution_count": 6,
   "id": "5eb8058b",
   "metadata": {},
   "outputs": [],
   "source": [
    "import subprocess\n",
    "import json\n",
    "import tqdm"
   ]
  },
  {
   "cell_type": "code",
   "execution_count": 7,
   "id": "6e596a8f",
   "metadata": {},
   "outputs": [],
   "source": [
    "comando = {\n",
    "    \"tree-0\" : {\n",
    "                \"data-0\" : [['wsl', '/home/rodrigo/arboretum/arboretum/main/Dogs', \"22830\", \"../data/dados-hist/dataHist20k-0.txt\", \"../data/dados-hist/dataHist20k-0-500.txt\", \"32768\"],\n",
    "                            ['wsl', '/home/rodrigo/arboretum/arboretum/main/Dogs', \"22830\", \"../data/dados-hist/dataHist20k-0.txt\", \"../data/dados-hist/dataHist20k-0-500.txt\", \"65536\"],\n",
    "                            ['wsl', '/home/rodrigo/arboretum/arboretum/main/Dogs', \"22830\", \"../data/dados-hist/dataHist20k-0.txt\", \"../data/dados-hist/dataHist20k-0-500.txt\", \"131072\"],\n",
    "                            ['wsl', '/home/rodrigo/arboretum/arboretum/main/Dogs', \"22830\", \"../data/dados-hist/dataHist20k-0.txt\", \"../data/dados-hist/dataHist20k-0-500.txt\", \"262144\"]],\n",
    "                \"data-1\" : [['wsl', '/home/rodrigo/arboretum/arboretum/main/Dogs', \"11320\", \"../data/dados-hist/dataHist20k-0.txt\", \"../data/dados-hist/dataHist20k-1-500.txt\", \"32768\"],\n",
    "                            ['wsl', '/home/rodrigo/arboretum/arboretum/main/Dogs', \"11320\", \"../data/dados-hist/dataHist20k-0.txt\", \"../data/dados-hist/dataHist20k-1-500.txt\", \"65536\"],\n",
    "                            ['wsl', '/home/rodrigo/arboretum/arboretum/main/Dogs', \"11320\", \"../data/dados-hist/dataHist20k-0.txt\", \"../data/dados-hist/dataHist20k-1-500.txt\", \"131072\"],\n",
    "                            ['wsl', '/home/rodrigo/arboretum/arboretum/main/Dogs', \"11320\", \"../data/dados-hist/dataHist20k-0.txt\", \"../data/dados-hist/dataHist20k-1-500.txt\", \"262144\"]]\n",
    "                }\n",
    "}"
   ]
  },
  {
   "cell_type": "code",
   "execution_count": 14,
   "id": "eb8477bd",
   "metadata": {},
   "outputs": [
    {
     "name": "stderr",
     "output_type": "stream",
     "text": [
      "tree-0 - data-0 - 262144: 100%|██████████| 4/4 [00:50<00:00, 12.59s/it]\n",
      "tree-0 - data-1 - 262144: 100%|██████████| 4/4 [01:31<00:00, 22.91s/it]\n"
     ]
    }
   ],
   "source": [
    "tree_result = {}\n",
    "for tree in comando.keys():\n",
    "    data_result = {}\n",
    "    for data in comando[tree].keys():\n",
    "        pbar = tqdm.tqdm(comando[tree][data])\n",
    "        data_result_page = {}\n",
    "        for comando_page in pbar:\n",
    "            pbar.set_description(f\"{tree} - {data} - {comando_page[5]}\")\n",
    "            try:\n",
    "                result_pross = subprocess.run(comando_page, capture_output=True, text=True)\n",
    "                json_str = result_pross.stdout.split(\"\\n================JSON================\\n\")[1]\n",
    "                data_result_page[f\"page_size-{comando_page[5]}\"] = json.loads(json_str)\n",
    "            except:\n",
    "                print(f\"Erro ao processar: {tree} - {data} - {comando_page[5]}\")\n",
    "                continue\n",
    "        data_result[data] = data_result_page\n",
    "    tree_result[tree] = data_result"
   ]
  },
  {
   "cell_type": "code",
   "execution_count": 11,
   "id": "f3772abc",
   "metadata": {},
   "outputs": [],
   "source": [
    "seq_list = [1372, 664, 332, 165]"
   ]
  },
  {
   "cell_type": "code",
   "execution_count": 15,
   "id": "da414c31",
   "metadata": {},
   "outputs": [],
   "source": [
    "for tree in tree_result.keys():\n",
    "    for data in tree_result[tree].keys():\n",
    "        for n, page in enumerate(tree_result[tree][data].keys()):\n",
    "            tree_result[tree][data][page][\"seq_disk_access\"] = seq_list[n]"
   ]
  },
  {
   "cell_type": "code",
   "execution_count": 16,
   "id": "8e9ee2e4",
   "metadata": {},
   "outputs": [],
   "source": [
    "with open(\"results_page.json\", \"w\", encoding=\"utf-8\") as f:\n",
    "    json.dump(tree_result, f, ensure_ascii=False, indent=4)"
   ]
  },
  {
   "cell_type": "code",
   "execution_count": null,
   "id": "87e6ceac",
   "metadata": {},
   "outputs": [],
   "source": []
  }
 ],
 "metadata": {
  "kernelspec": {
   "display_name": "Python 3",
   "language": "python",
   "name": "python3"
  },
  "language_info": {
   "codemirror_mode": {
    "name": "ipython",
    "version": 3
   },
   "file_extension": ".py",
   "mimetype": "text/x-python",
   "name": "python",
   "nbconvert_exporter": "python",
   "pygments_lexer": "ipython3",
   "version": "3.11.4"
  }
 },
 "nbformat": 4,
 "nbformat_minor": 5
}
